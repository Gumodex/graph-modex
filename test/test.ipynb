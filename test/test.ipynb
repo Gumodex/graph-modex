{
 "cells": [
  {
   "cell_type": "code",
   "execution_count": 1,
   "id": "6c47784b",
   "metadata": {},
   "outputs": [],
   "source": [
    "import os\n",
    "import sys\n",
    "\n",
    "import pandas as pd\n",
    "import numpy as np\n",
    "import plotly.graph_objects as go\n",
    "import plotly.express as px\n",
    "import plotly.figure_factory as ff\n",
    "import plotly.subplots as subplots\n",
    "\n",
    "from typing import Union, Literal\n",
    "\n",
    "sys.path.append(os.path.abspath('..'))\n",
    "from graphmodex import plotlymodex"
   ]
  },
  {
   "cell_type": "code",
   "execution_count": 2,
   "id": "97e40dc5",
   "metadata": {},
   "outputs": [],
   "source": [
    "n_rows = 10000\n",
    "n_cols = 20\n",
    "\n",
    "dates = pd.date_range(start=\"2025-01-01\", end=\"2025-05-30\", periods=n_rows)\n",
    "\n",
    "data = {\"date\": dates}\n",
    "\n",
    "for i in range(3):\n",
    "    data[f\"cat_30_{i}\"] = np.random.choice([f\"{j}\" for j in range(30)], size=n_rows)\n",
    "for i in range(2):\n",
    "    data[f\"cat_5_{i}\"] = np.random.choice([f\"{j}\" for j in ['a','b','c','d','e']], size=n_rows)\n",
    "\n",
    "# Generate 5 integer columns (ordered, like credit history length, loan duration)\n",
    "for i in range(5):\n",
    "    data[f\"int_{i}\"] = np.random.randint(0, 100, size=n_rows)\n",
    "\n",
    "# Generate 5 float columns (e.g. income, loan amount, utilization)\n",
    "for i in range(5):\n",
    "    data[f\"float_{i}\"] = np.random.normal(loc=5000, scale=2000, size=n_rows)\n",
    "    data[f\"float_{i+4}\"] = np.random.normal(loc=0, scale=1, size=n_rows)\n",
    "\n",
    "# Generate 2 columns with mostly missing values\n",
    "data[\"mostly_nan_1\"] = np.where(np.random.rand(n_rows) < 0.95, np.nan, np.random.rand(n_rows))\n",
    "data[\"mostly_nan_2\"] = np.where(np.random.rand(n_rows) < 0.9, np.nan, np.random.rand(n_rows))\n",
    "\n",
    "# Generate 1 column with some special missing values (inf, -inf)\n",
    "special_col = np.random.normal(loc=100, scale=50, size=n_rows)\n",
    "special_col[np.random.choice(n_rows, size=10, replace=False)] = np.inf\n",
    "special_col[np.random.choice(n_rows, size=10, replace=False)] = -np.inf\n",
    "special_col[np.random.choice(n_rows, size=100, replace=False)] = np.nan\n",
    "data[\"special_missing\"] = special_col\n",
    "\n",
    "# Fixing the target column to handle NaNs by using float type\n",
    "target = np.random.choice([0, 1], size=n_rows).astype(float)\n",
    "mask = np.random.rand(n_rows) < 0.2\n",
    "target[mask] = np.nan\n",
    "data[\"target\"] = target\n",
    "\n",
    "for i, col in enumerate([col for col in data if col.startswith(\"cat_\")]):\n",
    "    if (i == 3) or (i == 1): continue\n",
    "    nan_indices = np.random.choice(n_rows, size=50, replace=False)\n",
    "    temp_col = np.array(data[col], dtype=object)\n",
    "    temp_col[nan_indices] = np.nan\n",
    "    data[col] = temp_col\n",
    "\n",
    "# Insert a few NaNs into the float columns\n",
    "for i, col in enumerate([col for col in data if col.startswith(\"float_\")]):\n",
    "    if (i == 3): break\n",
    "    nan_indices = np.random.choice(n_rows, size=30, replace=False)\n",
    "    temp_col = data[col]\n",
    "    temp_col[nan_indices] = np.nan\n",
    "    data[col] = temp_col\n",
    "\n",
    "# Convert to DataFrame\n",
    "df = pd.DataFrame(data)"
   ]
  },
  {
   "cell_type": "code",
   "execution_count": null,
   "id": "5e56766b",
   "metadata": {},
   "outputs": [
    {
     "data": {
      "application/vnd.plotly.v1+json": {
       "config": {
        "plotlyServerURL": "https://plot.ly"
       },
       "data": [
        {
         "hovertemplate": "x: %{x}<br>y: %{y}",
         "line": {
          "color": "rgb(217, 217, 217)",
          "dash": "dot"
         },
         "mode": "lines",
         "name": "50% máx (reference)",
         "type": "scatter",
         "x": {
          "bdata": "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",
          "dtype": "f8"
         },
         "y": [
          0.5,
          0.5,
          0.5,
          0.5,
          0.5,
          0.5,
          0.5,
          0.5,
          0.5,
          0.5,
          0.5,
          0.5,
          0.5,
          0.5,
          0.5,
          0.5,
          0.5,
          0.5,
          0.5,
          0.5,
          0.5,
          0.5,
          0.5,
          0.5,
          0.5,
          0.5,
          0.5,
          0.5,
          0.5,
          0.5,
          0.5,
          0.5,
          0.5,
          0.5,
          0.5,
          0.5,
          0.5,
          0.5,
          0.5,
          0.5,
          0.5,
          0.5,
          0.5,
          0.5,
          0.5,
          0.5,
          0.5,
          0.5,
          0.5,
          0.5,
          0.5,
          0.5,
          0.5,
          0.5,
          0.5,
          0.5,
          0.5,
          0.5,
          0.5,
          0.5,
          0.5,
          0.5,
          0.5,
          0.5,
          0.5,
          0.5,
          0.5,
          0.5,
          0.5,
          0.5,
          0.5,
          0.5,
          0.5,
          0.5,
          0.5,
          0.5,
          0.5,
          0.5,
          0.5,
          0.5,
          0.5,
          0.5,
          0.5,
          0.5,
          0.5,
          0.5,
          0.5,
          0.5,
          0.5,
          0.5,
          0.5,
          0.5,
          0.5,
          0.5,
          0.5,
          0.5,
          0.5,
          0.5,
          0.5,
          0.5,
          0.5,
          0.5,
          0.5,
          0.5,
          0.5,
          0.5,
          0.5,
          0.5,
          0.5,
          0.5,
          0.5,
          0.5,
          0.5,
          0.5,
          0.5,
          0.5,
          0.5,
          0.5,
          0.5,
          0.5,
          0.5,
          0.5,
          0.5,
          0.5,
          0.5,
          0.5,
          0.5,
          0.5,
          0.5,
          0.5,
          0.5,
          0.5,
          0.5,
          0.5,
          0.5,
          0.5,
          0.5,
          0.5,
          0.5,
          0.5,
          0.5,
          0.5,
          0.5,
          0.5,
          0.5,
          0.5,
          0.5,
          0.5,
          0.5,
          0.5,
          0.5,
          0.5,
          0.5,
          0.5,
          0.5,
          0.5,
          0.5,
          0.5,
          0.5,
          0.5,
          0.5,
          0.5,
          0.5,
          0.5,
          0.5,
          0.5,
          0.5,
          0.5,
          0.5,
          0.5,
          0.5,
          0.5,
          0.5,
          0.5,
          0.5,
          0.5,
          0.5,
          0.5,
          0.5,
          0.5,
          0.5,
          0.5,
          0.5,
          0.5,
          0.5,
          0.5,
          0.5,
          0.5,
          0.5,
          0.5,
          0.5,
          0.5,
          0.5,
          0.5,
          0.5,
          0.5,
          0.5,
          0.5,
          0.5,
          0.5,
          0.5,
          0.5,
          0.5,
          0.5,
          0.5,
          0.5,
          0.5,
          0.5,
          0.5,
          0.5,
          0.5,
          0.5,
          0.5,
          0.5,
          0.5,
          0.5,
          0.5,
          0.5,
          0.5,
          0.5,
          0.5,
          0.5,
          0.5,
          0.5,
          0.5,
          0.5,
          0.5,
          0.5,
          0.5,
          0.5,
          0.5,
          0.5,
          0.5,
          0.5,
          0.5,
          0.5,
          0.5,
          0.5,
          0.5,
          0.5,
          0.5,
          0.5,
          0.5,
          0.5,
          0.5,
          0.5,
          0.5,
          0.5,
          0.5,
          0.5,
          0.5,
          0.5,
          0.5,
          0.5,
          0.5,
          0.5,
          0.5,
          0.5,
          0.5,
          0.5,
          0.5,
          0.5,
          0.5,
          0.5,
          0.5,
          0.5,
          0.5,
          0.5,
          0.5,
          0.5,
          0.5,
          0.5,
          0.5,
          0.5,
          0.5,
          0.5,
          0.5,
          0.5,
          0.5,
          0.5,
          0.5,
          0.5,
          0.5,
          0.5,
          0.5,
          0.5,
          0.5,
          0.5,
          0.5,
          0.5,
          0.5,
          0.5,
          0.5,
          0.5,
          0.5,
          0.5,
          0.5,
          0.5,
          0.5,
          0.5,
          0.5,
          0.5,
          0.5,
          0.5,
          0.5,
          0.5,
          0.5,
          0.5,
          0.5,
          0.5,
          0.5,
          0.5,
          0.5,
          0.5,
          0.5,
          0.5,
          0.5,
          0.5,
          0.5,
          0.5,
          0.5,
          0.5,
          0.5,
          0.5,
          0.5,
          0.5,
          0.5,
          0.5,
          0.5,
          0.5,
          0.5,
          0.5,
          0.5,
          0.5,
          0.5,
          0.5,
          0.5,
          0.5,
          0.5,
          0.5,
          0.5,
          0.5,
          0.5,
          0.5,
          0.5,
          0.5,
          0.5,
          0.5,
          0.5,
          0.5,
          0.5,
          0.5,
          0.5,
          0.5,
          0.5,
          0.5,
          0.5,
          0.5,
          0.5,
          0.5,
          0.5,
          0.5,
          0.5,
          0.5,
          0.5,
          0.5,
          0.5,
          0.5,
          0.5,
          0.5,
          0.5,
          0.5,
          0.5,
          0.5,
          0.5,
          0.5,
          0.5,
          0.5,
          0.5,
          0.5,
          0.5,
          0.5,
          0.5,
          0.5,
          0.5,
          0.5,
          0.5,
          0.5,
          0.5,
          0.5,
          0.5,
          0.5,
          0.5,
          0.5,
          0.5,
          0.5,
          0.5,
          0.5,
          0.5,
          0.5,
          0.5,
          0.5,
          0.5,
          0.5,
          0.5,
          0.5,
          0.5,
          0.5,
          0.5,
          0.5,
          0.5,
          0.5,
          0.5,
          0.5,
          0.5,
          0.5,
          0.5,
          0.5,
          0.5,
          0.5,
          0.5,
          0.5,
          0.5,
          0.5,
          0.5,
          0.5,
          0.5,
          0.5,
          0.5,
          0.5,
          0.5,
          0.5,
          0.5,
          0.5,
          0.5,
          0.5,
          0.5,
          0.5,
          0.5,
          0.5,
          0.5,
          0.5,
          0.5,
          0.5,
          0.5,
          0.5,
          0.5,
          0.5,
          0.5,
          0.5,
          0.5,
          0.5,
          0.5,
          0.5,
          0.5,
          0.5,
          0.5,
          0.5,
          0.5,
          0.5,
          0.5,
          0.5,
          0.5,
          0.5,
          0.5,
          0.5,
          0.5,
          0.5,
          0.5,
          0.5,
          0.5,
          0.5,
          0.5,
          0.5,
          0.5,
          0.5,
          0.5,
          0.5,
          0.5,
          0.5,
          0.5,
          0.5,
          0.5,
          0.5,
          0.5,
          0.5,
          0.5,
          0.5,
          0.5,
          0.5,
          0.5,
          0.5,
          0.5,
          0.5,
          0.5,
          0.5,
          0.5,
          0.5,
          0.5,
          0.5
         ]
        },
        {
         "hovertemplate": "x: %{x}<br>y: %{y}",
         "line": {
          "color": "#000000"
         },
         "mode": "lines",
         "name": "Stimulus I (receptor)",
         "type": "scatter",
         "x": {
          "bdata": "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",
          "dtype": "f8"
         },
         "y": {
          "bdata": "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",
          "dtype": "f8"
         }
        },
        {
         "hovertemplate": "x: %{x}<br>y: %{y}",
         "line": {
          "color": "#7a7a7a"
         },
         "mode": "lines",
         "name": "Stimulus II (transductor)",
         "type": "scatter",
         "x": {
          "bdata": "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",
          "dtype": "f8"
         },
         "y": {
          "bdata": "5DHblJpboD/XwjQZUaagPw/nfIpN8qA/fbiZ6ZQ/oT9fqQpGLI6hP2an4r0Y3qE/Pf6/fV8voj+B4sHABYKiPx+Oe9AQ1qI/SdbkBIYroz/IIkjEaoKjPyWuLYPE2qM/TfVDxJg0pD9pPUUY7Y+kP5gV2h3H7KQ/Vbp4gSxLpT9tP0H9IqulP4Bl1liwDKY/GP8yadpvpj+QyXsQp9SmPzWdzT0cO6c/9dcH7T+jpz+X5ZImGA2oPyTIIv+qeKg/44J1l/7lqD8zSg0cGVWpPxla5sQAxqk/fVUo1bs4qj+TD9OaUK2qP1KhZm7FI6s/P6yGsiCcqz82rJjTaBasP845XUekkqw/2R6EjNkQrT/5HjsqD5GtPxxWt69LE64/Kg+5s5WXrj989QnU8x2vP7GD9bRspq8/2MldgIMYsD+MeX6z5F6wP4DwEE5dprA/zixdrPDusD/mCmwsojixP3oSsS11g7E/VgSxEG3PsT8sHaU2jRyyP0gCGwHZarI/MU2R0VO6sj9VrBAJAQuzPzOPwQfkXLM/WVV+LACwsz9L+GHUWAS0PyspU1rxWbQ/89uLFs2wtD/iOh1e7wi1P+79b4JbYrU/wyLB0BS9tT9lA5uRHhm2P0TKSgh8drY/IERScjDVtj8pEdYGPzW3P1U4CPaqlrc/HyGPaHf5tz9u+eh+p124PxWPy1A+w7g/jKWA7D4quT+w0j5WrJK5P5vufoeJ/Lk/zCRObtlnuj9YtpzsntS6Pw1/idfcQrs/OFGq9pWyuz/PPVEDzSO8P+TgzqeElrw/Psyxfr8KvT9FLAMSgIC9P5TFgNrI970/1WvUPpxwvj+7FMmS/Oq+P3WsfRbsZr8/I9OV9Wzkvz+wVjSjwDHAPzv6loQVcsA/bbqUEzazwD9oluo4I/XAPzwfBdHdN8E/KXaUq2Z7wT8+7B+Lvr/BPydhmSTmBMI/A4DwHt5Kwj9i+qUSp5HCP7riXolB2cI/0Eh4/a0hwz/WO5vZ7GrDP/RWUXj+tMM/Qf6ZI+P/wz8bc4AUm0vEP/PnsnImmMQ/mLwaVIXlxD/tDHa8tzPFPwO98py9gsU/Ki7L05bSxT+qyeQrQyPGPxKOcFzCdMY/M82NCBTHxj8ISe++NxrHP2jegvksbsc/5uwbHfPCxz9HqyB5iRjIP4CYOkfvbsg/CzkKqyPGyD9zUN6xJR7JPwjHblL0dsk/N2ubbI7QyT/UvS7J8irKPzr4pBkghso/fXr39xTiyj9Iz2zmzz7LP0hybU9PnMs/zYRdhZH6yz+ym3vClFnMP9zPxChXucw/1znewdYZzT8Y/wN/EXvNP3AW/jgF3c0/2eYasK8/zj+J4i+MDqPOP7E9oFwfB88/ut5pmN9rzz8DozieTNHPP6cIQNqxG9A/IMjNBBFP0D9jmvpZwoLQP9KcGVnEttA/RRe2dRXr0D8S9bAXtB/RP8SjYZueVNE/Slq6UdOJ0T+syW+AUL/RP8I2JGIU9dE/zvqVJh0r0j8xZ9HyaGHSP4QGZuH1l9I/KzSfAsLO0j8GAcBcywXTP+taQuwPPdM/IWoZpI100z/rFvdtQqzTPxKnlCos5NM/22H+sUgc1D8RJ+LTlVTUPxfk4FcRjdQ/XNDi/bjF1D/5WG5+iv7UP4ehAYuDN9U/5n5uzqFw1T8Mzzjt4qnVP6wP94VE49U//xO1McQc1j/XuFiEX1bWP9x0CA0UkNY/nqGTVt/J1j8yWdznvgPXPw3DQkSwPdc/x6kR7LB31z/uMuxcvrHXP/2QPBLW69c/S4ejhfUl2D/ilmgvGmDYPyWr6oZBmtg/iBwRA2nU2D+V37wajg7ZP1G2OUWuSNk/ETqv+saC2T/ik5G01bzZP/C5Ee7X9tk/iAiNJMsw2j/TDfzXrGraP+JfYIt6pNo/JVUxxTHe2j9feMcP0BfbP4uRxvlSUds/gh6GFriK2z+zFnj+/MPbP8DWjU8f/ds/hhGbrRw23D+wpbbC8m7cP/k3mT+fp9w/tnP52x/g3D+f1OVWchjdP2veG3eUUN0/CqhcC4SI3T9Aor7qPsDdP5WC/PTC990/iD3BEg4v3j9z/PA1HmbeP1D97lnxnN4/LUzgg4XT3j8VSOvC2AnfP5zmczDpP98/NKtU8LR13z9NSRQxOqvfP3DpFyx34N8/BQbpErUK4D/IAve2CCXgP+cIvK81P+A/1/6AMDtZ4D8nNGJyGHPgPwdPXrTMjOA/v4hjO1em4D/1O1tSt7/gPzDIM0rs2OA/3M7oefXx4D+3zok+0grhPycjP/uBI+E/p21NGQQ84T8dcBcIWFThP1dfHj19bOE/mLUANHOE4T+IjXduOZzhP2COUnTPs+E/jnJy0zTL4T+CMsIfaeLhP5vdLvNr+eE/qSue7TwQ4j+P0eO02ybiPxqktfRHPeI/GZSeXoFT4j8lj/Cph2niP6hQtZNaf+I/0S6e3vmU4j9I7/JSZariP36vf76cv+I/neyB9J/U4j/7tpTNbuniPx8dnCcJ/uI/Odqv5W4S4z8LVAXwnybjP/fz2DOcOuM/CudWo2NO4z+UUIM19mHjP8b6IeZTdeM/rpCdtXyI4z+gbO6ocJvjPzEGgckvruM/QAocJbrA4z/HJ8bND9PjP6ebq9kw5eM/d4UDYx334z8vD/WH1QjkPxZxfGpZGuQ/TNtPMKkr5D/XTcQCxTzkP9Nnsg6tTeQ/NzZbhGFe5D8uCk2X4m7kP8VeSH4wf+Q/e9Ukc0uP5D+sULayM5/kP9YysnzpruQ/JMmUE22+5D9454a8vs3kP+K7Q7/e3OQ/FN/+Zc3r5D8kp0r9ivrkP5PB/tMXCeU/TRkfO3QX5T8DDcOFoCXlPwT6/AidM+U/XB/CG2pB5T/N3NIWCE/lP+xQo1R3XOU/T1lEMbhp5T+r90wKy3blP0sexD6wg+U/IuYKL2iQ5T+JMMc885zlP1e2zspRqeU/BoYSPYS15T8e8or4isHlPxPxI2NmzeU/hO+p4xbZ5T+lFbfhnOTlP0IAocX47+U/5u1m+Cr75T86YKDjMwbmP7QxbPETEeY/hR9gjMsb5j9vx3gfWybmPzAZChbDMOY/+Dqw2wM75j9C4EDcHUXmP0USvYMRT+Y/LmlDPt9Y5j8ZtQJ4h2LmP7MVLZ0KbOY/b3/rGWl15j/urFFao37mP2p7Usq5h+Y/jbC01ayQ5j97KAjofJnmP0Bqm2wqouY/SaFxzrWq5j8k+jh4H7PmP9tgQdRnu+Y/Pp9zTI/D5j9K2UhKlsvmP/VlwjZ90+Y/eQJiekTb5j9bXiJ97OLmP0H+b6Z16uY/w3MiXeDx5j9M6HUHLfnmPzT5BAtcAOc/CuPCzG0H5z9b+vWwYg7nP9hvMhs7Fec/Jl5Vbvcb5z8/H4AMmCLnP7rnE1cdKec/6aWtrocv5z8HIyJz1zXnP5tkegMNPOc/OUzwvShC5z/Lc+v/KkjnP5NE/iUUTuc/NEfji+RT5z/nqnqMnFnnPykCyIE8X+c/OjPwxMRk5z+qmjeuNWrnP1JeAJWPb+c/LO/Iz9J05z9NuCq0/3nnP4b52JYWf+c/IMyfyxeE5z8gUGOlA4nnP6gAH3bajec/+i3ljpyS5z+im94/SpfnP4BBStjjm+c/OS59pmmg5z/EieL326TnP8+2+xg7qec/oJFgVYet5z9Qy7/3wLHnPw9g30notec/VyedlP255z/ifO8fAb7nPz0B5jLzwec/7nCqE9TF5z8QkYEHpMnnP2kwzFJjzec/9TsIORLR5z/o5dH8sNTnPz/e5N8/2Oc/7JsdI7/b5z/DtXoGL9/nP0BKHsmP4uc/V3VPqeHl5z+C03vkJOnnPzkRObdZ7Oc/IYZGXYDv5z8r244RmfLnP+q6KQ6k9ec/gYtdjKH45z9yMaHEkfvnP6zane50/uc/PtEwQUsB6D8TVW3yFAToPyh8njfSBug/qRhJRYMJ6D96pC1PKAzoP44xSojBDug/qV7cIk8R6D8NUGNQ0RPoP5CroUFIFug/u5efJrQY6D94vawuFRvoP/1LYohrHeg/cv6kYbcf6D8UI6fn+CHoP2Gj6kYwJOg/Ag1Dq10m6D8hm9c/gSjoP9I/JS+bKug/R60Ao6ss6D+VXpjEsi7oP6afdrywMOg/M5SDsqUy6D97PQfOkTToP3x+qzV1Nug/ah5+D1A46D9NyfKAIjroP28O5a7sO+g/gFyava496D81+8PQaD/oP0oCgQsbQeg/oE1gkMVC6D9rbmKBaEToPz+Z+/8DRug/2ZAVLZhH6D+JjREpJUnoPx0hyhOrSug/KxeVDCpM6D+nUUUyok3oP6uhLKMTT+g/U5wdfX5Q6D+ma23d4lHoP1+b9eBAU+g/quEVpJhU6D+d47VC6lXoP3L1Rtg1V+g/fNbFf3tY6D+saLxTu1noP8NjQ271Wug/BAQE6Slc6D9utDndWF3oP3S0s2OCXug/LrnWlKZf6D/wiZ6IxWDoP1yYn1bfYeg/zpMIFvRi6D8x+KPdA2ToPzaY2cMOZeg/7yKw3hRm6D/DpM5DFmfoP8kDfggTaOg/f3eqQQtp6D/j++QD/2noP/q/ZGPuaug/sI8IdNlr6D8oOVhJwGzoP4Hthfaibeg/AZ1vjoFu6D/ETqAjXG/oP9dzUcgycOg/6DVsjgVx6D9zwYqH1HHoP3mL+cSfcug/2JK4V2dz6D87nXxQK3ToP6hvsL/rdOg/xAJ2tah16D/AsqdBYnboPwxr2XMYd+g/xs1ZW8t36D8AVzMHe3joP9J7LYYneeg/UcXN5tB56D9x51g3d3roP9fT04Uae+g/oMgE4Lp76D9BW3RTWHzoP2N/bu3yfOg/3okDu4p96D/lLwnJH37oP1GCGySyfug/JuWd2EF/6D9pA7zyzn/oPzK/an5ZgOg/IB5ph+GA6D8wMkEZZ4HoP/r+SD/qgeg/cVujBGuC6D8Z0EB06YLoP9Nx4Jhlg+g/PLkQfd+D6D+zVjArV4ToPwIDb63MhOg/zUzODUCF6D+3YiJWsYXoP1raEpAghug/EnQbxY2G6D+q24z++IboPwBmjUVih+g/iMsZo8mH6D/o3wUgL4joP5VG/cSSiOg/fySEmvSI6D/lzveoVInoP1V3j/iyieg/1dRckQ+K6D9Rykx7aoroP08KKL7Diug/9reTYRuL6D9oBRJtcYvoP4/PAujFi+g/STek2RiM6D8XOBNJaozoP0M8TD26jOg/nq4rvQiN6D/EiW7PVY3oPwTlsnqhjeg/7354xeuN6D+ORSG2NI7oP1zc8VJ8jug/9x8SosKO6D+Wp42pB4/oPw==",
          "dtype": "f8"
         }
        },
        {
         "hovertemplate": "x: %{x}<br>y: %{y}",
         "line": {
          "color": "#50dd40",
          "width": 3
         },
         "mode": "lines",
         "name": "Final Response (physiological)",
         "type": "scatter",
         "x": {
          "bdata": "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",
          "dtype": "f8"
         },
         "y": {
          "bdata": "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",
          "dtype": "f8"
         }
        }
       ],
       "layout": {
        "height": 600,
        "legend": {
         "bgcolor": "#ffffff",
         "bordercolor": "black",
         "borderwidth": 1,
         "orientation": "v",
         "x": 0.55,
         "y": 0.04
        },
        "paper_bgcolor": "white",
        "plot_bgcolor": "white",
        "showlegend": true,
        "template": {
         "data": {
          "bar": [
           {
            "error_x": {
             "color": "#2a3f5f"
            },
            "error_y": {
             "color": "#2a3f5f"
            },
            "marker": {
             "line": {
              "color": "#E5ECF6",
              "width": 0.5
             },
             "pattern": {
              "fillmode": "overlay",
              "size": 10,
              "solidity": 0.2
             }
            },
            "type": "bar"
           }
          ],
          "barpolar": [
           {
            "marker": {
             "line": {
              "color": "#E5ECF6",
              "width": 0.5
             },
             "pattern": {
              "fillmode": "overlay",
              "size": 10,
              "solidity": 0.2
             }
            },
            "type": "barpolar"
           }
          ],
          "carpet": [
           {
            "aaxis": {
             "endlinecolor": "#2a3f5f",
             "gridcolor": "white",
             "linecolor": "white",
             "minorgridcolor": "white",
             "startlinecolor": "#2a3f5f"
            },
            "baxis": {
             "endlinecolor": "#2a3f5f",
             "gridcolor": "white",
             "linecolor": "white",
             "minorgridcolor": "white",
             "startlinecolor": "#2a3f5f"
            },
            "type": "carpet"
           }
          ],
          "choropleth": [
           {
            "colorbar": {
             "outlinewidth": 0,
             "ticks": ""
            },
            "type": "choropleth"
           }
          ],
          "contour": [
           {
            "colorbar": {
             "outlinewidth": 0,
             "ticks": ""
            },
            "colorscale": [
             [
              0,
              "#0d0887"
             ],
             [
              0.1111111111111111,
              "#46039f"
             ],
             [
              0.2222222222222222,
              "#7201a8"
             ],
             [
              0.3333333333333333,
              "#9c179e"
             ],
             [
              0.4444444444444444,
              "#bd3786"
             ],
             [
              0.5555555555555556,
              "#d8576b"
             ],
             [
              0.6666666666666666,
              "#ed7953"
             ],
             [
              0.7777777777777778,
              "#fb9f3a"
             ],
             [
              0.8888888888888888,
              "#fdca26"
             ],
             [
              1,
              "#f0f921"
             ]
            ],
            "type": "contour"
           }
          ],
          "contourcarpet": [
           {
            "colorbar": {
             "outlinewidth": 0,
             "ticks": ""
            },
            "type": "contourcarpet"
           }
          ],
          "heatmap": [
           {
            "colorbar": {
             "outlinewidth": 0,
             "ticks": ""
            },
            "colorscale": [
             [
              0,
              "#0d0887"
             ],
             [
              0.1111111111111111,
              "#46039f"
             ],
             [
              0.2222222222222222,
              "#7201a8"
             ],
             [
              0.3333333333333333,
              "#9c179e"
             ],
             [
              0.4444444444444444,
              "#bd3786"
             ],
             [
              0.5555555555555556,
              "#d8576b"
             ],
             [
              0.6666666666666666,
              "#ed7953"
             ],
             [
              0.7777777777777778,
              "#fb9f3a"
             ],
             [
              0.8888888888888888,
              "#fdca26"
             ],
             [
              1,
              "#f0f921"
             ]
            ],
            "type": "heatmap"
           }
          ],
          "histogram": [
           {
            "marker": {
             "pattern": {
              "fillmode": "overlay",
              "size": 10,
              "solidity": 0.2
             }
            },
            "type": "histogram"
           }
          ],
          "histogram2d": [
           {
            "colorbar": {
             "outlinewidth": 0,
             "ticks": ""
            },
            "colorscale": [
             [
              0,
              "#0d0887"
             ],
             [
              0.1111111111111111,
              "#46039f"
             ],
             [
              0.2222222222222222,
              "#7201a8"
             ],
             [
              0.3333333333333333,
              "#9c179e"
             ],
             [
              0.4444444444444444,
              "#bd3786"
             ],
             [
              0.5555555555555556,
              "#d8576b"
             ],
             [
              0.6666666666666666,
              "#ed7953"
             ],
             [
              0.7777777777777778,
              "#fb9f3a"
             ],
             [
              0.8888888888888888,
              "#fdca26"
             ],
             [
              1,
              "#f0f921"
             ]
            ],
            "type": "histogram2d"
           }
          ],
          "histogram2dcontour": [
           {
            "colorbar": {
             "outlinewidth": 0,
             "ticks": ""
            },
            "colorscale": [
             [
              0,
              "#0d0887"
             ],
             [
              0.1111111111111111,
              "#46039f"
             ],
             [
              0.2222222222222222,
              "#7201a8"
             ],
             [
              0.3333333333333333,
              "#9c179e"
             ],
             [
              0.4444444444444444,
              "#bd3786"
             ],
             [
              0.5555555555555556,
              "#d8576b"
             ],
             [
              0.6666666666666666,
              "#ed7953"
             ],
             [
              0.7777777777777778,
              "#fb9f3a"
             ],
             [
              0.8888888888888888,
              "#fdca26"
             ],
             [
              1,
              "#f0f921"
             ]
            ],
            "type": "histogram2dcontour"
           }
          ],
          "mesh3d": [
           {
            "colorbar": {
             "outlinewidth": 0,
             "ticks": ""
            },
            "type": "mesh3d"
           }
          ],
          "parcoords": [
           {
            "line": {
             "colorbar": {
              "outlinewidth": 0,
              "ticks": ""
             }
            },
            "type": "parcoords"
           }
          ],
          "pie": [
           {
            "automargin": true,
            "type": "pie"
           }
          ],
          "scatter": [
           {
            "fillpattern": {
             "fillmode": "overlay",
             "size": 10,
             "solidity": 0.2
            },
            "type": "scatter"
           }
          ],
          "scatter3d": [
           {
            "line": {
             "colorbar": {
              "outlinewidth": 0,
              "ticks": ""
             }
            },
            "marker": {
             "colorbar": {
              "outlinewidth": 0,
              "ticks": ""
             }
            },
            "type": "scatter3d"
           }
          ],
          "scattercarpet": [
           {
            "marker": {
             "colorbar": {
              "outlinewidth": 0,
              "ticks": ""
             }
            },
            "type": "scattercarpet"
           }
          ],
          "scattergeo": [
           {
            "marker": {
             "colorbar": {
              "outlinewidth": 0,
              "ticks": ""
             }
            },
            "type": "scattergeo"
           }
          ],
          "scattergl": [
           {
            "marker": {
             "colorbar": {
              "outlinewidth": 0,
              "ticks": ""
             }
            },
            "type": "scattergl"
           }
          ],
          "scattermap": [
           {
            "marker": {
             "colorbar": {
              "outlinewidth": 0,
              "ticks": ""
             }
            },
            "type": "scattermap"
           }
          ],
          "scattermapbox": [
           {
            "marker": {
             "colorbar": {
              "outlinewidth": 0,
              "ticks": ""
             }
            },
            "type": "scattermapbox"
           }
          ],
          "scatterpolar": [
           {
            "marker": {
             "colorbar": {
              "outlinewidth": 0,
              "ticks": ""
             }
            },
            "type": "scatterpolar"
           }
          ],
          "scatterpolargl": [
           {
            "marker": {
             "colorbar": {
              "outlinewidth": 0,
              "ticks": ""
             }
            },
            "type": "scatterpolargl"
           }
          ],
          "scatterternary": [
           {
            "marker": {
             "colorbar": {
              "outlinewidth": 0,
              "ticks": ""
             }
            },
            "type": "scatterternary"
           }
          ],
          "surface": [
           {
            "colorbar": {
             "outlinewidth": 0,
             "ticks": ""
            },
            "colorscale": [
             [
              0,
              "#0d0887"
             ],
             [
              0.1111111111111111,
              "#46039f"
             ],
             [
              0.2222222222222222,
              "#7201a8"
             ],
             [
              0.3333333333333333,
              "#9c179e"
             ],
             [
              0.4444444444444444,
              "#bd3786"
             ],
             [
              0.5555555555555556,
              "#d8576b"
             ],
             [
              0.6666666666666666,
              "#ed7953"
             ],
             [
              0.7777777777777778,
              "#fb9f3a"
             ],
             [
              0.8888888888888888,
              "#fdca26"
             ],
             [
              1,
              "#f0f921"
             ]
            ],
            "type": "surface"
           }
          ],
          "table": [
           {
            "cells": {
             "fill": {
              "color": "#EBF0F8"
             },
             "line": {
              "color": "white"
             }
            },
            "header": {
             "fill": {
              "color": "#C8D4E3"
             },
             "line": {
              "color": "white"
             }
            },
            "type": "table"
           }
          ]
         },
         "layout": {
          "annotationdefaults": {
           "arrowcolor": "#2a3f5f",
           "arrowhead": 0,
           "arrowwidth": 1
          },
          "autotypenumbers": "strict",
          "coloraxis": {
           "colorbar": {
            "outlinewidth": 0,
            "ticks": ""
           }
          },
          "colorscale": {
           "diverging": [
            [
             0,
             "#8e0152"
            ],
            [
             0.1,
             "#c51b7d"
            ],
            [
             0.2,
             "#de77ae"
            ],
            [
             0.3,
             "#f1b6da"
            ],
            [
             0.4,
             "#fde0ef"
            ],
            [
             0.5,
             "#f7f7f7"
            ],
            [
             0.6,
             "#e6f5d0"
            ],
            [
             0.7,
             "#b8e186"
            ],
            [
             0.8,
             "#7fbc41"
            ],
            [
             0.9,
             "#4d9221"
            ],
            [
             1,
             "#276419"
            ]
           ],
           "sequential": [
            [
             0,
             "#0d0887"
            ],
            [
             0.1111111111111111,
             "#46039f"
            ],
            [
             0.2222222222222222,
             "#7201a8"
            ],
            [
             0.3333333333333333,
             "#9c179e"
            ],
            [
             0.4444444444444444,
             "#bd3786"
            ],
            [
             0.5555555555555556,
             "#d8576b"
            ],
            [
             0.6666666666666666,
             "#ed7953"
            ],
            [
             0.7777777777777778,
             "#fb9f3a"
            ],
            [
             0.8888888888888888,
             "#fdca26"
            ],
            [
             1,
             "#f0f921"
            ]
           ],
           "sequentialminus": [
            [
             0,
             "#0d0887"
            ],
            [
             0.1111111111111111,
             "#46039f"
            ],
            [
             0.2222222222222222,
             "#7201a8"
            ],
            [
             0.3333333333333333,
             "#9c179e"
            ],
            [
             0.4444444444444444,
             "#bd3786"
            ],
            [
             0.5555555555555556,
             "#d8576b"
            ],
            [
             0.6666666666666666,
             "#ed7953"
            ],
            [
             0.7777777777777778,
             "#fb9f3a"
            ],
            [
             0.8888888888888888,
             "#fdca26"
            ],
            [
             1,
             "#f0f921"
            ]
           ]
          },
          "colorway": [
           "#636efa",
           "#EF553B",
           "#00cc96",
           "#ab63fa",
           "#FFA15A",
           "#19d3f3",
           "#FF6692",
           "#B6E880",
           "#FF97FF",
           "#FECB52"
          ],
          "font": {
           "color": "#2a3f5f"
          },
          "geo": {
           "bgcolor": "white",
           "lakecolor": "white",
           "landcolor": "#E5ECF6",
           "showlakes": true,
           "showland": true,
           "subunitcolor": "white"
          },
          "hoverlabel": {
           "align": "left"
          },
          "hovermode": "closest",
          "mapbox": {
           "style": "light"
          },
          "paper_bgcolor": "white",
          "plot_bgcolor": "#E5ECF6",
          "polar": {
           "angularaxis": {
            "gridcolor": "white",
            "linecolor": "white",
            "ticks": ""
           },
           "bgcolor": "#E5ECF6",
           "radialaxis": {
            "gridcolor": "white",
            "linecolor": "white",
            "ticks": ""
           }
          },
          "scene": {
           "xaxis": {
            "backgroundcolor": "#E5ECF6",
            "gridcolor": "white",
            "gridwidth": 2,
            "linecolor": "white",
            "showbackground": true,
            "ticks": "",
            "zerolinecolor": "white"
           },
           "yaxis": {
            "backgroundcolor": "#E5ECF6",
            "gridcolor": "white",
            "gridwidth": 2,
            "linecolor": "white",
            "showbackground": true,
            "ticks": "",
            "zerolinecolor": "white"
           },
           "zaxis": {
            "backgroundcolor": "#E5ECF6",
            "gridcolor": "white",
            "gridwidth": 2,
            "linecolor": "white",
            "showbackground": true,
            "ticks": "",
            "zerolinecolor": "white"
           }
          },
          "shapedefaults": {
           "line": {
            "color": "#2a3f5f"
           }
          },
          "ternary": {
           "aaxis": {
            "gridcolor": "white",
            "linecolor": "white",
            "ticks": ""
           },
           "baxis": {
            "gridcolor": "white",
            "linecolor": "white",
            "ticks": ""
           },
           "bgcolor": "#E5ECF6",
           "caxis": {
            "gridcolor": "white",
            "linecolor": "white",
            "ticks": ""
           }
          },
          "title": {
           "x": 0.05
          },
          "xaxis": {
           "automargin": true,
           "gridcolor": "white",
           "linecolor": "white",
           "ticks": "",
           "title": {
            "standoff": 15
           },
           "zerolinecolor": "white",
           "zerolinewidth": 2
          },
          "yaxis": {
           "automargin": true,
           "gridcolor": "white",
           "linecolor": "white",
           "ticks": "",
           "title": {
            "standoff": 15
           },
           "zerolinecolor": "white",
           "zerolinewidth": 2
          }
         }
        },
        "title": {
         "text": "Simulação da Cascata de Transdução de Sinal"
        },
        "width": 700,
        "xaxis": {
         "gridcolor": "#CCCCCC",
         "linecolor": "black",
         "showgrid": true,
         "title": {
          "text": "Ligand Concentration [C]"
         },
         "type": "log",
         "zerolinecolor": "#AAAAAA"
        },
        "yaxis": {
         "gridcolor": "#CCCCCC",
         "linecolor": "black",
         "range": [
          0,
          1.1
         ],
         "showgrid": true,
         "title": {
          "text": "Magnitude"
         },
         "type": "-",
         "zerolinecolor": "#AAAAAA"
        }
       }
      }
     },
     "metadata": {},
     "output_type": "display_data"
    }
   ],
   "source": [
    "C = np.logspace(-2, 2, 500)  # de 0.01 a 100 (concentração)\n",
    "B_max = 1.0   # capacidade máxima de ligação na Cascade I\n",
    "K_d = 1.0     # constante de dissociação (afinidade)\n",
    "S_max1 = 1.0  # ganho máximo da Cascade II\n",
    "K_e1 = 0.3    # meia resposta da Cascade II\n",
    "S_max2 = 1.0  # ganho máximo da Cascade III (resposta final)\n",
    "K_e2 = 0.1    # meia resposta da Cascade III\n",
    "stimulus_I = (B_max * C) / (K_d + C)\n",
    "stimulus_II = (S_max1 * stimulus_I) / (K_e1 + stimulus_I)\n",
    "response = (S_max2 * stimulus_II) / (K_e2 + stimulus_II)\n",
    "\n",
    "ref_line = go.Scatter(\n",
    "    x=C, y=[0.5]*len(C),\n",
    "    mode='lines', name='50% máx (reference)',\n",
    "    line=dict(color='rgb(217, 217, 217)', dash='dot')\n",
    ")\n",
    "trace1 = go.Scatter(\n",
    "    x=C, y=stimulus_I,\n",
    "    mode='lines', name='Stimulus I (receptor)',\n",
    "    line=dict(color='#000000')\n",
    ")\n",
    "trace2 = go.Scatter(\n",
    "    x=C, y=stimulus_II,\n",
    "    mode='lines', name='Stimulus II (transductor)',\n",
    "    line=dict(color='#7a7a7a')\n",
    ")\n",
    "trace3 = go.Scatter(\n",
    "    x=C, y=response,\n",
    "    mode='lines', name='Final Response (physiological)',\n",
    "    line=dict(width=3, color='#50dd40')\n",
    ")\n",
    "\n",
    "fig = go.Figure(data=[ref_line, trace1, trace2, trace3, ])\n",
    "\n",
    "plotlymodex.main_layout(\n",
    "    fig, title='Simulação da Cascata de Transdução de Sinal',\n",
    "    x='Ligand Concentration [C]', y='Magnitude', \n",
    "    x_type='log', legend_x=0.55, legend_y=0.04, legend_border_color='black', y_range=[0, 1.1]\n",
    ")"
   ]
  }
 ],
 "metadata": {
  "kernelspec": {
   "display_name": "env",
   "language": "python",
   "name": "python3"
  },
  "language_info": {
   "codemirror_mode": {
    "name": "ipython",
    "version": 3
   },
   "file_extension": ".py",
   "mimetype": "text/x-python",
   "name": "python",
   "nbconvert_exporter": "python",
   "pygments_lexer": "ipython3",
   "version": "3.12.6"
  }
 },
 "nbformat": 4,
 "nbformat_minor": 5
}
