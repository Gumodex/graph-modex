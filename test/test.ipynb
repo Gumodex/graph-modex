{
 "cells": [
  {
   "cell_type": "code",
   "execution_count": 1,
   "id": "6c47784b",
   "metadata": {},
   "outputs": [],
   "source": [
    "import os\n",
    "import sys\n",
    "\n",
    "import pandas as pd\n",
    "import numpy as np\n",
    "import plotly.graph_objects as go\n",
    "import plotly.express as px\n",
    "import plotly.figure_factory as ff\n",
    "import plotly.subplots as subplots\n",
    "\n",
    "from typing import Union, Literal\n",
    "\n",
    "sys.path.append(os.path.abspath('..'))\n",
    "from graphmodex import plotlymodex"
   ]
  },
  {
   "cell_type": "code",
   "execution_count": 10,
   "id": "97e40dc5",
   "metadata": {},
   "outputs": [],
   "source": [
    "n_rows = 10000\n",
    "n_cols = 20\n",
    "\n",
    "dates = pd.date_range(start=\"2025-01-01\", end=\"2025-05-30\", periods=n_rows)\n",
    "\n",
    "data = {\"date\": dates}\n",
    "\n",
    "for i in range(3):\n",
    "    data[f\"cat_30_{i}\"] = np.random.choice([f\"{j}\" for j in range(30)], size=n_rows)\n",
    "for i in range(2):\n",
    "    data[f\"cat_5_{i}\"] = np.random.choice([f\"{j}\" for j in ['a','b','c','d','e']], size=n_rows)\n",
    "\n",
    "# Generate 5 integer columns (ordered, like credit history length, loan duration)\n",
    "for i in range(5):\n",
    "    data[f\"int_{i}\"] = np.random.randint(0, 100, size=n_rows)\n",
    "\n",
    "# Generate 5 float columns (e.g. income, loan amount, utilization)\n",
    "for i in range(5):\n",
    "    data[f\"float_{i}\"] = np.random.normal(loc=5000, scale=2000, size=n_rows)\n",
    "    data[f\"float_{i+4}\"] = np.random.normal(loc=0, scale=1, size=n_rows)\n",
    "\n",
    "# Generate 2 columns with mostly missing values\n",
    "data[\"mostly_nan_1\"] = np.where(np.random.rand(n_rows) < 0.95, np.nan, np.random.rand(n_rows))\n",
    "data[\"mostly_nan_2\"] = np.where(np.random.rand(n_rows) < 0.9, np.nan, np.random.rand(n_rows))\n",
    "\n",
    "# Generate 1 column with some special missing values (inf, -inf)\n",
    "special_col = np.random.normal(loc=100, scale=50, size=n_rows)\n",
    "special_col[np.random.choice(n_rows, size=10, replace=False)] = np.inf\n",
    "special_col[np.random.choice(n_rows, size=10, replace=False)] = -np.inf\n",
    "special_col[np.random.choice(n_rows, size=100, replace=False)] = np.nan\n",
    "data[\"special_missing\"] = special_col\n",
    "\n",
    "# Fixing the target column to handle NaNs by using float type\n",
    "target = np.random.choice([0, 1], size=n_rows).astype(float)\n",
    "mask = np.random.rand(n_rows) < 0.2\n",
    "target[mask] = np.nan\n",
    "data[\"target\"] = target\n",
    "\n",
    "for i, col in enumerate([col for col in data if col.startswith(\"cat_\")]):\n",
    "    if (i == 3) or (i == 1): continue\n",
    "    nan_indices = np.random.choice(n_rows, size=50, replace=False)\n",
    "    temp_col = np.array(data[col], dtype=object)\n",
    "    temp_col[nan_indices] = np.nan\n",
    "    data[col] = temp_col\n",
    "\n",
    "# Insert a few NaNs into the float columns\n",
    "for i, col in enumerate([col for col in data if col.startswith(\"float_\")]):\n",
    "    if (i == 3): break\n",
    "    nan_indices = np.random.choice(n_rows, size=30, replace=False)\n",
    "    temp_col = data[col]\n",
    "    temp_col[nan_indices] = np.nan\n",
    "    data[col] = temp_col\n",
    "\n",
    "# Convert to DataFrame\n",
    "df = pd.DataFrame(data)\n",
    "df['month'] = df['date'].dt.month"
   ]
  },
  {
   "cell_type": "code",
   "execution_count": 15,
   "id": "5c5f54cc",
   "metadata": {},
   "outputs": [
    {
     "data": {
      "application/vnd.plotly.v1+json": {
       "config": {
        "plotlyServerURL": "https://plot.ly"
       },
       "data": [
        {
         "hovertemplate": "x: %{x}<br>y: %{y}",
         "legendgroup": "a",
         "marker": {
          "color": "#e6f0f0",
          "pattern": {
           "shape": ""
          }
         },
         "name": "a",
         "orientation": "v",
         "showlegend": true,
         "textposition": "auto",
         "type": "bar",
         "x": [
          "a",
          "b",
          "c",
          "d",
          "e"
         ],
         "xaxis": "x",
         "y": {
          "bdata": "T1JVX2o=",
          "dtype": "i1"
         },
         "yaxis": "y"
        },
        {
         "hovertemplate": "x: %{x}<br>y: %{y}",
         "legendgroup": "b",
         "marker": {
          "color": "#e6f0f0",
          "pattern": {
           "shape": "/"
          }
         },
         "name": "b",
         "orientation": "v",
         "showlegend": true,
         "textposition": "auto",
         "type": "bar",
         "x": [
          "a",
          "b",
          "c",
          "d",
          "e"
         ],
         "xaxis": "x",
         "y": {
          "bdata": "SEtWTlI=",
          "dtype": "i1"
         },
         "yaxis": "y"
        },
        {
         "hovertemplate": "x: %{x}<br>y: %{y}",
         "legendgroup": "c",
         "marker": {
          "color": "#e6f0f0",
          "pattern": {
           "shape": "\\"
          }
         },
         "name": "c",
         "orientation": "v",
         "showlegend": true,
         "textposition": "auto",
         "type": "bar",
         "x": [
          "a",
          "b",
          "c",
          "d",
          "e"
         ],
         "xaxis": "x",
         "y": {
          "bdata": "TWBFV1A=",
          "dtype": "i1"
         },
         "yaxis": "y"
        },
        {
         "hovertemplate": "x: %{x}<br>y: %{y}",
         "legendgroup": "d",
         "marker": {
          "color": "#e6f0f0",
          "pattern": {
           "shape": "x"
          }
         },
         "name": "d",
         "orientation": "v",
         "showlegend": true,
         "textposition": "auto",
         "type": "bar",
         "x": [
          "a",
          "b",
          "c",
          "d",
          "e"
         ],
         "xaxis": "x",
         "y": {
          "bdata": "VF9AVFA=",
          "dtype": "i1"
         },
         "yaxis": "y"
        },
        {
         "hovertemplate": "x: %{x}<br>y: %{y}",
         "legendgroup": "e",
         "marker": {
          "color": "#e6f0f0",
          "pattern": {
           "shape": "+"
          }
         },
         "name": "e",
         "orientation": "v",
         "showlegend": true,
         "textposition": "auto",
         "type": "bar",
         "x": [
          "a",
          "b",
          "c",
          "d",
          "e"
         ],
         "xaxis": "x",
         "y": {
          "bdata": "RU9WV1A=",
          "dtype": "i1"
         },
         "yaxis": "y"
        }
       ],
       "frames": [
        {
         "data": [
          {
           "hovertemplate": "cat_5_1=a<br>month=1<br>cat_5_0=%{x}<br>agg_func=%{y}<extra></extra>",
           "legendgroup": "a",
           "marker": {
            "color": "#e6f0f0",
            "pattern": {
             "shape": ""
            }
           },
           "name": "a",
           "orientation": "v",
           "showlegend": true,
           "textposition": "auto",
           "type": "bar",
           "x": [
            "a",
            "b",
            "c",
            "d",
            "e"
           ],
           "xaxis": "x",
           "y": {
            "bdata": "T1JVX2o=",
            "dtype": "i1"
           },
           "yaxis": "y"
          },
          {
           "hovertemplate": "cat_5_1=b<br>month=1<br>cat_5_0=%{x}<br>agg_func=%{y}<extra></extra>",
           "legendgroup": "b",
           "marker": {
            "color": "#e6f0f0",
            "pattern": {
             "shape": "/"
            }
           },
           "name": "b",
           "orientation": "v",
           "showlegend": true,
           "textposition": "auto",
           "type": "bar",
           "x": [
            "a",
            "b",
            "c",
            "d",
            "e"
           ],
           "xaxis": "x",
           "y": {
            "bdata": "SEtWTlI=",
            "dtype": "i1"
           },
           "yaxis": "y"
          },
          {
           "hovertemplate": "cat_5_1=c<br>month=1<br>cat_5_0=%{x}<br>agg_func=%{y}<extra></extra>",
           "legendgroup": "c",
           "marker": {
            "color": "#e6f0f0",
            "pattern": {
             "shape": "\\"
            }
           },
           "name": "c",
           "orientation": "v",
           "showlegend": true,
           "textposition": "auto",
           "type": "bar",
           "x": [
            "a",
            "b",
            "c",
            "d",
            "e"
           ],
           "xaxis": "x",
           "y": {
            "bdata": "TWBFV1A=",
            "dtype": "i1"
           },
           "yaxis": "y"
          },
          {
           "hovertemplate": "cat_5_1=d<br>month=1<br>cat_5_0=%{x}<br>agg_func=%{y}<extra></extra>",
           "legendgroup": "d",
           "marker": {
            "color": "#e6f0f0",
            "pattern": {
             "shape": "x"
            }
           },
           "name": "d",
           "orientation": "v",
           "showlegend": true,
           "textposition": "auto",
           "type": "bar",
           "x": [
            "a",
            "b",
            "c",
            "d",
            "e"
           ],
           "xaxis": "x",
           "y": {
            "bdata": "VF9AVFA=",
            "dtype": "i1"
           },
           "yaxis": "y"
          },
          {
           "hovertemplate": "cat_5_1=e<br>month=1<br>cat_5_0=%{x}<br>agg_func=%{y}<extra></extra>",
           "legendgroup": "e",
           "marker": {
            "color": "#e6f0f0",
            "pattern": {
             "shape": "+"
            }
           },
           "name": "e",
           "orientation": "v",
           "showlegend": true,
           "textposition": "auto",
           "type": "bar",
           "x": [
            "a",
            "b",
            "c",
            "d",
            "e"
           ],
           "xaxis": "x",
           "y": {
            "bdata": "RU9WV1A=",
            "dtype": "i1"
           },
           "yaxis": "y"
          }
         ],
         "name": "1"
        },
        {
         "data": [
          {
           "hovertemplate": "cat_5_1=a<br>month=2<br>cat_5_0=%{x}<br>agg_func=%{y}<extra></extra>",
           "legendgroup": "a",
           "marker": {
            "color": "#e6f0f0",
            "pattern": {
             "shape": ""
            }
           },
           "name": "a",
           "orientation": "v",
           "showlegend": true,
           "textposition": "auto",
           "type": "bar",
           "x": [
            "a",
            "b",
            "c",
            "d",
            "e"
           ],
           "xaxis": "x",
           "y": {
            "bdata": "QWM1Sjo=",
            "dtype": "i1"
           },
           "yaxis": "y"
          },
          {
           "hovertemplate": "cat_5_1=b<br>month=2<br>cat_5_0=%{x}<br>agg_func=%{y}<extra></extra>",
           "legendgroup": "b",
           "marker": {
            "color": "#e6f0f0",
            "pattern": {
             "shape": "/"
            }
           },
           "name": "b",
           "orientation": "v",
           "showlegend": true,
           "textposition": "auto",
           "type": "bar",
           "x": [
            "a",
            "b",
            "c",
            "d",
            "e"
           ],
           "xaxis": "x",
           "y": {
            "bdata": "PVdCV0k=",
            "dtype": "i1"
           },
           "yaxis": "y"
          },
          {
           "hovertemplate": "cat_5_1=c<br>month=2<br>cat_5_0=%{x}<br>agg_func=%{y}<extra></extra>",
           "legendgroup": "c",
           "marker": {
            "color": "#e6f0f0",
            "pattern": {
             "shape": "\\"
            }
           },
           "name": "c",
           "orientation": "v",
           "showlegend": true,
           "textposition": "auto",
           "type": "bar",
           "x": [
            "a",
            "b",
            "c",
            "d",
            "e"
           ],
           "xaxis": "x",
           "y": {
            "bdata": "VE5MSkU=",
            "dtype": "i1"
           },
           "yaxis": "y"
          },
          {
           "hovertemplate": "cat_5_1=d<br>month=2<br>cat_5_0=%{x}<br>agg_func=%{y}<extra></extra>",
           "legendgroup": "d",
           "marker": {
            "color": "#e6f0f0",
            "pattern": {
             "shape": "x"
            }
           },
           "name": "d",
           "orientation": "v",
           "showlegend": true,
           "textposition": "auto",
           "type": "bar",
           "x": [
            "a",
            "b",
            "c",
            "d",
            "e"
           ],
           "xaxis": "x",
           "y": {
            "bdata": "TE9NU0w=",
            "dtype": "i1"
           },
           "yaxis": "y"
          },
          {
           "hovertemplate": "cat_5_1=e<br>month=2<br>cat_5_0=%{x}<br>agg_func=%{y}<extra></extra>",
           "legendgroup": "e",
           "marker": {
            "color": "#e6f0f0",
            "pattern": {
             "shape": "+"
            }
           },
           "name": "e",
           "orientation": "v",
           "showlegend": true,
           "textposition": "auto",
           "type": "bar",
           "x": [
            "a",
            "b",
            "c",
            "d",
            "e"
           ],
           "xaxis": "x",
           "y": {
            "bdata": "Q1BNTEc=",
            "dtype": "i1"
           },
           "yaxis": "y"
          }
         ],
         "name": "2"
        },
        {
         "data": [
          {
           "hovertemplate": "cat_5_1=a<br>month=3<br>cat_5_0=%{x}<br>agg_func=%{y}<extra></extra>",
           "legendgroup": "a",
           "marker": {
            "color": "#e6f0f0",
            "pattern": {
             "shape": ""
            }
           },
           "name": "a",
           "orientation": "v",
           "showlegend": true,
           "textposition": "auto",
           "type": "bar",
           "x": [
            "a",
            "b",
            "c",
            "d",
            "e"
           ],
           "xaxis": "x",
           "y": {
            "bdata": "XmZUcEo=",
            "dtype": "i1"
           },
           "yaxis": "y"
          },
          {
           "hovertemplate": "cat_5_1=b<br>month=3<br>cat_5_0=%{x}<br>agg_func=%{y}<extra></extra>",
           "legendgroup": "b",
           "marker": {
            "color": "#e6f0f0",
            "pattern": {
             "shape": "/"
            }
           },
           "name": "b",
           "orientation": "v",
           "showlegend": true,
           "textposition": "auto",
           "type": "bar",
           "x": [
            "a",
            "b",
            "c",
            "d",
            "e"
           ],
           "xaxis": "x",
           "y": {
            "bdata": "TlJHTkw=",
            "dtype": "i1"
           },
           "yaxis": "y"
          },
          {
           "hovertemplate": "cat_5_1=c<br>month=3<br>cat_5_0=%{x}<br>agg_func=%{y}<extra></extra>",
           "legendgroup": "c",
           "marker": {
            "color": "#e6f0f0",
            "pattern": {
             "shape": "\\"
            }
           },
           "name": "c",
           "orientation": "v",
           "showlegend": true,
           "textposition": "auto",
           "type": "bar",
           "x": [
            "a",
            "b",
            "c",
            "d",
            "e"
           ],
           "xaxis": "x",
           "y": {
            "bdata": "XEtSTlA=",
            "dtype": "i1"
           },
           "yaxis": "y"
          },
          {
           "hovertemplate": "cat_5_1=d<br>month=3<br>cat_5_0=%{x}<br>agg_func=%{y}<extra></extra>",
           "legendgroup": "d",
           "marker": {
            "color": "#e6f0f0",
            "pattern": {
             "shape": "x"
            }
           },
           "name": "d",
           "orientation": "v",
           "showlegend": true,
           "textposition": "auto",
           "type": "bar",
           "x": [
            "a",
            "b",
            "c",
            "d",
            "e"
           ],
           "xaxis": "x",
           "y": {
            "bdata": "RFpJXUc=",
            "dtype": "i1"
           },
           "yaxis": "y"
          },
          {
           "hovertemplate": "cat_5_1=e<br>month=3<br>cat_5_0=%{x}<br>agg_func=%{y}<extra></extra>",
           "legendgroup": "e",
           "marker": {
            "color": "#e6f0f0",
            "pattern": {
             "shape": "+"
            }
           },
           "name": "e",
           "orientation": "v",
           "showlegend": true,
           "textposition": "auto",
           "type": "bar",
           "x": [
            "a",
            "b",
            "c",
            "d",
            "e"
           ],
           "xaxis": "x",
           "y": {
            "bdata": "VklOZFE=",
            "dtype": "i1"
           },
           "yaxis": "y"
          }
         ],
         "name": "3"
        },
        {
         "data": [
          {
           "hovertemplate": "cat_5_1=a<br>month=4<br>cat_5_0=%{x}<br>agg_func=%{y}<extra></extra>",
           "legendgroup": "a",
           "marker": {
            "color": "#e6f0f0",
            "pattern": {
             "shape": ""
            }
           },
           "name": "a",
           "orientation": "v",
           "showlegend": true,
           "textposition": "auto",
           "type": "bar",
           "x": [
            "a",
            "b",
            "c",
            "d",
            "e"
           ],
           "xaxis": "x",
           "y": {
            "bdata": "UlRZT1c=",
            "dtype": "i1"
           },
           "yaxis": "y"
          },
          {
           "hovertemplate": "cat_5_1=b<br>month=4<br>cat_5_0=%{x}<br>agg_func=%{y}<extra></extra>",
           "legendgroup": "b",
           "marker": {
            "color": "#e6f0f0",
            "pattern": {
             "shape": "/"
            }
           },
           "name": "b",
           "orientation": "v",
           "showlegend": true,
           "textposition": "auto",
           "type": "bar",
           "x": [
            "a",
            "b",
            "c",
            "d",
            "e"
           ],
           "xaxis": "x",
           "y": {
            "bdata": "Q0FNR0k=",
            "dtype": "i1"
           },
           "yaxis": "y"
          },
          {
           "hovertemplate": "cat_5_1=c<br>month=4<br>cat_5_0=%{x}<br>agg_func=%{y}<extra></extra>",
           "legendgroup": "c",
           "marker": {
            "color": "#e6f0f0",
            "pattern": {
             "shape": "\\"
            }
           },
           "name": "c",
           "orientation": "v",
           "showlegend": true,
           "textposition": "auto",
           "type": "bar",
           "x": [
            "a",
            "b",
            "c",
            "d",
            "e"
           ],
           "xaxis": "x",
           "y": {
            "bdata": "T05cVkw=",
            "dtype": "i1"
           },
           "yaxis": "y"
          },
          {
           "hovertemplate": "cat_5_1=d<br>month=4<br>cat_5_0=%{x}<br>agg_func=%{y}<extra></extra>",
           "legendgroup": "d",
           "marker": {
            "color": "#e6f0f0",
            "pattern": {
             "shape": "x"
            }
           },
           "name": "d",
           "orientation": "v",
           "showlegend": true,
           "textposition": "auto",
           "type": "bar",
           "x": [
            "a",
            "b",
            "c",
            "d",
            "e"
           ],
           "xaxis": "x",
           "y": {
            "bdata": "TlBYUl8=",
            "dtype": "i1"
           },
           "yaxis": "y"
          },
          {
           "hovertemplate": "cat_5_1=e<br>month=4<br>cat_5_0=%{x}<br>agg_func=%{y}<extra></extra>",
           "legendgroup": "e",
           "marker": {
            "color": "#e6f0f0",
            "pattern": {
             "shape": "+"
            }
           },
           "name": "e",
           "orientation": "v",
           "showlegend": true,
           "textposition": "auto",
           "type": "bar",
           "x": [
            "a",
            "b",
            "c",
            "d",
            "e"
           ],
           "xaxis": "x",
           "y": {
            "bdata": "Wkc/WUs=",
            "dtype": "i1"
           },
           "yaxis": "y"
          }
         ],
         "name": "4"
        },
        {
         "data": [
          {
           "hovertemplate": "cat_5_1=a<br>month=5<br>cat_5_0=%{x}<br>agg_func=%{y}<extra></extra>",
           "legendgroup": "a",
           "marker": {
            "color": "#e6f0f0",
            "pattern": {
             "shape": ""
            }
           },
           "name": "a",
           "orientation": "v",
           "showlegend": true,
           "textposition": "auto",
           "type": "bar",
           "x": [
            "a",
            "b",
            "c",
            "d",
            "e"
           ],
           "xaxis": "x",
           "y": {
            "bdata": "UlBFVFM=",
            "dtype": "i1"
           },
           "yaxis": "y"
          },
          {
           "hovertemplate": "cat_5_1=b<br>month=5<br>cat_5_0=%{x}<br>agg_func=%{y}<extra></extra>",
           "legendgroup": "b",
           "marker": {
            "color": "#e6f0f0",
            "pattern": {
             "shape": "/"
            }
           },
           "name": "b",
           "orientation": "v",
           "showlegend": true,
           "textposition": "auto",
           "type": "bar",
           "x": [
            "a",
            "b",
            "c",
            "d",
            "e"
           ],
           "xaxis": "x",
           "y": {
            "bdata": "SkVPU0Y=",
            "dtype": "i1"
           },
           "yaxis": "y"
          },
          {
           "hovertemplate": "cat_5_1=c<br>month=5<br>cat_5_0=%{x}<br>agg_func=%{y}<extra></extra>",
           "legendgroup": "c",
           "marker": {
            "color": "#e6f0f0",
            "pattern": {
             "shape": "\\"
            }
           },
           "name": "c",
           "orientation": "v",
           "showlegend": true,
           "textposition": "auto",
           "type": "bar",
           "x": [
            "a",
            "b",
            "c",
            "d",
            "e"
           ],
           "xaxis": "x",
           "y": {
            "bdata": "O01SU1M=",
            "dtype": "i1"
           },
           "yaxis": "y"
          },
          {
           "hovertemplate": "cat_5_1=d<br>month=5<br>cat_5_0=%{x}<br>agg_func=%{y}<extra></extra>",
           "legendgroup": "d",
           "marker": {
            "color": "#e6f0f0",
            "pattern": {
             "shape": "x"
            }
           },
           "name": "d",
           "orientation": "v",
           "showlegend": true,
           "textposition": "auto",
           "type": "bar",
           "x": [
            "a",
            "b",
            "c",
            "d",
            "e"
           ],
           "xaxis": "x",
           "y": {
            "bdata": "V01aUko=",
            "dtype": "i1"
           },
           "yaxis": "y"
          },
          {
           "hovertemplate": "cat_5_1=e<br>month=5<br>cat_5_0=%{x}<br>agg_func=%{y}<extra></extra>",
           "legendgroup": "e",
           "marker": {
            "color": "#e6f0f0",
            "pattern": {
             "shape": "+"
            }
           },
           "name": "e",
           "orientation": "v",
           "showlegend": true,
           "textposition": "auto",
           "type": "bar",
           "x": [
            "a",
            "b",
            "c",
            "d",
            "e"
           ],
           "xaxis": "x",
           "y": {
            "bdata": "U0FORUQ=",
            "dtype": "i1"
           },
           "yaxis": "y"
          }
         ],
         "name": "5"
        }
       ],
       "layout": {
        "barmode": "group",
        "height": 600,
        "legend": {
         "bgcolor": "#ffffff",
         "bordercolor": "#ffffff",
         "borderwidth": 1,
         "orientation": "v",
         "title": {
          "text": "cat_5_1"
         },
         "tracegroupgap": 0
        },
        "margin": {
         "t": 60
        },
        "paper_bgcolor": "white",
        "plot_bgcolor": "white",
        "showlegend": true,
        "sliders": [
         {
          "active": 0,
          "currentvalue": {
           "prefix": "month="
          },
          "len": 0.9,
          "pad": {
           "b": 10,
           "t": 60
          },
          "steps": [
           {
            "args": [
             [
              "1"
             ],
             {
              "frame": {
               "duration": 0,
               "redraw": true
              },
              "fromcurrent": true,
              "mode": "immediate",
              "transition": {
               "duration": 0,
               "easing": "linear"
              }
             }
            ],
            "label": "1",
            "method": "animate"
           },
           {
            "args": [
             [
              "2"
             ],
             {
              "frame": {
               "duration": 0,
               "redraw": true
              },
              "fromcurrent": true,
              "mode": "immediate",
              "transition": {
               "duration": 0,
               "easing": "linear"
              }
             }
            ],
            "label": "2",
            "method": "animate"
           },
           {
            "args": [
             [
              "3"
             ],
             {
              "frame": {
               "duration": 0,
               "redraw": true
              },
              "fromcurrent": true,
              "mode": "immediate",
              "transition": {
               "duration": 0,
               "easing": "linear"
              }
             }
            ],
            "label": "3",
            "method": "animate"
           },
           {
            "args": [
             [
              "4"
             ],
             {
              "frame": {
               "duration": 0,
               "redraw": true
              },
              "fromcurrent": true,
              "mode": "immediate",
              "transition": {
               "duration": 0,
               "easing": "linear"
              }
             }
            ],
            "label": "4",
            "method": "animate"
           },
           {
            "args": [
             [
              "5"
             ],
             {
              "frame": {
               "duration": 0,
               "redraw": true
              },
              "fromcurrent": true,
              "mode": "immediate",
              "transition": {
               "duration": 0,
               "easing": "linear"
              }
             }
            ],
            "label": "5",
            "method": "animate"
           }
          ],
          "x": 0.1,
          "xanchor": "left",
          "y": 0,
          "yanchor": "top"
         }
        ],
        "template": {
         "data": {
          "bar": [
           {
            "error_x": {
             "color": "#2a3f5f"
            },
            "error_y": {
             "color": "#2a3f5f"
            },
            "marker": {
             "line": {
              "color": "#E5ECF6",
              "width": 0.5
             },
             "pattern": {
              "fillmode": "overlay",
              "size": 10,
              "solidity": 0.2
             }
            },
            "type": "bar"
           }
          ],
          "barpolar": [
           {
            "marker": {
             "line": {
              "color": "#E5ECF6",
              "width": 0.5
             },
             "pattern": {
              "fillmode": "overlay",
              "size": 10,
              "solidity": 0.2
             }
            },
            "type": "barpolar"
           }
          ],
          "carpet": [
           {
            "aaxis": {
             "endlinecolor": "#2a3f5f",
             "gridcolor": "white",
             "linecolor": "white",
             "minorgridcolor": "white",
             "startlinecolor": "#2a3f5f"
            },
            "baxis": {
             "endlinecolor": "#2a3f5f",
             "gridcolor": "white",
             "linecolor": "white",
             "minorgridcolor": "white",
             "startlinecolor": "#2a3f5f"
            },
            "type": "carpet"
           }
          ],
          "choropleth": [
           {
            "colorbar": {
             "outlinewidth": 0,
             "ticks": ""
            },
            "type": "choropleth"
           }
          ],
          "contour": [
           {
            "colorbar": {
             "outlinewidth": 0,
             "ticks": ""
            },
            "colorscale": [
             [
              0,
              "#0d0887"
             ],
             [
              0.1111111111111111,
              "#46039f"
             ],
             [
              0.2222222222222222,
              "#7201a8"
             ],
             [
              0.3333333333333333,
              "#9c179e"
             ],
             [
              0.4444444444444444,
              "#bd3786"
             ],
             [
              0.5555555555555556,
              "#d8576b"
             ],
             [
              0.6666666666666666,
              "#ed7953"
             ],
             [
              0.7777777777777778,
              "#fb9f3a"
             ],
             [
              0.8888888888888888,
              "#fdca26"
             ],
             [
              1,
              "#f0f921"
             ]
            ],
            "type": "contour"
           }
          ],
          "contourcarpet": [
           {
            "colorbar": {
             "outlinewidth": 0,
             "ticks": ""
            },
            "type": "contourcarpet"
           }
          ],
          "heatmap": [
           {
            "colorbar": {
             "outlinewidth": 0,
             "ticks": ""
            },
            "colorscale": [
             [
              0,
              "#0d0887"
             ],
             [
              0.1111111111111111,
              "#46039f"
             ],
             [
              0.2222222222222222,
              "#7201a8"
             ],
             [
              0.3333333333333333,
              "#9c179e"
             ],
             [
              0.4444444444444444,
              "#bd3786"
             ],
             [
              0.5555555555555556,
              "#d8576b"
             ],
             [
              0.6666666666666666,
              "#ed7953"
             ],
             [
              0.7777777777777778,
              "#fb9f3a"
             ],
             [
              0.8888888888888888,
              "#fdca26"
             ],
             [
              1,
              "#f0f921"
             ]
            ],
            "type": "heatmap"
           }
          ],
          "histogram": [
           {
            "marker": {
             "pattern": {
              "fillmode": "overlay",
              "size": 10,
              "solidity": 0.2
             }
            },
            "type": "histogram"
           }
          ],
          "histogram2d": [
           {
            "colorbar": {
             "outlinewidth": 0,
             "ticks": ""
            },
            "colorscale": [
             [
              0,
              "#0d0887"
             ],
             [
              0.1111111111111111,
              "#46039f"
             ],
             [
              0.2222222222222222,
              "#7201a8"
             ],
             [
              0.3333333333333333,
              "#9c179e"
             ],
             [
              0.4444444444444444,
              "#bd3786"
             ],
             [
              0.5555555555555556,
              "#d8576b"
             ],
             [
              0.6666666666666666,
              "#ed7953"
             ],
             [
              0.7777777777777778,
              "#fb9f3a"
             ],
             [
              0.8888888888888888,
              "#fdca26"
             ],
             [
              1,
              "#f0f921"
             ]
            ],
            "type": "histogram2d"
           }
          ],
          "histogram2dcontour": [
           {
            "colorbar": {
             "outlinewidth": 0,
             "ticks": ""
            },
            "colorscale": [
             [
              0,
              "#0d0887"
             ],
             [
              0.1111111111111111,
              "#46039f"
             ],
             [
              0.2222222222222222,
              "#7201a8"
             ],
             [
              0.3333333333333333,
              "#9c179e"
             ],
             [
              0.4444444444444444,
              "#bd3786"
             ],
             [
              0.5555555555555556,
              "#d8576b"
             ],
             [
              0.6666666666666666,
              "#ed7953"
             ],
             [
              0.7777777777777778,
              "#fb9f3a"
             ],
             [
              0.8888888888888888,
              "#fdca26"
             ],
             [
              1,
              "#f0f921"
             ]
            ],
            "type": "histogram2dcontour"
           }
          ],
          "mesh3d": [
           {
            "colorbar": {
             "outlinewidth": 0,
             "ticks": ""
            },
            "type": "mesh3d"
           }
          ],
          "parcoords": [
           {
            "line": {
             "colorbar": {
              "outlinewidth": 0,
              "ticks": ""
             }
            },
            "type": "parcoords"
           }
          ],
          "pie": [
           {
            "automargin": true,
            "type": "pie"
           }
          ],
          "scatter": [
           {
            "fillpattern": {
             "fillmode": "overlay",
             "size": 10,
             "solidity": 0.2
            },
            "type": "scatter"
           }
          ],
          "scatter3d": [
           {
            "line": {
             "colorbar": {
              "outlinewidth": 0,
              "ticks": ""
             }
            },
            "marker": {
             "colorbar": {
              "outlinewidth": 0,
              "ticks": ""
             }
            },
            "type": "scatter3d"
           }
          ],
          "scattercarpet": [
           {
            "marker": {
             "colorbar": {
              "outlinewidth": 0,
              "ticks": ""
             }
            },
            "type": "scattercarpet"
           }
          ],
          "scattergeo": [
           {
            "marker": {
             "colorbar": {
              "outlinewidth": 0,
              "ticks": ""
             }
            },
            "type": "scattergeo"
           }
          ],
          "scattergl": [
           {
            "marker": {
             "colorbar": {
              "outlinewidth": 0,
              "ticks": ""
             }
            },
            "type": "scattergl"
           }
          ],
          "scattermap": [
           {
            "marker": {
             "colorbar": {
              "outlinewidth": 0,
              "ticks": ""
             }
            },
            "type": "scattermap"
           }
          ],
          "scattermapbox": [
           {
            "marker": {
             "colorbar": {
              "outlinewidth": 0,
              "ticks": ""
             }
            },
            "type": "scattermapbox"
           }
          ],
          "scatterpolar": [
           {
            "marker": {
             "colorbar": {
              "outlinewidth": 0,
              "ticks": ""
             }
            },
            "type": "scatterpolar"
           }
          ],
          "scatterpolargl": [
           {
            "marker": {
             "colorbar": {
              "outlinewidth": 0,
              "ticks": ""
             }
            },
            "type": "scatterpolargl"
           }
          ],
          "scatterternary": [
           {
            "marker": {
             "colorbar": {
              "outlinewidth": 0,
              "ticks": ""
             }
            },
            "type": "scatterternary"
           }
          ],
          "surface": [
           {
            "colorbar": {
             "outlinewidth": 0,
             "ticks": ""
            },
            "colorscale": [
             [
              0,
              "#0d0887"
             ],
             [
              0.1111111111111111,
              "#46039f"
             ],
             [
              0.2222222222222222,
              "#7201a8"
             ],
             [
              0.3333333333333333,
              "#9c179e"
             ],
             [
              0.4444444444444444,
              "#bd3786"
             ],
             [
              0.5555555555555556,
              "#d8576b"
             ],
             [
              0.6666666666666666,
              "#ed7953"
             ],
             [
              0.7777777777777778,
              "#fb9f3a"
             ],
             [
              0.8888888888888888,
              "#fdca26"
             ],
             [
              1,
              "#f0f921"
             ]
            ],
            "type": "surface"
           }
          ],
          "table": [
           {
            "cells": {
             "fill": {
              "color": "#EBF0F8"
             },
             "line": {
              "color": "white"
             }
            },
            "header": {
             "fill": {
              "color": "#C8D4E3"
             },
             "line": {
              "color": "white"
             }
            },
            "type": "table"
           }
          ]
         },
         "layout": {
          "annotationdefaults": {
           "arrowcolor": "#2a3f5f",
           "arrowhead": 0,
           "arrowwidth": 1
          },
          "autotypenumbers": "strict",
          "coloraxis": {
           "colorbar": {
            "outlinewidth": 0,
            "ticks": ""
           }
          },
          "colorscale": {
           "diverging": [
            [
             0,
             "#8e0152"
            ],
            [
             0.1,
             "#c51b7d"
            ],
            [
             0.2,
             "#de77ae"
            ],
            [
             0.3,
             "#f1b6da"
            ],
            [
             0.4,
             "#fde0ef"
            ],
            [
             0.5,
             "#f7f7f7"
            ],
            [
             0.6,
             "#e6f5d0"
            ],
            [
             0.7,
             "#b8e186"
            ],
            [
             0.8,
             "#7fbc41"
            ],
            [
             0.9,
             "#4d9221"
            ],
            [
             1,
             "#276419"
            ]
           ],
           "sequential": [
            [
             0,
             "#0d0887"
            ],
            [
             0.1111111111111111,
             "#46039f"
            ],
            [
             0.2222222222222222,
             "#7201a8"
            ],
            [
             0.3333333333333333,
             "#9c179e"
            ],
            [
             0.4444444444444444,
             "#bd3786"
            ],
            [
             0.5555555555555556,
             "#d8576b"
            ],
            [
             0.6666666666666666,
             "#ed7953"
            ],
            [
             0.7777777777777778,
             "#fb9f3a"
            ],
            [
             0.8888888888888888,
             "#fdca26"
            ],
            [
             1,
             "#f0f921"
            ]
           ],
           "sequentialminus": [
            [
             0,
             "#0d0887"
            ],
            [
             0.1111111111111111,
             "#46039f"
            ],
            [
             0.2222222222222222,
             "#7201a8"
            ],
            [
             0.3333333333333333,
             "#9c179e"
            ],
            [
             0.4444444444444444,
             "#bd3786"
            ],
            [
             0.5555555555555556,
             "#d8576b"
            ],
            [
             0.6666666666666666,
             "#ed7953"
            ],
            [
             0.7777777777777778,
             "#fb9f3a"
            ],
            [
             0.8888888888888888,
             "#fdca26"
            ],
            [
             1,
             "#f0f921"
            ]
           ]
          },
          "colorway": [
           "#636efa",
           "#EF553B",
           "#00cc96",
           "#ab63fa",
           "#FFA15A",
           "#19d3f3",
           "#FF6692",
           "#B6E880",
           "#FF97FF",
           "#FECB52"
          ],
          "font": {
           "color": "#2a3f5f"
          },
          "geo": {
           "bgcolor": "white",
           "lakecolor": "white",
           "landcolor": "#E5ECF6",
           "showlakes": true,
           "showland": true,
           "subunitcolor": "white"
          },
          "hoverlabel": {
           "align": "left"
          },
          "hovermode": "closest",
          "mapbox": {
           "style": "light"
          },
          "paper_bgcolor": "white",
          "plot_bgcolor": "#E5ECF6",
          "polar": {
           "angularaxis": {
            "gridcolor": "white",
            "linecolor": "white",
            "ticks": ""
           },
           "bgcolor": "#E5ECF6",
           "radialaxis": {
            "gridcolor": "white",
            "linecolor": "white",
            "ticks": ""
           }
          },
          "scene": {
           "xaxis": {
            "backgroundcolor": "#E5ECF6",
            "gridcolor": "white",
            "gridwidth": 2,
            "linecolor": "white",
            "showbackground": true,
            "ticks": "",
            "zerolinecolor": "white"
           },
           "yaxis": {
            "backgroundcolor": "#E5ECF6",
            "gridcolor": "white",
            "gridwidth": 2,
            "linecolor": "white",
            "showbackground": true,
            "ticks": "",
            "zerolinecolor": "white"
           },
           "zaxis": {
            "backgroundcolor": "#E5ECF6",
            "gridcolor": "white",
            "gridwidth": 2,
            "linecolor": "white",
            "showbackground": true,
            "ticks": "",
            "zerolinecolor": "white"
           }
          },
          "shapedefaults": {
           "line": {
            "color": "#2a3f5f"
           }
          },
          "ternary": {
           "aaxis": {
            "gridcolor": "white",
            "linecolor": "white",
            "ticks": ""
           },
           "baxis": {
            "gridcolor": "white",
            "linecolor": "white",
            "ticks": ""
           },
           "bgcolor": "#E5ECF6",
           "caxis": {
            "gridcolor": "white",
            "linecolor": "white",
            "ticks": ""
           }
          },
          "title": {
           "x": 0.05
          },
          "xaxis": {
           "automargin": true,
           "gridcolor": "white",
           "linecolor": "white",
           "ticks": "",
           "title": {
            "standoff": 15
           },
           "zerolinecolor": "white",
           "zerolinewidth": 2
          },
          "yaxis": {
           "automargin": true,
           "gridcolor": "white",
           "linecolor": "white",
           "ticks": "",
           "title": {
            "standoff": 15
           },
           "zerolinecolor": "white",
           "zerolinewidth": 2
          }
         }
        },
        "title": {
         "text": "Bar | cat_5_0 vs float_1 with month"
        },
        "updatemenus": [
         {
          "buttons": [
           {
            "args": [
             null,
             {
              "frame": {
               "duration": 500,
               "redraw": true
              },
              "fromcurrent": true,
              "mode": "immediate",
              "transition": {
               "duration": 500,
               "easing": "linear"
              }
             }
            ],
            "label": "&#9654;",
            "method": "animate"
           },
           {
            "args": [
             [
              null
             ],
             {
              "frame": {
               "duration": 0,
               "redraw": true
              },
              "fromcurrent": true,
              "mode": "immediate",
              "transition": {
               "duration": 0,
               "easing": "linear"
              }
             }
            ],
            "label": "&#9724;",
            "method": "animate"
           }
          ],
          "direction": "left",
          "pad": {
           "r": 10,
           "t": 70
          },
          "showactive": false,
          "type": "buttons",
          "x": 0.1,
          "xanchor": "right",
          "y": 0,
          "yanchor": "top"
         }
        ],
        "width": 800,
        "xaxis": {
         "anchor": "y",
         "domain": [
          0,
          1
         ],
         "gridcolor": "#CCCCCC",
         "linecolor": "black",
         "showgrid": true,
         "title": {
          "text": "cat_5_0"
         },
         "type": "-",
         "zerolinecolor": "#AAAAAA"
        },
        "yaxis": {
         "anchor": "x",
         "domain": [
          0,
          1
         ],
         "gridcolor": "#CCCCCC",
         "linecolor": "black",
         "range": [
          0,
          120
         ],
         "showgrid": true,
         "title": {
          "text": "count float_1"
         },
         "type": "-",
         "zerolinecolor": "#AAAAAA"
        }
       }
      }
     },
     "metadata": {},
     "output_type": "display_data"
    }
   ],
   "source": [
    "plotlymodex.animated_bar(\n",
    "    df,\n",
    "    x='cat_5_0',\n",
    "    y='float_1',\n",
    "    animation_frame='month',\n",
    "    agg_func='count',\n",
    "    pattern_shape='cat_5_1',\n",
    "    barmode='group',\n",
    "    y_range=[0, 120],\n",
    "    colorscale=plotlymodex.list_colorscale(n=5, colorscale='dense'),\n",
    ")"
   ]
  },
  {
   "cell_type": "code",
   "execution_count": 6,
   "id": "d7a3c200",
   "metadata": {},
   "outputs": [
    {
     "data": {
      "application/vnd.plotly.v1+json": {
       "config": {
        "plotlyServerURL": "https://plot.ly"
       },
       "data": [
        {
         "hovertemplate": "x: %{x}<br>y: %{y}",
         "legendgroup": "0",
         "marker": {
          "color": "rgb(165, 170, 153)",
          "pattern": {
           "shape": ""
          }
         },
         "name": "0",
         "orientation": "h",
         "showlegend": true,
         "textposition": "auto",
         "type": "bar",
         "x": {
          "bdata": "FBcLDRA=",
          "dtype": "i1"
         },
         "xaxis": "x",
         "y": [
          "a",
          "b",
          "c",
          "d",
          "e"
         ],
         "yaxis": "y"
        },
        {
         "hovertemplate": "x: %{x}<br>y: %{y}",
         "legendgroup": "1",
         "marker": {
          "color": "rgb(237, 100, 90)",
          "pattern": {
           "shape": ""
          }
         },
         "name": "1",
         "orientation": "h",
         "showlegend": true,
         "textposition": "auto",
         "type": "bar",
         "x": {
          "bdata": "DQ0QCwU=",
          "dtype": "i1"
         },
         "xaxis": "x",
         "y": [
          "a",
          "b",
          "c",
          "d",
          "e"
         ],
         "yaxis": "y"
        },
        {
         "hovertemplate": "x: %{x}<br>y: %{y}",
         "legendgroup": "10",
         "marker": {
          "color": "rgb(118, 78, 159)",
          "pattern": {
           "shape": ""
          }
         },
         "name": "10",
         "orientation": "h",
         "showlegend": true,
         "textposition": "auto",
         "type": "bar",
         "x": {
          "bdata": "EwsLCws=",
          "dtype": "i1"
         },
         "xaxis": "x",
         "y": [
          "a",
          "b",
          "c",
          "d",
          "e"
         ],
         "yaxis": "y"
        },
        {
         "hovertemplate": "x: %{x}<br>y: %{y}",
         "legendgroup": "11",
         "marker": {
          "color": "rgb(47, 138, 196)",
          "pattern": {
           "shape": ""
          }
         },
         "name": "11",
         "orientation": "h",
         "showlegend": true,
         "textposition": "auto",
         "type": "bar",
         "x": {
          "bdata": "BQ0OEAs=",
          "dtype": "i1"
         },
         "xaxis": "x",
         "y": [
          "a",
          "b",
          "c",
          "d",
          "e"
         ],
         "yaxis": "y"
        },
        {
         "hovertemplate": "x: %{x}<br>y: %{y}",
         "legendgroup": "12",
         "marker": {
          "color": "rgb(218, 165, 27)",
          "pattern": {
           "shape": ""
          }
         },
         "name": "12",
         "orientation": "h",
         "showlegend": true,
         "textposition": "auto",
         "type": "bar",
         "x": {
          "bdata": "CQ8PDhY=",
          "dtype": "i1"
         },
         "xaxis": "x",
         "y": [
          "a",
          "b",
          "c",
          "d",
          "e"
         ],
         "yaxis": "y"
        },
        {
         "hovertemplate": "x: %{x}<br>y: %{y}",
         "legendgroup": "13",
         "marker": {
          "color": "rgb(36, 121, 108)",
          "pattern": {
           "shape": ""
          }
         },
         "name": "13",
         "orientation": "h",
         "showlegend": true,
         "textposition": "auto",
         "type": "bar",
         "x": {
          "bdata": "Dw4MDQ8=",
          "dtype": "i1"
         },
         "xaxis": "x",
         "y": [
          "a",
          "b",
          "c",
          "d",
          "e"
         ],
         "yaxis": "y"
        },
        {
         "hovertemplate": "x: %{x}<br>y: %{y}",
         "legendgroup": "14",
         "marker": {
          "color": "rgb(204, 97, 176)",
          "pattern": {
           "shape": ""
          }
         },
         "name": "14",
         "orientation": "h",
         "showlegend": true,
         "textposition": "auto",
         "type": "bar",
         "x": {
          "bdata": "CA4KDRE=",
          "dtype": "i1"
         },
         "xaxis": "x",
         "y": [
          "a",
          "b",
          "c",
          "d",
          "e"
         ],
         "yaxis": "y"
        },
        {
         "hovertemplate": "x: %{x}<br>y: %{y}",
         "legendgroup": "15",
         "marker": {
          "color": "rgb(153, 201, 69)",
          "pattern": {
           "shape": ""
          }
         },
         "name": "15",
         "orientation": "h",
         "showlegend": true,
         "textposition": "auto",
         "type": "bar",
         "x": {
          "bdata": "DRMOEQ8=",
          "dtype": "i1"
         },
         "xaxis": "x",
         "y": [
          "a",
          "b",
          "c",
          "d",
          "e"
         ],
         "yaxis": "y"
        },
        {
         "hovertemplate": "x: %{x}<br>y: %{y}",
         "legendgroup": "16",
         "marker": {
          "color": "rgb(82, 188, 163)",
          "pattern": {
           "shape": ""
          }
         },
         "name": "16",
         "orientation": "h",
         "showlegend": true,
         "textposition": "auto",
         "type": "bar",
         "x": {
          "bdata": "Eg4JDBA=",
          "dtype": "i1"
         },
         "xaxis": "x",
         "y": [
          "a",
          "b",
          "c",
          "d",
          "e"
         ],
         "yaxis": "y"
        },
        {
         "hovertemplate": "x: %{x}<br>y: %{y}",
         "legendgroup": "17",
         "marker": {
          "color": "rgb(93, 105, 177)",
          "pattern": {
           "shape": ""
          }
         },
         "name": "17",
         "orientation": "h",
         "showlegend": true,
         "textposition": "auto",
         "type": "bar",
         "x": {
          "bdata": "CBoNBxA=",
          "dtype": "i1"
         },
         "xaxis": "x",
         "y": [
          "a",
          "b",
          "c",
          "d",
          "e"
         ],
         "yaxis": "y"
        },
        {
         "hovertemplate": "x: %{x}<br>y: %{y}",
         "legendgroup": "18",
         "marker": {
          "color": "rgb(229, 134, 6)",
          "pattern": {
           "shape": ""
          }
         },
         "name": "18",
         "orientation": "h",
         "showlegend": true,
         "textposition": "auto",
         "type": "bar",
         "x": {
          "bdata": "CxIMDBE=",
          "dtype": "i1"
         },
         "xaxis": "x",
         "y": [
          "a",
          "b",
          "c",
          "d",
          "e"
         ],
         "yaxis": "y"
        },
        {
         "hovertemplate": "x: %{x}<br>y: %{y}",
         "legendgroup": "19",
         "marker": {
          "color": "rgb(165, 170, 153)",
          "pattern": {
           "shape": ""
          }
         },
         "name": "19",
         "orientation": "h",
         "showlegend": true,
         "textposition": "auto",
         "type": "bar",
         "x": {
          "bdata": "EAkPDA0=",
          "dtype": "i1"
         },
         "xaxis": "x",
         "y": [
          "a",
          "b",
          "c",
          "d",
          "e"
         ],
         "yaxis": "y"
        },
        {
         "hovertemplate": "x: %{x}<br>y: %{y}",
         "legendgroup": "2",
         "marker": {
          "color": "rgb(237, 100, 90)",
          "pattern": {
           "shape": ""
          }
         },
         "name": "2",
         "orientation": "h",
         "showlegend": true,
         "textposition": "auto",
         "type": "bar",
         "x": {
          "bdata": "DAwSDxQ=",
          "dtype": "i1"
         },
         "xaxis": "x",
         "y": [
          "a",
          "b",
          "c",
          "d",
          "e"
         ],
         "yaxis": "y"
        },
        {
         "hovertemplate": "x: %{x}<br>y: %{y}",
         "legendgroup": "20",
         "marker": {
          "color": "rgb(118, 78, 159)",
          "pattern": {
           "shape": ""
          }
         },
         "name": "20",
         "orientation": "h",
         "showlegend": true,
         "textposition": "auto",
         "type": "bar",
         "x": {
          "bdata": "ExQMDQw=",
          "dtype": "i1"
         },
         "xaxis": "x",
         "y": [
          "a",
          "b",
          "c",
          "d",
          "e"
         ],
         "yaxis": "y"
        },
        {
         "hovertemplate": "x: %{x}<br>y: %{y}",
         "legendgroup": "21",
         "marker": {
          "color": "rgb(47, 138, 196)",
          "pattern": {
           "shape": ""
          }
         },
         "name": "21",
         "orientation": "h",
         "showlegend": true,
         "textposition": "auto",
         "type": "bar",
         "x": {
          "bdata": "ChIMDBA=",
          "dtype": "i1"
         },
         "xaxis": "x",
         "y": [
          "a",
          "b",
          "c",
          "d",
          "e"
         ],
         "yaxis": "y"
        },
        {
         "hovertemplate": "x: %{x}<br>y: %{y}",
         "legendgroup": "22",
         "marker": {
          "color": "rgb(218, 165, 27)",
          "pattern": {
           "shape": ""
          }
         },
         "name": "22",
         "orientation": "h",
         "showlegend": true,
         "textposition": "auto",
         "type": "bar",
         "x": {
          "bdata": "EBMMBg8=",
          "dtype": "i1"
         },
         "xaxis": "x",
         "y": [
          "a",
          "b",
          "c",
          "d",
          "e"
         ],
         "yaxis": "y"
        },
        {
         "hovertemplate": "x: %{x}<br>y: %{y}",
         "legendgroup": "23",
         "marker": {
          "color": "rgb(36, 121, 108)",
          "pattern": {
           "shape": ""
          }
         },
         "name": "23",
         "orientation": "h",
         "showlegend": true,
         "textposition": "auto",
         "type": "bar",
         "x": {
          "bdata": "CBAKEgo=",
          "dtype": "i1"
         },
         "xaxis": "x",
         "y": [
          "a",
          "b",
          "c",
          "d",
          "e"
         ],
         "yaxis": "y"
        },
        {
         "hovertemplate": "x: %{x}<br>y: %{y}",
         "legendgroup": "24",
         "marker": {
          "color": "rgb(204, 97, 176)",
          "pattern": {
           "shape": ""
          }
         },
         "name": "24",
         "orientation": "h",
         "showlegend": true,
         "textposition": "auto",
         "type": "bar",
         "x": {
          "bdata": "ChERCg8=",
          "dtype": "i1"
         },
         "xaxis": "x",
         "y": [
          "a",
          "b",
          "c",
          "d",
          "e"
         ],
         "yaxis": "y"
        },
        {
         "hovertemplate": "x: %{x}<br>y: %{y}",
         "legendgroup": "25",
         "marker": {
          "color": "rgb(153, 201, 69)",
          "pattern": {
           "shape": ""
          }
         },
         "name": "25",
         "orientation": "h",
         "showlegend": true,
         "textposition": "auto",
         "type": "bar",
         "x": {
          "bdata": "CQwKCg4=",
          "dtype": "i1"
         },
         "xaxis": "x",
         "y": [
          "a",
          "b",
          "c",
          "d",
          "e"
         ],
         "yaxis": "y"
        },
        {
         "hovertemplate": "x: %{x}<br>y: %{y}",
         "legendgroup": "26",
         "marker": {
          "color": "rgb(82, 188, 163)",
          "pattern": {
           "shape": ""
          }
         },
         "name": "26",
         "orientation": "h",
         "showlegend": true,
         "textposition": "auto",
         "type": "bar",
         "x": {
          "bdata": "CwwKDQ0=",
          "dtype": "i1"
         },
         "xaxis": "x",
         "y": [
          "a",
          "b",
          "c",
          "d",
          "e"
         ],
         "yaxis": "y"
        },
        {
         "hovertemplate": "x: %{x}<br>y: %{y}",
         "legendgroup": "27",
         "marker": {
          "color": "rgb(93, 105, 177)",
          "pattern": {
           "shape": ""
          }
         },
         "name": "27",
         "orientation": "h",
         "showlegend": true,
         "textposition": "auto",
         "type": "bar",
         "x": {
          "bdata": "EBAMBxE=",
          "dtype": "i1"
         },
         "xaxis": "x",
         "y": [
          "a",
          "b",
          "c",
          "d",
          "e"
         ],
         "yaxis": "y"
        },
        {
         "hovertemplate": "x: %{x}<br>y: %{y}",
         "legendgroup": "28",
         "marker": {
          "color": "rgb(229, 134, 6)",
          "pattern": {
           "shape": ""
          }
         },
         "name": "28",
         "orientation": "h",
         "showlegend": true,
         "textposition": "auto",
         "type": "bar",
         "x": {
          "bdata": "CwkUDA4=",
          "dtype": "i1"
         },
         "xaxis": "x",
         "y": [
          "a",
          "b",
          "c",
          "d",
          "e"
         ],
         "yaxis": "y"
        },
        {
         "hovertemplate": "x: %{x}<br>y: %{y}",
         "legendgroup": "29",
         "marker": {
          "color": "rgb(165, 170, 153)",
          "pattern": {
           "shape": ""
          }
         },
         "name": "29",
         "orientation": "h",
         "showlegend": true,
         "textposition": "auto",
         "type": "bar",
         "x": {
          "bdata": "EBMODQ0=",
          "dtype": "i1"
         },
         "xaxis": "x",
         "y": [
          "a",
          "b",
          "c",
          "d",
          "e"
         ],
         "yaxis": "y"
        },
        {
         "hovertemplate": "x: %{x}<br>y: %{y}",
         "legendgroup": "3",
         "marker": {
          "color": "rgb(237, 100, 90)",
          "pattern": {
           "shape": ""
          }
         },
         "name": "3",
         "orientation": "h",
         "showlegend": true,
         "textposition": "auto",
         "type": "bar",
         "x": {
          "bdata": "DQ8MCxI=",
          "dtype": "i1"
         },
         "xaxis": "x",
         "y": [
          "a",
          "b",
          "c",
          "d",
          "e"
         ],
         "yaxis": "y"
        },
        {
         "hovertemplate": "x: %{x}<br>y: %{y}",
         "legendgroup": "4",
         "marker": {
          "color": "rgb(118, 78, 159)",
          "pattern": {
           "shape": ""
          }
         },
         "name": "4",
         "orientation": "h",
         "showlegend": true,
         "textposition": "auto",
         "type": "bar",
         "x": {
          "bdata": "Dg4SEQo=",
          "dtype": "i1"
         },
         "xaxis": "x",
         "y": [
          "a",
          "b",
          "c",
          "d",
          "e"
         ],
         "yaxis": "y"
        },
        {
         "hovertemplate": "x: %{x}<br>y: %{y}",
         "legendgroup": "5",
         "marker": {
          "color": "rgb(47, 138, 196)",
          "pattern": {
           "shape": ""
          }
         },
         "name": "5",
         "orientation": "h",
         "showlegend": true,
         "textposition": "auto",
         "type": "bar",
         "x": {
          "bdata": "ExAMFww=",
          "dtype": "i1"
         },
         "xaxis": "x",
         "y": [
          "a",
          "b",
          "c",
          "d",
          "e"
         ],
         "yaxis": "y"
        },
        {
         "hovertemplate": "x: %{x}<br>y: %{y}",
         "legendgroup": "6",
         "marker": {
          "color": "rgb(218, 165, 27)",
          "pattern": {
           "shape": ""
          }
         },
         "name": "6",
         "orientation": "h",
         "showlegend": true,
         "textposition": "auto",
         "type": "bar",
         "x": {
          "bdata": "Eg0PCw8=",
          "dtype": "i1"
         },
         "xaxis": "x",
         "y": [
          "a",
          "b",
          "c",
          "d",
          "e"
         ],
         "yaxis": "y"
        },
        {
         "hovertemplate": "x: %{x}<br>y: %{y}",
         "legendgroup": "7",
         "marker": {
          "color": "rgb(36, 121, 108)",
          "pattern": {
           "shape": ""
          }
         },
         "name": "7",
         "orientation": "h",
         "showlegend": true,
         "textposition": "auto",
         "type": "bar",
         "x": {
          "bdata": "DQ8QCRQ=",
          "dtype": "i1"
         },
         "xaxis": "x",
         "y": [
          "a",
          "b",
          "c",
          "d",
          "e"
         ],
         "yaxis": "y"
        },
        {
         "hovertemplate": "x: %{x}<br>y: %{y}",
         "legendgroup": "8",
         "marker": {
          "color": "rgb(204, 97, 176)",
          "pattern": {
           "shape": ""
          }
         },
         "name": "8",
         "orientation": "h",
         "showlegend": true,
         "textposition": "auto",
         "type": "bar",
         "x": {
          "bdata": "FAsKDBU=",
          "dtype": "i1"
         },
         "xaxis": "x",
         "y": [
          "a",
          "b",
          "c",
          "d",
          "e"
         ],
         "yaxis": "y"
        },
        {
         "hovertemplate": "x: %{x}<br>y: %{y}",
         "legendgroup": "9",
         "marker": {
          "color": "rgb(153, 201, 69)",
          "pattern": {
           "shape": ""
          }
         },
         "name": "9",
         "orientation": "h",
         "showlegend": true,
         "textposition": "auto",
         "type": "bar",
         "x": {
          "bdata": "DA0PChE=",
          "dtype": "i1"
         },
         "xaxis": "x",
         "y": [
          "a",
          "b",
          "c",
          "d",
          "e"
         ],
         "yaxis": "y"
        }
       ],
       "frames": [
        {
         "data": [
          {
           "hovertemplate": "cat_30_0=0<br>month=1<br>date=%{x}<br>cat_5_0=%{y}<extra></extra>",
           "legendgroup": "0",
           "marker": {
            "color": "rgb(165, 170, 153)",
            "pattern": {
             "shape": ""
            }
           },
           "name": "0",
           "orientation": "h",
           "showlegend": true,
           "textposition": "auto",
           "type": "bar",
           "x": {
            "bdata": "FBcLDRA=",
            "dtype": "i1"
           },
           "xaxis": "x",
           "y": [
            "a",
            "b",
            "c",
            "d",
            "e"
           ],
           "yaxis": "y"
          },
          {
           "hovertemplate": "cat_30_0=1<br>month=1<br>date=%{x}<br>cat_5_0=%{y}<extra></extra>",
           "legendgroup": "1",
           "marker": {
            "color": "rgb(237, 100, 90)",
            "pattern": {
             "shape": ""
            }
           },
           "name": "1",
           "orientation": "h",
           "showlegend": true,
           "textposition": "auto",
           "type": "bar",
           "x": {
            "bdata": "DQ0QCwU=",
            "dtype": "i1"
           },
           "xaxis": "x",
           "y": [
            "a",
            "b",
            "c",
            "d",
            "e"
           ],
           "yaxis": "y"
          },
          {
           "hovertemplate": "cat_30_0=10<br>month=1<br>date=%{x}<br>cat_5_0=%{y}<extra></extra>",
           "legendgroup": "10",
           "marker": {
            "color": "rgb(118, 78, 159)",
            "pattern": {
             "shape": ""
            }
           },
           "name": "10",
           "orientation": "h",
           "showlegend": true,
           "textposition": "auto",
           "type": "bar",
           "x": {
            "bdata": "EwsLCws=",
            "dtype": "i1"
           },
           "xaxis": "x",
           "y": [
            "a",
            "b",
            "c",
            "d",
            "e"
           ],
           "yaxis": "y"
          },
          {
           "hovertemplate": "cat_30_0=11<br>month=1<br>date=%{x}<br>cat_5_0=%{y}<extra></extra>",
           "legendgroup": "11",
           "marker": {
            "color": "rgb(47, 138, 196)",
            "pattern": {
             "shape": ""
            }
           },
           "name": "11",
           "orientation": "h",
           "showlegend": true,
           "textposition": "auto",
           "type": "bar",
           "x": {
            "bdata": "BQ0OEAs=",
            "dtype": "i1"
           },
           "xaxis": "x",
           "y": [
            "a",
            "b",
            "c",
            "d",
            "e"
           ],
           "yaxis": "y"
          },
          {
           "hovertemplate": "cat_30_0=12<br>month=1<br>date=%{x}<br>cat_5_0=%{y}<extra></extra>",
           "legendgroup": "12",
           "marker": {
            "color": "rgb(218, 165, 27)",
            "pattern": {
             "shape": ""
            }
           },
           "name": "12",
           "orientation": "h",
           "showlegend": true,
           "textposition": "auto",
           "type": "bar",
           "x": {
            "bdata": "CQ8PDhY=",
            "dtype": "i1"
           },
           "xaxis": "x",
           "y": [
            "a",
            "b",
            "c",
            "d",
            "e"
           ],
           "yaxis": "y"
          },
          {
           "hovertemplate": "cat_30_0=13<br>month=1<br>date=%{x}<br>cat_5_0=%{y}<extra></extra>",
           "legendgroup": "13",
           "marker": {
            "color": "rgb(36, 121, 108)",
            "pattern": {
             "shape": ""
            }
           },
           "name": "13",
           "orientation": "h",
           "showlegend": true,
           "textposition": "auto",
           "type": "bar",
           "x": {
            "bdata": "Dw4MDQ8=",
            "dtype": "i1"
           },
           "xaxis": "x",
           "y": [
            "a",
            "b",
            "c",
            "d",
            "e"
           ],
           "yaxis": "y"
          },
          {
           "hovertemplate": "cat_30_0=14<br>month=1<br>date=%{x}<br>cat_5_0=%{y}<extra></extra>",
           "legendgroup": "14",
           "marker": {
            "color": "rgb(204, 97, 176)",
            "pattern": {
             "shape": ""
            }
           },
           "name": "14",
           "orientation": "h",
           "showlegend": true,
           "textposition": "auto",
           "type": "bar",
           "x": {
            "bdata": "CA4KDRE=",
            "dtype": "i1"
           },
           "xaxis": "x",
           "y": [
            "a",
            "b",
            "c",
            "d",
            "e"
           ],
           "yaxis": "y"
          },
          {
           "hovertemplate": "cat_30_0=15<br>month=1<br>date=%{x}<br>cat_5_0=%{y}<extra></extra>",
           "legendgroup": "15",
           "marker": {
            "color": "rgb(153, 201, 69)",
            "pattern": {
             "shape": ""
            }
           },
           "name": "15",
           "orientation": "h",
           "showlegend": true,
           "textposition": "auto",
           "type": "bar",
           "x": {
            "bdata": "DRMOEQ8=",
            "dtype": "i1"
           },
           "xaxis": "x",
           "y": [
            "a",
            "b",
            "c",
            "d",
            "e"
           ],
           "yaxis": "y"
          },
          {
           "hovertemplate": "cat_30_0=16<br>month=1<br>date=%{x}<br>cat_5_0=%{y}<extra></extra>",
           "legendgroup": "16",
           "marker": {
            "color": "rgb(82, 188, 163)",
            "pattern": {
             "shape": ""
            }
           },
           "name": "16",
           "orientation": "h",
           "showlegend": true,
           "textposition": "auto",
           "type": "bar",
           "x": {
            "bdata": "Eg4JDBA=",
            "dtype": "i1"
           },
           "xaxis": "x",
           "y": [
            "a",
            "b",
            "c",
            "d",
            "e"
           ],
           "yaxis": "y"
          },
          {
           "hovertemplate": "cat_30_0=17<br>month=1<br>date=%{x}<br>cat_5_0=%{y}<extra></extra>",
           "legendgroup": "17",
           "marker": {
            "color": "rgb(93, 105, 177)",
            "pattern": {
             "shape": ""
            }
           },
           "name": "17",
           "orientation": "h",
           "showlegend": true,
           "textposition": "auto",
           "type": "bar",
           "x": {
            "bdata": "CBoNBxA=",
            "dtype": "i1"
           },
           "xaxis": "x",
           "y": [
            "a",
            "b",
            "c",
            "d",
            "e"
           ],
           "yaxis": "y"
          },
          {
           "hovertemplate": "cat_30_0=18<br>month=1<br>date=%{x}<br>cat_5_0=%{y}<extra></extra>",
           "legendgroup": "18",
           "marker": {
            "color": "rgb(229, 134, 6)",
            "pattern": {
             "shape": ""
            }
           },
           "name": "18",
           "orientation": "h",
           "showlegend": true,
           "textposition": "auto",
           "type": "bar",
           "x": {
            "bdata": "CxIMDBE=",
            "dtype": "i1"
           },
           "xaxis": "x",
           "y": [
            "a",
            "b",
            "c",
            "d",
            "e"
           ],
           "yaxis": "y"
          },
          {
           "hovertemplate": "cat_30_0=19<br>month=1<br>date=%{x}<br>cat_5_0=%{y}<extra></extra>",
           "legendgroup": "19",
           "marker": {
            "color": "rgb(165, 170, 153)",
            "pattern": {
             "shape": ""
            }
           },
           "name": "19",
           "orientation": "h",
           "showlegend": true,
           "textposition": "auto",
           "type": "bar",
           "x": {
            "bdata": "EAkPDA0=",
            "dtype": "i1"
           },
           "xaxis": "x",
           "y": [
            "a",
            "b",
            "c",
            "d",
            "e"
           ],
           "yaxis": "y"
          },
          {
           "hovertemplate": "cat_30_0=2<br>month=1<br>date=%{x}<br>cat_5_0=%{y}<extra></extra>",
           "legendgroup": "2",
           "marker": {
            "color": "rgb(237, 100, 90)",
            "pattern": {
             "shape": ""
            }
           },
           "name": "2",
           "orientation": "h",
           "showlegend": true,
           "textposition": "auto",
           "type": "bar",
           "x": {
            "bdata": "DAwSDxQ=",
            "dtype": "i1"
           },
           "xaxis": "x",
           "y": [
            "a",
            "b",
            "c",
            "d",
            "e"
           ],
           "yaxis": "y"
          },
          {
           "hovertemplate": "cat_30_0=20<br>month=1<br>date=%{x}<br>cat_5_0=%{y}<extra></extra>",
           "legendgroup": "20",
           "marker": {
            "color": "rgb(118, 78, 159)",
            "pattern": {
             "shape": ""
            }
           },
           "name": "20",
           "orientation": "h",
           "showlegend": true,
           "textposition": "auto",
           "type": "bar",
           "x": {
            "bdata": "ExQMDQw=",
            "dtype": "i1"
           },
           "xaxis": "x",
           "y": [
            "a",
            "b",
            "c",
            "d",
            "e"
           ],
           "yaxis": "y"
          },
          {
           "hovertemplate": "cat_30_0=21<br>month=1<br>date=%{x}<br>cat_5_0=%{y}<extra></extra>",
           "legendgroup": "21",
           "marker": {
            "color": "rgb(47, 138, 196)",
            "pattern": {
             "shape": ""
            }
           },
           "name": "21",
           "orientation": "h",
           "showlegend": true,
           "textposition": "auto",
           "type": "bar",
           "x": {
            "bdata": "ChIMDBA=",
            "dtype": "i1"
           },
           "xaxis": "x",
           "y": [
            "a",
            "b",
            "c",
            "d",
            "e"
           ],
           "yaxis": "y"
          },
          {
           "hovertemplate": "cat_30_0=22<br>month=1<br>date=%{x}<br>cat_5_0=%{y}<extra></extra>",
           "legendgroup": "22",
           "marker": {
            "color": "rgb(218, 165, 27)",
            "pattern": {
             "shape": ""
            }
           },
           "name": "22",
           "orientation": "h",
           "showlegend": true,
           "textposition": "auto",
           "type": "bar",
           "x": {
            "bdata": "EBMMBg8=",
            "dtype": "i1"
           },
           "xaxis": "x",
           "y": [
            "a",
            "b",
            "c",
            "d",
            "e"
           ],
           "yaxis": "y"
          },
          {
           "hovertemplate": "cat_30_0=23<br>month=1<br>date=%{x}<br>cat_5_0=%{y}<extra></extra>",
           "legendgroup": "23",
           "marker": {
            "color": "rgb(36, 121, 108)",
            "pattern": {
             "shape": ""
            }
           },
           "name": "23",
           "orientation": "h",
           "showlegend": true,
           "textposition": "auto",
           "type": "bar",
           "x": {
            "bdata": "CBAKEgo=",
            "dtype": "i1"
           },
           "xaxis": "x",
           "y": [
            "a",
            "b",
            "c",
            "d",
            "e"
           ],
           "yaxis": "y"
          },
          {
           "hovertemplate": "cat_30_0=24<br>month=1<br>date=%{x}<br>cat_5_0=%{y}<extra></extra>",
           "legendgroup": "24",
           "marker": {
            "color": "rgb(204, 97, 176)",
            "pattern": {
             "shape": ""
            }
           },
           "name": "24",
           "orientation": "h",
           "showlegend": true,
           "textposition": "auto",
           "type": "bar",
           "x": {
            "bdata": "ChERCg8=",
            "dtype": "i1"
           },
           "xaxis": "x",
           "y": [
            "a",
            "b",
            "c",
            "d",
            "e"
           ],
           "yaxis": "y"
          },
          {
           "hovertemplate": "cat_30_0=25<br>month=1<br>date=%{x}<br>cat_5_0=%{y}<extra></extra>",
           "legendgroup": "25",
           "marker": {
            "color": "rgb(153, 201, 69)",
            "pattern": {
             "shape": ""
            }
           },
           "name": "25",
           "orientation": "h",
           "showlegend": true,
           "textposition": "auto",
           "type": "bar",
           "x": {
            "bdata": "CQwKCg4=",
            "dtype": "i1"
           },
           "xaxis": "x",
           "y": [
            "a",
            "b",
            "c",
            "d",
            "e"
           ],
           "yaxis": "y"
          },
          {
           "hovertemplate": "cat_30_0=26<br>month=1<br>date=%{x}<br>cat_5_0=%{y}<extra></extra>",
           "legendgroup": "26",
           "marker": {
            "color": "rgb(82, 188, 163)",
            "pattern": {
             "shape": ""
            }
           },
           "name": "26",
           "orientation": "h",
           "showlegend": true,
           "textposition": "auto",
           "type": "bar",
           "x": {
            "bdata": "CwwKDQ0=",
            "dtype": "i1"
           },
           "xaxis": "x",
           "y": [
            "a",
            "b",
            "c",
            "d",
            "e"
           ],
           "yaxis": "y"
          },
          {
           "hovertemplate": "cat_30_0=27<br>month=1<br>date=%{x}<br>cat_5_0=%{y}<extra></extra>",
           "legendgroup": "27",
           "marker": {
            "color": "rgb(93, 105, 177)",
            "pattern": {
             "shape": ""
            }
           },
           "name": "27",
           "orientation": "h",
           "showlegend": true,
           "textposition": "auto",
           "type": "bar",
           "x": {
            "bdata": "EBAMBxE=",
            "dtype": "i1"
           },
           "xaxis": "x",
           "y": [
            "a",
            "b",
            "c",
            "d",
            "e"
           ],
           "yaxis": "y"
          },
          {
           "hovertemplate": "cat_30_0=28<br>month=1<br>date=%{x}<br>cat_5_0=%{y}<extra></extra>",
           "legendgroup": "28",
           "marker": {
            "color": "rgb(229, 134, 6)",
            "pattern": {
             "shape": ""
            }
           },
           "name": "28",
           "orientation": "h",
           "showlegend": true,
           "textposition": "auto",
           "type": "bar",
           "x": {
            "bdata": "CwkUDA4=",
            "dtype": "i1"
           },
           "xaxis": "x",
           "y": [
            "a",
            "b",
            "c",
            "d",
            "e"
           ],
           "yaxis": "y"
          },
          {
           "hovertemplate": "cat_30_0=29<br>month=1<br>date=%{x}<br>cat_5_0=%{y}<extra></extra>",
           "legendgroup": "29",
           "marker": {
            "color": "rgb(165, 170, 153)",
            "pattern": {
             "shape": ""
            }
           },
           "name": "29",
           "orientation": "h",
           "showlegend": true,
           "textposition": "auto",
           "type": "bar",
           "x": {
            "bdata": "EBMODQ0=",
            "dtype": "i1"
           },
           "xaxis": "x",
           "y": [
            "a",
            "b",
            "c",
            "d",
            "e"
           ],
           "yaxis": "y"
          },
          {
           "hovertemplate": "cat_30_0=3<br>month=1<br>date=%{x}<br>cat_5_0=%{y}<extra></extra>",
           "legendgroup": "3",
           "marker": {
            "color": "rgb(237, 100, 90)",
            "pattern": {
             "shape": ""
            }
           },
           "name": "3",
           "orientation": "h",
           "showlegend": true,
           "textposition": "auto",
           "type": "bar",
           "x": {
            "bdata": "DQ8MCxI=",
            "dtype": "i1"
           },
           "xaxis": "x",
           "y": [
            "a",
            "b",
            "c",
            "d",
            "e"
           ],
           "yaxis": "y"
          },
          {
           "hovertemplate": "cat_30_0=4<br>month=1<br>date=%{x}<br>cat_5_0=%{y}<extra></extra>",
           "legendgroup": "4",
           "marker": {
            "color": "rgb(118, 78, 159)",
            "pattern": {
             "shape": ""
            }
           },
           "name": "4",
           "orientation": "h",
           "showlegend": true,
           "textposition": "auto",
           "type": "bar",
           "x": {
            "bdata": "Dg4SEQo=",
            "dtype": "i1"
           },
           "xaxis": "x",
           "y": [
            "a",
            "b",
            "c",
            "d",
            "e"
           ],
           "yaxis": "y"
          },
          {
           "hovertemplate": "cat_30_0=5<br>month=1<br>date=%{x}<br>cat_5_0=%{y}<extra></extra>",
           "legendgroup": "5",
           "marker": {
            "color": "rgb(47, 138, 196)",
            "pattern": {
             "shape": ""
            }
           },
           "name": "5",
           "orientation": "h",
           "showlegend": true,
           "textposition": "auto",
           "type": "bar",
           "x": {
            "bdata": "ExAMFww=",
            "dtype": "i1"
           },
           "xaxis": "x",
           "y": [
            "a",
            "b",
            "c",
            "d",
            "e"
           ],
           "yaxis": "y"
          },
          {
           "hovertemplate": "cat_30_0=6<br>month=1<br>date=%{x}<br>cat_5_0=%{y}<extra></extra>",
           "legendgroup": "6",
           "marker": {
            "color": "rgb(218, 165, 27)",
            "pattern": {
             "shape": ""
            }
           },
           "name": "6",
           "orientation": "h",
           "showlegend": true,
           "textposition": "auto",
           "type": "bar",
           "x": {
            "bdata": "Eg0PCw8=",
            "dtype": "i1"
           },
           "xaxis": "x",
           "y": [
            "a",
            "b",
            "c",
            "d",
            "e"
           ],
           "yaxis": "y"
          },
          {
           "hovertemplate": "cat_30_0=7<br>month=1<br>date=%{x}<br>cat_5_0=%{y}<extra></extra>",
           "legendgroup": "7",
           "marker": {
            "color": "rgb(36, 121, 108)",
            "pattern": {
             "shape": ""
            }
           },
           "name": "7",
           "orientation": "h",
           "showlegend": true,
           "textposition": "auto",
           "type": "bar",
           "x": {
            "bdata": "DQ8QCRQ=",
            "dtype": "i1"
           },
           "xaxis": "x",
           "y": [
            "a",
            "b",
            "c",
            "d",
            "e"
           ],
           "yaxis": "y"
          },
          {
           "hovertemplate": "cat_30_0=8<br>month=1<br>date=%{x}<br>cat_5_0=%{y}<extra></extra>",
           "legendgroup": "8",
           "marker": {
            "color": "rgb(204, 97, 176)",
            "pattern": {
             "shape": ""
            }
           },
           "name": "8",
           "orientation": "h",
           "showlegend": true,
           "textposition": "auto",
           "type": "bar",
           "x": {
            "bdata": "FAsKDBU=",
            "dtype": "i1"
           },
           "xaxis": "x",
           "y": [
            "a",
            "b",
            "c",
            "d",
            "e"
           ],
           "yaxis": "y"
          },
          {
           "hovertemplate": "cat_30_0=9<br>month=1<br>date=%{x}<br>cat_5_0=%{y}<extra></extra>",
           "legendgroup": "9",
           "marker": {
            "color": "rgb(153, 201, 69)",
            "pattern": {
             "shape": ""
            }
           },
           "name": "9",
           "orientation": "h",
           "showlegend": true,
           "textposition": "auto",
           "type": "bar",
           "x": {
            "bdata": "DA0PChE=",
            "dtype": "i1"
           },
           "xaxis": "x",
           "y": [
            "a",
            "b",
            "c",
            "d",
            "e"
           ],
           "yaxis": "y"
          }
         ],
         "name": "1"
        },
        {
         "data": [
          {
           "hovertemplate": "cat_30_0=0<br>month=2<br>date=%{x}<br>cat_5_0=%{y}<extra></extra>",
           "legendgroup": "0",
           "marker": {
            "color": "rgb(165, 170, 153)",
            "pattern": {
             "shape": ""
            }
           },
           "name": "0",
           "orientation": "h",
           "showlegend": true,
           "textposition": "auto",
           "type": "bar",
           "x": {
            "bdata": "EAsNCA8=",
            "dtype": "i1"
           },
           "xaxis": "x",
           "y": [
            "a",
            "b",
            "c",
            "d",
            "e"
           ],
           "yaxis": "y"
          },
          {
           "hovertemplate": "cat_30_0=1<br>month=2<br>date=%{x}<br>cat_5_0=%{y}<extra></extra>",
           "legendgroup": "1",
           "marker": {
            "color": "rgb(237, 100, 90)",
            "pattern": {
             "shape": ""
            }
           },
           "name": "1",
           "orientation": "h",
           "showlegend": true,
           "textposition": "auto",
           "type": "bar",
           "x": {
            "bdata": "DRALDgg=",
            "dtype": "i1"
           },
           "xaxis": "x",
           "y": [
            "a",
            "b",
            "c",
            "d",
            "e"
           ],
           "yaxis": "y"
          },
          {
           "hovertemplate": "cat_30_0=10<br>month=2<br>date=%{x}<br>cat_5_0=%{y}<extra></extra>",
           "legendgroup": "10",
           "marker": {
            "color": "rgb(118, 78, 159)",
            "pattern": {
             "shape": ""
            }
           },
           "name": "10",
           "orientation": "h",
           "showlegend": true,
           "textposition": "auto",
           "type": "bar",
           "x": {
            "bdata": "DwsKCw4=",
            "dtype": "i1"
           },
           "xaxis": "x",
           "y": [
            "a",
            "b",
            "c",
            "d",
            "e"
           ],
           "yaxis": "y"
          },
          {
           "hovertemplate": "cat_30_0=11<br>month=2<br>date=%{x}<br>cat_5_0=%{y}<extra></extra>",
           "legendgroup": "11",
           "marker": {
            "color": "rgb(47, 138, 196)",
            "pattern": {
             "shape": ""
            }
           },
           "name": "11",
           "orientation": "h",
           "showlegend": true,
           "textposition": "auto",
           "type": "bar",
           "x": {
            "bdata": "CAgLBhE=",
            "dtype": "i1"
           },
           "xaxis": "x",
           "y": [
            "a",
            "b",
            "c",
            "d",
            "e"
           ],
           "yaxis": "y"
          },
          {
           "hovertemplate": "cat_30_0=12<br>month=2<br>date=%{x}<br>cat_5_0=%{y}<extra></extra>",
           "legendgroup": "12",
           "marker": {
            "color": "rgb(218, 165, 27)",
            "pattern": {
             "shape": ""
            }
           },
           "name": "12",
           "orientation": "h",
           "showlegend": true,
           "textposition": "auto",
           "type": "bar",
           "x": {
            "bdata": "CgkMBwo=",
            "dtype": "i1"
           },
           "xaxis": "x",
           "y": [
            "a",
            "b",
            "c",
            "d",
            "e"
           ],
           "yaxis": "y"
          },
          {
           "hovertemplate": "cat_30_0=13<br>month=2<br>date=%{x}<br>cat_5_0=%{y}<extra></extra>",
           "legendgroup": "13",
           "marker": {
            "color": "rgb(36, 121, 108)",
            "pattern": {
             "shape": ""
            }
           },
           "name": "13",
           "orientation": "h",
           "showlegend": true,
           "textposition": "auto",
           "type": "bar",
           "x": {
            "bdata": "DA0OCAw=",
            "dtype": "i1"
           },
           "xaxis": "x",
           "y": [
            "a",
            "b",
            "c",
            "d",
            "e"
           ],
           "yaxis": "y"
          },
          {
           "hovertemplate": "cat_30_0=14<br>month=2<br>date=%{x}<br>cat_5_0=%{y}<extra></extra>",
           "legendgroup": "14",
           "marker": {
            "color": "rgb(204, 97, 176)",
            "pattern": {
             "shape": ""
            }
           },
           "name": "14",
           "orientation": "h",
           "showlegend": true,
           "textposition": "auto",
           "type": "bar",
           "x": {
            "bdata": "CQgVCRM=",
            "dtype": "i1"
           },
           "xaxis": "x",
           "y": [
            "a",
            "b",
            "c",
            "d",
            "e"
           ],
           "yaxis": "y"
          },
          {
           "hovertemplate": "cat_30_0=15<br>month=2<br>date=%{x}<br>cat_5_0=%{y}<extra></extra>",
           "legendgroup": "15",
           "marker": {
            "color": "rgb(153, 201, 69)",
            "pattern": {
             "shape": ""
            }
           },
           "name": "15",
           "orientation": "h",
           "showlegend": true,
           "textposition": "auto",
           "type": "bar",
           "x": {
            "bdata": "Cg0PCw8=",
            "dtype": "i1"
           },
           "xaxis": "x",
           "y": [
            "a",
            "b",
            "c",
            "d",
            "e"
           ],
           "yaxis": "y"
          },
          {
           "hovertemplate": "cat_30_0=16<br>month=2<br>date=%{x}<br>cat_5_0=%{y}<extra></extra>",
           "legendgroup": "16",
           "marker": {
            "color": "rgb(82, 188, 163)",
            "pattern": {
             "shape": ""
            }
           },
           "name": "16",
           "orientation": "h",
           "showlegend": true,
           "textposition": "auto",
           "type": "bar",
           "x": {
            "bdata": "EgsNDwo=",
            "dtype": "i1"
           },
           "xaxis": "x",
           "y": [
            "a",
            "b",
            "c",
            "d",
            "e"
           ],
           "yaxis": "y"
          },
          {
           "hovertemplate": "cat_30_0=17<br>month=2<br>date=%{x}<br>cat_5_0=%{y}<extra></extra>",
           "legendgroup": "17",
           "marker": {
            "color": "rgb(93, 105, 177)",
            "pattern": {
             "shape": ""
            }
           },
           "name": "17",
           "orientation": "h",
           "showlegend": true,
           "textposition": "auto",
           "type": "bar",
           "x": {
            "bdata": "DQ0QFxI=",
            "dtype": "i1"
           },
           "xaxis": "x",
           "y": [
            "a",
            "b",
            "c",
            "d",
            "e"
           ],
           "yaxis": "y"
          },
          {
           "hovertemplate": "cat_30_0=18<br>month=2<br>date=%{x}<br>cat_5_0=%{y}<extra></extra>",
           "legendgroup": "18",
           "marker": {
            "color": "rgb(229, 134, 6)",
            "pattern": {
             "shape": ""
            }
           },
           "name": "18",
           "orientation": "h",
           "showlegend": true,
           "textposition": "auto",
           "type": "bar",
           "x": {
            "bdata": "EQ4PDAg=",
            "dtype": "i1"
           },
           "xaxis": "x",
           "y": [
            "a",
            "b",
            "c",
            "d",
            "e"
           ],
           "yaxis": "y"
          },
          {
           "hovertemplate": "cat_30_0=19<br>month=2<br>date=%{x}<br>cat_5_0=%{y}<extra></extra>",
           "legendgroup": "19",
           "marker": {
            "color": "rgb(165, 170, 153)",
            "pattern": {
             "shape": ""
            }
           },
           "name": "19",
           "orientation": "h",
           "showlegend": true,
           "textposition": "auto",
           "type": "bar",
           "x": {
            "bdata": "DAkPCgc=",
            "dtype": "i1"
           },
           "xaxis": "x",
           "y": [
            "a",
            "b",
            "c",
            "d",
            "e"
           ],
           "yaxis": "y"
          },
          {
           "hovertemplate": "cat_30_0=2<br>month=2<br>date=%{x}<br>cat_5_0=%{y}<extra></extra>",
           "legendgroup": "2",
           "marker": {
            "color": "rgb(237, 100, 90)",
            "pattern": {
             "shape": ""
            }
           },
           "name": "2",
           "orientation": "h",
           "showlegend": true,
           "textposition": "auto",
           "type": "bar",
           "x": {
            "bdata": "DAoICAg=",
            "dtype": "i1"
           },
           "xaxis": "x",
           "y": [
            "a",
            "b",
            "c",
            "d",
            "e"
           ],
           "yaxis": "y"
          },
          {
           "hovertemplate": "cat_30_0=20<br>month=2<br>date=%{x}<br>cat_5_0=%{y}<extra></extra>",
           "legendgroup": "20",
           "marker": {
            "color": "rgb(118, 78, 159)",
            "pattern": {
             "shape": ""
            }
           },
           "name": "20",
           "orientation": "h",
           "showlegend": true,
           "textposition": "auto",
           "type": "bar",
           "x": {
            "bdata": "DgwNCxI=",
            "dtype": "i1"
           },
           "xaxis": "x",
           "y": [
            "a",
            "b",
            "c",
            "d",
            "e"
           ],
           "yaxis": "y"
          },
          {
           "hovertemplate": "cat_30_0=21<br>month=2<br>date=%{x}<br>cat_5_0=%{y}<extra></extra>",
           "legendgroup": "21",
           "marker": {
            "color": "rgb(47, 138, 196)",
            "pattern": {
             "shape": ""
            }
           },
           "name": "21",
           "orientation": "h",
           "showlegend": true,
           "textposition": "auto",
           "type": "bar",
           "x": {
            "bdata": "FxEODhE=",
            "dtype": "i1"
           },
           "xaxis": "x",
           "y": [
            "a",
            "b",
            "c",
            "d",
            "e"
           ],
           "yaxis": "y"
          },
          {
           "hovertemplate": "cat_30_0=22<br>month=2<br>date=%{x}<br>cat_5_0=%{y}<extra></extra>",
           "legendgroup": "22",
           "marker": {
            "color": "rgb(218, 165, 27)",
            "pattern": {
             "shape": ""
            }
           },
           "name": "22",
           "orientation": "h",
           "showlegend": true,
           "textposition": "auto",
           "type": "bar",
           "x": {
            "bdata": "DgkLDQs=",
            "dtype": "i1"
           },
           "xaxis": "x",
           "y": [
            "a",
            "b",
            "c",
            "d",
            "e"
           ],
           "yaxis": "y"
          },
          {
           "hovertemplate": "cat_30_0=23<br>month=2<br>date=%{x}<br>cat_5_0=%{y}<extra></extra>",
           "legendgroup": "23",
           "marker": {
            "color": "rgb(36, 121, 108)",
            "pattern": {
             "shape": ""
            }
           },
           "name": "23",
           "orientation": "h",
           "showlegend": true,
           "textposition": "auto",
           "type": "bar",
           "x": {
            "bdata": "Cg0TDA8=",
            "dtype": "i1"
           },
           "xaxis": "x",
           "y": [
            "a",
            "b",
            "c",
            "d",
            "e"
           ],
           "yaxis": "y"
          },
          {
           "hovertemplate": "cat_30_0=24<br>month=2<br>date=%{x}<br>cat_5_0=%{y}<extra></extra>",
           "legendgroup": "24",
           "marker": {
            "color": "rgb(204, 97, 176)",
            "pattern": {
             "shape": ""
            }
           },
           "name": "24",
           "orientation": "h",
           "showlegend": true,
           "textposition": "auto",
           "type": "bar",
           "x": {
            "bdata": "BQwLDhE=",
            "dtype": "i1"
           },
           "xaxis": "x",
           "y": [
            "a",
            "b",
            "c",
            "d",
            "e"
           ],
           "yaxis": "y"
          },
          {
           "hovertemplate": "cat_30_0=25<br>month=2<br>date=%{x}<br>cat_5_0=%{y}<extra></extra>",
           "legendgroup": "25",
           "marker": {
            "color": "rgb(153, 201, 69)",
            "pattern": {
             "shape": ""
            }
           },
           "name": "25",
           "orientation": "h",
           "showlegend": true,
           "textposition": "auto",
           "type": "bar",
           "x": {
            "bdata": "CQ0RDAs=",
            "dtype": "i1"
           },
           "xaxis": "x",
           "y": [
            "a",
            "b",
            "c",
            "d",
            "e"
           ],
           "yaxis": "y"
          },
          {
           "hovertemplate": "cat_30_0=26<br>month=2<br>date=%{x}<br>cat_5_0=%{y}<extra></extra>",
           "legendgroup": "26",
           "marker": {
            "color": "rgb(82, 188, 163)",
            "pattern": {
             "shape": ""
            }
           },
           "name": "26",
           "orientation": "h",
           "showlegend": true,
           "textposition": "auto",
           "type": "bar",
           "x": {
            "bdata": "CgwLDAw=",
            "dtype": "i1"
           },
           "xaxis": "x",
           "y": [
            "a",
            "b",
            "c",
            "d",
            "e"
           ],
           "yaxis": "y"
          },
          {
           "hovertemplate": "cat_30_0=27<br>month=2<br>date=%{x}<br>cat_5_0=%{y}<extra></extra>",
           "legendgroup": "27",
           "marker": {
            "color": "rgb(93, 105, 177)",
            "pattern": {
             "shape": ""
            }
           },
           "name": "27",
           "orientation": "h",
           "showlegend": true,
           "textposition": "auto",
           "type": "bar",
           "x": {
            "bdata": "DAgOFgg=",
            "dtype": "i1"
           },
           "xaxis": "x",
           "y": [
            "a",
            "b",
            "c",
            "d",
            "e"
           ],
           "yaxis": "y"
          },
          {
           "hovertemplate": "cat_30_0=28<br>month=2<br>date=%{x}<br>cat_5_0=%{y}<extra></extra>",
           "legendgroup": "28",
           "marker": {
            "color": "rgb(229, 134, 6)",
            "pattern": {
             "shape": ""
            }
           },
           "name": "28",
           "orientation": "h",
           "showlegend": true,
           "textposition": "auto",
           "type": "bar",
           "x": {
            "bdata": "CgkPCw4=",
            "dtype": "i1"
           },
           "xaxis": "x",
           "y": [
            "a",
            "b",
            "c",
            "d",
            "e"
           ],
           "yaxis": "y"
          },
          {
           "hovertemplate": "cat_30_0=29<br>month=2<br>date=%{x}<br>cat_5_0=%{y}<extra></extra>",
           "legendgroup": "29",
           "marker": {
            "color": "rgb(165, 170, 153)",
            "pattern": {
             "shape": ""
            }
           },
           "name": "29",
           "orientation": "h",
           "showlegend": true,
           "textposition": "auto",
           "type": "bar",
           "x": {
            "bdata": "EA8PCQw=",
            "dtype": "i1"
           },
           "xaxis": "x",
           "y": [
            "a",
            "b",
            "c",
            "d",
            "e"
           ],
           "yaxis": "y"
          },
          {
           "hovertemplate": "cat_30_0=3<br>month=2<br>date=%{x}<br>cat_5_0=%{y}<extra></extra>",
           "legendgroup": "3",
           "marker": {
            "color": "rgb(237, 100, 90)",
            "pattern": {
             "shape": ""
            }
           },
           "name": "3",
           "orientation": "h",
           "showlegend": true,
           "textposition": "auto",
           "type": "bar",
           "x": {
            "bdata": "CAoUDQc=",
            "dtype": "i1"
           },
           "xaxis": "x",
           "y": [
            "a",
            "b",
            "c",
            "d",
            "e"
           ],
           "yaxis": "y"
          },
          {
           "hovertemplate": "cat_30_0=4<br>month=2<br>date=%{x}<br>cat_5_0=%{y}<extra></extra>",
           "legendgroup": "4",
           "marker": {
            "color": "rgb(118, 78, 159)",
            "pattern": {
             "shape": ""
            }
           },
           "name": "4",
           "orientation": "h",
           "showlegend": true,
           "textposition": "auto",
           "type": "bar",
           "x": {
            "bdata": "BgkXDQ0=",
            "dtype": "i1"
           },
           "xaxis": "x",
           "y": [
            "a",
            "b",
            "c",
            "d",
            "e"
           ],
           "yaxis": "y"
          },
          {
           "hovertemplate": "cat_30_0=5<br>month=2<br>date=%{x}<br>cat_5_0=%{y}<extra></extra>",
           "legendgroup": "5",
           "marker": {
            "color": "rgb(47, 138, 196)",
            "pattern": {
             "shape": ""
            }
           },
           "name": "5",
           "orientation": "h",
           "showlegend": true,
           "textposition": "auto",
           "type": "bar",
           "x": {
            "bdata": "Bw8NDAw=",
            "dtype": "i1"
           },
           "xaxis": "x",
           "y": [
            "a",
            "b",
            "c",
            "d",
            "e"
           ],
           "yaxis": "y"
          },
          {
           "hovertemplate": "cat_30_0=6<br>month=2<br>date=%{x}<br>cat_5_0=%{y}<extra></extra>",
           "legendgroup": "6",
           "marker": {
            "color": "rgb(218, 165, 27)",
            "pattern": {
             "shape": ""
            }
           },
           "name": "6",
           "orientation": "h",
           "showlegend": true,
           "textposition": "auto",
           "type": "bar",
           "x": {
            "bdata": "DhYJEgo=",
            "dtype": "i1"
           },
           "xaxis": "x",
           "y": [
            "a",
            "b",
            "c",
            "d",
            "e"
           ],
           "yaxis": "y"
          },
          {
           "hovertemplate": "cat_30_0=7<br>month=2<br>date=%{x}<br>cat_5_0=%{y}<extra></extra>",
           "legendgroup": "7",
           "marker": {
            "color": "rgb(36, 121, 108)",
            "pattern": {
             "shape": ""
            }
           },
           "name": "7",
           "orientation": "h",
           "showlegend": true,
           "textposition": "auto",
           "type": "bar",
           "x": {
            "bdata": "CRAHDRA=",
            "dtype": "i1"
           },
           "xaxis": "x",
           "y": [
            "a",
            "b",
            "c",
            "d",
            "e"
           ],
           "yaxis": "y"
          },
          {
           "hovertemplate": "cat_30_0=8<br>month=2<br>date=%{x}<br>cat_5_0=%{y}<extra></extra>",
           "legendgroup": "8",
           "marker": {
            "color": "rgb(204, 97, 176)",
            "pattern": {
             "shape": ""
            }
           },
           "name": "8",
           "orientation": "h",
           "showlegend": true,
           "textposition": "auto",
           "type": "bar",
           "x": {
            "bdata": "CAkPDxA=",
            "dtype": "i1"
           },
           "xaxis": "x",
           "y": [
            "a",
            "b",
            "c",
            "d",
            "e"
           ],
           "yaxis": "y"
          },
          {
           "hovertemplate": "cat_30_0=9<br>month=2<br>date=%{x}<br>cat_5_0=%{y}<extra></extra>",
           "legendgroup": "9",
           "marker": {
            "color": "rgb(153, 201, 69)",
            "pattern": {
             "shape": ""
            }
           },
           "name": "9",
           "orientation": "h",
           "showlegend": true,
           "textposition": "auto",
           "type": "bar",
           "x": {
            "bdata": "Cg4KDAk=",
            "dtype": "i1"
           },
           "xaxis": "x",
           "y": [
            "a",
            "b",
            "c",
            "d",
            "e"
           ],
           "yaxis": "y"
          }
         ],
         "name": "2"
        },
        {
         "data": [
          {
           "hovertemplate": "cat_30_0=0<br>month=3<br>date=%{x}<br>cat_5_0=%{y}<extra></extra>",
           "legendgroup": "0",
           "marker": {
            "color": "rgb(165, 170, 153)",
            "pattern": {
             "shape": ""
            }
           },
           "name": "0",
           "orientation": "h",
           "showlegend": true,
           "textposition": "auto",
           "type": "bar",
           "x": {
            "bdata": "DgwMDg8=",
            "dtype": "i1"
           },
           "xaxis": "x",
           "y": [
            "a",
            "b",
            "c",
            "d",
            "e"
           ],
           "yaxis": "y"
          },
          {
           "hovertemplate": "cat_30_0=1<br>month=3<br>date=%{x}<br>cat_5_0=%{y}<extra></extra>",
           "legendgroup": "1",
           "marker": {
            "color": "rgb(237, 100, 90)",
            "pattern": {
             "shape": ""
            }
           },
           "name": "1",
           "orientation": "h",
           "showlegend": true,
           "textposition": "auto",
           "type": "bar",
           "x": {
            "bdata": "EAwHBxA=",
            "dtype": "i1"
           },
           "xaxis": "x",
           "y": [
            "a",
            "b",
            "c",
            "d",
            "e"
           ],
           "yaxis": "y"
          },
          {
           "hovertemplate": "cat_30_0=10<br>month=3<br>date=%{x}<br>cat_5_0=%{y}<extra></extra>",
           "legendgroup": "10",
           "marker": {
            "color": "rgb(118, 78, 159)",
            "pattern": {
             "shape": ""
            }
           },
           "name": "10",
           "orientation": "h",
           "showlegend": true,
           "textposition": "auto",
           "type": "bar",
           "x": {
            "bdata": "EA0QEg0=",
            "dtype": "i1"
           },
           "xaxis": "x",
           "y": [
            "a",
            "b",
            "c",
            "d",
            "e"
           ],
           "yaxis": "y"
          },
          {
           "hovertemplate": "cat_30_0=11<br>month=3<br>date=%{x}<br>cat_5_0=%{y}<extra></extra>",
           "legendgroup": "11",
           "marker": {
            "color": "rgb(47, 138, 196)",
            "pattern": {
             "shape": ""
            }
           },
           "name": "11",
           "orientation": "h",
           "showlegend": true,
           "textposition": "auto",
           "type": "bar",
           "x": {
            "bdata": "BxMFCA4=",
            "dtype": "i1"
           },
           "xaxis": "x",
           "y": [
            "a",
            "b",
            "c",
            "d",
            "e"
           ],
           "yaxis": "y"
          },
          {
           "hovertemplate": "cat_30_0=12<br>month=3<br>date=%{x}<br>cat_5_0=%{y}<extra></extra>",
           "legendgroup": "12",
           "marker": {
            "color": "rgb(218, 165, 27)",
            "pattern": {
             "shape": ""
            }
           },
           "name": "12",
           "orientation": "h",
           "showlegend": true,
           "textposition": "auto",
           "type": "bar",
           "x": {
            "bdata": "EAsHDRQ=",
            "dtype": "i1"
           },
           "xaxis": "x",
           "y": [
            "a",
            "b",
            "c",
            "d",
            "e"
           ],
           "yaxis": "y"
          },
          {
           "hovertemplate": "cat_30_0=13<br>month=3<br>date=%{x}<br>cat_5_0=%{y}<extra></extra>",
           "legendgroup": "13",
           "marker": {
            "color": "rgb(36, 121, 108)",
            "pattern": {
             "shape": ""
            }
           },
           "name": "13",
           "orientation": "h",
           "showlegend": true,
           "textposition": "auto",
           "type": "bar",
           "x": {
            "bdata": "Cw4OCwk=",
            "dtype": "i1"
           },
           "xaxis": "x",
           "y": [
            "a",
            "b",
            "c",
            "d",
            "e"
           ],
           "yaxis": "y"
          },
          {
           "hovertemplate": "cat_30_0=14<br>month=3<br>date=%{x}<br>cat_5_0=%{y}<extra></extra>",
           "legendgroup": "14",
           "marker": {
            "color": "rgb(204, 97, 176)",
            "pattern": {
             "shape": ""
            }
           },
           "name": "14",
           "orientation": "h",
           "showlegend": true,
           "textposition": "auto",
           "type": "bar",
           "x": {
            "bdata": "Dw0SEw0=",
            "dtype": "i1"
           },
           "xaxis": "x",
           "y": [
            "a",
            "b",
            "c",
            "d",
            "e"
           ],
           "yaxis": "y"
          },
          {
           "hovertemplate": "cat_30_0=15<br>month=3<br>date=%{x}<br>cat_5_0=%{y}<extra></extra>",
           "legendgroup": "15",
           "marker": {
            "color": "rgb(153, 201, 69)",
            "pattern": {
             "shape": ""
            }
           },
           "name": "15",
           "orientation": "h",
           "showlegend": true,
           "textposition": "auto",
           "type": "bar",
           "x": {
            "bdata": "EQwLDxA=",
            "dtype": "i1"
           },
           "xaxis": "x",
           "y": [
            "a",
            "b",
            "c",
            "d",
            "e"
           ],
           "yaxis": "y"
          },
          {
           "hovertemplate": "cat_30_0=16<br>month=3<br>date=%{x}<br>cat_5_0=%{y}<extra></extra>",
           "legendgroup": "16",
           "marker": {
            "color": "rgb(82, 188, 163)",
            "pattern": {
             "shape": ""
            }
           },
           "name": "16",
           "orientation": "h",
           "showlegend": true,
           "textposition": "auto",
           "type": "bar",
           "x": {
            "bdata": "DQ0QDRM=",
            "dtype": "i1"
           },
           "xaxis": "x",
           "y": [
            "a",
            "b",
            "c",
            "d",
            "e"
           ],
           "yaxis": "y"
          },
          {
           "hovertemplate": "cat_30_0=17<br>month=3<br>date=%{x}<br>cat_5_0=%{y}<extra></extra>",
           "legendgroup": "17",
           "marker": {
            "color": "rgb(93, 105, 177)",
            "pattern": {
             "shape": ""
            }
           },
           "name": "17",
           "orientation": "h",
           "showlegend": true,
           "textposition": "auto",
           "type": "bar",
           "x": {
            "bdata": "DQ4UDQ4=",
            "dtype": "i1"
           },
           "xaxis": "x",
           "y": [
            "a",
            "b",
            "c",
            "d",
            "e"
           ],
           "yaxis": "y"
          },
          {
           "hovertemplate": "cat_30_0=18<br>month=3<br>date=%{x}<br>cat_5_0=%{y}<extra></extra>",
           "legendgroup": "18",
           "marker": {
            "color": "rgb(229, 134, 6)",
            "pattern": {
             "shape": ""
            }
           },
           "name": "18",
           "orientation": "h",
           "showlegend": true,
           "textposition": "auto",
           "type": "bar",
           "x": {
            "bdata": "DgsFDwQ=",
            "dtype": "i1"
           },
           "xaxis": "x",
           "y": [
            "a",
            "b",
            "c",
            "d",
            "e"
           ],
           "yaxis": "y"
          },
          {
           "hovertemplate": "cat_30_0=19<br>month=3<br>date=%{x}<br>cat_5_0=%{y}<extra></extra>",
           "legendgroup": "19",
           "marker": {
            "color": "rgb(165, 170, 153)",
            "pattern": {
             "shape": ""
            }
           },
           "name": "19",
           "orientation": "h",
           "showlegend": true,
           "textposition": "auto",
           "type": "bar",
           "x": {
            "bdata": "CwgWDQ8=",
            "dtype": "i1"
           },
           "xaxis": "x",
           "y": [
            "a",
            "b",
            "c",
            "d",
            "e"
           ],
           "yaxis": "y"
          },
          {
           "hovertemplate": "cat_30_0=2<br>month=3<br>date=%{x}<br>cat_5_0=%{y}<extra></extra>",
           "legendgroup": "2",
           "marker": {
            "color": "rgb(237, 100, 90)",
            "pattern": {
             "shape": ""
            }
           },
           "name": "2",
           "orientation": "h",
           "showlegend": true,
           "textposition": "auto",
           "type": "bar",
           "x": {
            "bdata": "Fg0LCA0=",
            "dtype": "i1"
           },
           "xaxis": "x",
           "y": [
            "a",
            "b",
            "c",
            "d",
            "e"
           ],
           "yaxis": "y"
          },
          {
           "hovertemplate": "cat_30_0=20<br>month=3<br>date=%{x}<br>cat_5_0=%{y}<extra></extra>",
           "legendgroup": "20",
           "marker": {
            "color": "rgb(118, 78, 159)",
            "pattern": {
             "shape": ""
            }
           },
           "name": "20",
           "orientation": "h",
           "showlegend": true,
           "textposition": "auto",
           "type": "bar",
           "x": {
            "bdata": "EA8IERE=",
            "dtype": "i1"
           },
           "xaxis": "x",
           "y": [
            "a",
            "b",
            "c",
            "d",
            "e"
           ],
           "yaxis": "y"
          },
          {
           "hovertemplate": "cat_30_0=21<br>month=3<br>date=%{x}<br>cat_5_0=%{y}<extra></extra>",
           "legendgroup": "21",
           "marker": {
            "color": "rgb(47, 138, 196)",
            "pattern": {
             "shape": ""
            }
           },
           "name": "21",
           "orientation": "h",
           "showlegend": true,
           "textposition": "auto",
           "type": "bar",
           "x": {
            "bdata": "FhITEg4=",
            "dtype": "i1"
           },
           "xaxis": "x",
           "y": [
            "a",
            "b",
            "c",
            "d",
            "e"
           ],
           "yaxis": "y"
          },
          {
           "hovertemplate": "cat_30_0=22<br>month=3<br>date=%{x}<br>cat_5_0=%{y}<extra></extra>",
           "legendgroup": "22",
           "marker": {
            "color": "rgb(218, 165, 27)",
            "pattern": {
             "shape": ""
            }
           },
           "name": "22",
           "orientation": "h",
           "showlegend": true,
           "textposition": "auto",
           "type": "bar",
           "x": {
            "bdata": "DwsLDAY=",
            "dtype": "i1"
           },
           "xaxis": "x",
           "y": [
            "a",
            "b",
            "c",
            "d",
            "e"
           ],
           "yaxis": "y"
          },
          {
           "hovertemplate": "cat_30_0=23<br>month=3<br>date=%{x}<br>cat_5_0=%{y}<extra></extra>",
           "legendgroup": "23",
           "marker": {
            "color": "rgb(36, 121, 108)",
            "pattern": {
             "shape": ""
            }
           },
           "name": "23",
           "orientation": "h",
           "showlegend": true,
           "textposition": "auto",
           "type": "bar",
           "x": {
            "bdata": "FQoQDgo=",
            "dtype": "i1"
           },
           "xaxis": "x",
           "y": [
            "a",
            "b",
            "c",
            "d",
            "e"
           ],
           "yaxis": "y"
          },
          {
           "hovertemplate": "cat_30_0=24<br>month=3<br>date=%{x}<br>cat_5_0=%{y}<extra></extra>",
           "legendgroup": "24",
           "marker": {
            "color": "rgb(204, 97, 176)",
            "pattern": {
             "shape": ""
            }
           },
           "name": "24",
           "orientation": "h",
           "showlegend": true,
           "textposition": "auto",
           "type": "bar",
           "x": {
            "bdata": "DAwICg0=",
            "dtype": "i1"
           },
           "xaxis": "x",
           "y": [
            "a",
            "b",
            "c",
            "d",
            "e"
           ],
           "yaxis": "y"
          },
          {
           "hovertemplate": "cat_30_0=25<br>month=3<br>date=%{x}<br>cat_5_0=%{y}<extra></extra>",
           "legendgroup": "25",
           "marker": {
            "color": "rgb(153, 201, 69)",
            "pattern": {
             "shape": ""
            }
           },
           "name": "25",
           "orientation": "h",
           "showlegend": true,
           "textposition": "auto",
           "type": "bar",
           "x": {
            "bdata": "CRAXDw8=",
            "dtype": "i1"
           },
           "xaxis": "x",
           "y": [
            "a",
            "b",
            "c",
            "d",
            "e"
           ],
           "yaxis": "y"
          },
          {
           "hovertemplate": "cat_30_0=26<br>month=3<br>date=%{x}<br>cat_5_0=%{y}<extra></extra>",
           "legendgroup": "26",
           "marker": {
            "color": "rgb(82, 188, 163)",
            "pattern": {
             "shape": ""
            }
           },
           "name": "26",
           "orientation": "h",
           "showlegend": true,
           "textposition": "auto",
           "type": "bar",
           "x": {
            "bdata": "Dw4MEBU=",
            "dtype": "i1"
           },
           "xaxis": "x",
           "y": [
            "a",
            "b",
            "c",
            "d",
            "e"
           ],
           "yaxis": "y"
          },
          {
           "hovertemplate": "cat_30_0=27<br>month=3<br>date=%{x}<br>cat_5_0=%{y}<extra></extra>",
           "legendgroup": "27",
           "marker": {
            "color": "rgb(93, 105, 177)",
            "pattern": {
             "shape": ""
            }
           },
           "name": "27",
           "orientation": "h",
           "showlegend": true,
           "textposition": "auto",
           "type": "bar",
           "x": {
            "bdata": "ERYXDRE=",
            "dtype": "i1"
           },
           "xaxis": "x",
           "y": [
            "a",
            "b",
            "c",
            "d",
            "e"
           ],
           "yaxis": "y"
          },
          {
           "hovertemplate": "cat_30_0=28<br>month=3<br>date=%{x}<br>cat_5_0=%{y}<extra></extra>",
           "legendgroup": "28",
           "marker": {
            "color": "rgb(229, 134, 6)",
            "pattern": {
             "shape": ""
            }
           },
           "name": "28",
           "orientation": "h",
           "showlegend": true,
           "textposition": "auto",
           "type": "bar",
           "x": {
            "bdata": "DgsTDBA=",
            "dtype": "i1"
           },
           "xaxis": "x",
           "y": [
            "a",
            "b",
            "c",
            "d",
            "e"
           ],
           "yaxis": "y"
          },
          {
           "hovertemplate": "cat_30_0=29<br>month=3<br>date=%{x}<br>cat_5_0=%{y}<extra></extra>",
           "legendgroup": "29",
           "marker": {
            "color": "rgb(165, 170, 153)",
            "pattern": {
             "shape": ""
            }
           },
           "name": "29",
           "orientation": "h",
           "showlegend": true,
           "textposition": "auto",
           "type": "bar",
           "x": {
            "bdata": "DBINCw0=",
            "dtype": "i1"
           },
           "xaxis": "x",
           "y": [
            "a",
            "b",
            "c",
            "d",
            "e"
           ],
           "yaxis": "y"
          },
          {
           "hovertemplate": "cat_30_0=3<br>month=3<br>date=%{x}<br>cat_5_0=%{y}<extra></extra>",
           "legendgroup": "3",
           "marker": {
            "color": "rgb(237, 100, 90)",
            "pattern": {
             "shape": ""
            }
           },
           "name": "3",
           "orientation": "h",
           "showlegend": true,
           "textposition": "auto",
           "type": "bar",
           "x": {
            "bdata": "DA8NDBQ=",
            "dtype": "i1"
           },
           "xaxis": "x",
           "y": [
            "a",
            "b",
            "c",
            "d",
            "e"
           ],
           "yaxis": "y"
          },
          {
           "hovertemplate": "cat_30_0=4<br>month=3<br>date=%{x}<br>cat_5_0=%{y}<extra></extra>",
           "legendgroup": "4",
           "marker": {
            "color": "rgb(118, 78, 159)",
            "pattern": {
             "shape": ""
            }
           },
           "name": "4",
           "orientation": "h",
           "showlegend": true,
           "textposition": "auto",
           "type": "bar",
           "x": {
            "bdata": "DwkQDw0=",
            "dtype": "i1"
           },
           "xaxis": "x",
           "y": [
            "a",
            "b",
            "c",
            "d",
            "e"
           ],
           "yaxis": "y"
          },
          {
           "hovertemplate": "cat_30_0=5<br>month=3<br>date=%{x}<br>cat_5_0=%{y}<extra></extra>",
           "legendgroup": "5",
           "marker": {
            "color": "rgb(47, 138, 196)",
            "pattern": {
             "shape": ""
            }
           },
           "name": "5",
           "orientation": "h",
           "showlegend": true,
           "textposition": "auto",
           "type": "bar",
           "x": {
            "bdata": "DREIDg8=",
            "dtype": "i1"
           },
           "xaxis": "x",
           "y": [
            "a",
            "b",
            "c",
            "d",
            "e"
           ],
           "yaxis": "y"
          },
          {
           "hovertemplate": "cat_30_0=6<br>month=3<br>date=%{x}<br>cat_5_0=%{y}<extra></extra>",
           "legendgroup": "6",
           "marker": {
            "color": "rgb(218, 165, 27)",
            "pattern": {
             "shape": ""
            }
           },
           "name": "6",
           "orientation": "h",
           "showlegend": true,
           "textposition": "auto",
           "type": "bar",
           "x": {
            "bdata": "BwwPCg8=",
            "dtype": "i1"
           },
           "xaxis": "x",
           "y": [
            "a",
            "b",
            "c",
            "d",
            "e"
           ],
           "yaxis": "y"
          },
          {
           "hovertemplate": "cat_30_0=7<br>month=3<br>date=%{x}<br>cat_5_0=%{y}<extra></extra>",
           "legendgroup": "7",
           "marker": {
            "color": "rgb(36, 121, 108)",
            "pattern": {
             "shape": ""
            }
           },
           "name": "7",
           "orientation": "h",
           "showlegend": true,
           "textposition": "auto",
           "type": "bar",
           "x": {
            "bdata": "FAcUCg4=",
            "dtype": "i1"
           },
           "xaxis": "x",
           "y": [
            "a",
            "b",
            "c",
            "d",
            "e"
           ],
           "yaxis": "y"
          },
          {
           "hovertemplate": "cat_30_0=8<br>month=3<br>date=%{x}<br>cat_5_0=%{y}<extra></extra>",
           "legendgroup": "8",
           "marker": {
            "color": "rgb(204, 97, 176)",
            "pattern": {
             "shape": ""
            }
           },
           "name": "8",
           "orientation": "h",
           "showlegend": true,
           "textposition": "auto",
           "type": "bar",
           "x": {
            "bdata": "CwwLCwo=",
            "dtype": "i1"
           },
           "xaxis": "x",
           "y": [
            "a",
            "b",
            "c",
            "d",
            "e"
           ],
           "yaxis": "y"
          },
          {
           "hovertemplate": "cat_30_0=9<br>month=3<br>date=%{x}<br>cat_5_0=%{y}<extra></extra>",
           "legendgroup": "9",
           "marker": {
            "color": "rgb(153, 201, 69)",
            "pattern": {
             "shape": ""
            }
           },
           "name": "9",
           "orientation": "h",
           "showlegend": true,
           "textposition": "auto",
           "type": "bar",
           "x": {
            "bdata": "EQ8RCxg=",
            "dtype": "i1"
           },
           "xaxis": "x",
           "y": [
            "a",
            "b",
            "c",
            "d",
            "e"
           ],
           "yaxis": "y"
          }
         ],
         "name": "3"
        },
        {
         "data": [
          {
           "hovertemplate": "cat_30_0=0<br>month=4<br>date=%{x}<br>cat_5_0=%{y}<extra></extra>",
           "legendgroup": "0",
           "marker": {
            "color": "rgb(165, 170, 153)",
            "pattern": {
             "shape": ""
            }
           },
           "name": "0",
           "orientation": "h",
           "showlegend": true,
           "textposition": "auto",
           "type": "bar",
           "x": {
            "bdata": "DBAPCww=",
            "dtype": "i1"
           },
           "xaxis": "x",
           "y": [
            "a",
            "b",
            "c",
            "d",
            "e"
           ],
           "yaxis": "y"
          },
          {
           "hovertemplate": "cat_30_0=1<br>month=4<br>date=%{x}<br>cat_5_0=%{y}<extra></extra>",
           "legendgroup": "1",
           "marker": {
            "color": "rgb(237, 100, 90)",
            "pattern": {
             "shape": ""
            }
           },
           "name": "1",
           "orientation": "h",
           "showlegend": true,
           "textposition": "auto",
           "type": "bar",
           "x": {
            "bdata": "DwsKDg8=",
            "dtype": "i1"
           },
           "xaxis": "x",
           "y": [
            "a",
            "b",
            "c",
            "d",
            "e"
           ],
           "yaxis": "y"
          },
          {
           "hovertemplate": "cat_30_0=10<br>month=4<br>date=%{x}<br>cat_5_0=%{y}<extra></extra>",
           "legendgroup": "10",
           "marker": {
            "color": "rgb(118, 78, 159)",
            "pattern": {
             "shape": ""
            }
           },
           "name": "10",
           "orientation": "h",
           "showlegend": true,
           "textposition": "auto",
           "type": "bar",
           "x": {
            "bdata": "EQsMCw8=",
            "dtype": "i1"
           },
           "xaxis": "x",
           "y": [
            "a",
            "b",
            "c",
            "d",
            "e"
           ],
           "yaxis": "y"
          },
          {
           "hovertemplate": "cat_30_0=11<br>month=4<br>date=%{x}<br>cat_5_0=%{y}<extra></extra>",
           "legendgroup": "11",
           "marker": {
            "color": "rgb(47, 138, 196)",
            "pattern": {
             "shape": ""
            }
           },
           "name": "11",
           "orientation": "h",
           "showlegend": true,
           "textposition": "auto",
           "type": "bar",
           "x": {
            "bdata": "EBIJEA4=",
            "dtype": "i1"
           },
           "xaxis": "x",
           "y": [
            "a",
            "b",
            "c",
            "d",
            "e"
           ],
           "yaxis": "y"
          },
          {
           "hovertemplate": "cat_30_0=12<br>month=4<br>date=%{x}<br>cat_5_0=%{y}<extra></extra>",
           "legendgroup": "12",
           "marker": {
            "color": "rgb(218, 165, 27)",
            "pattern": {
             "shape": ""
            }
           },
           "name": "12",
           "orientation": "h",
           "showlegend": true,
           "textposition": "auto",
           "type": "bar",
           "x": {
            "bdata": "DRQPFws=",
            "dtype": "i1"
           },
           "xaxis": "x",
           "y": [
            "a",
            "b",
            "c",
            "d",
            "e"
           ],
           "yaxis": "y"
          },
          {
           "hovertemplate": "cat_30_0=13<br>month=4<br>date=%{x}<br>cat_5_0=%{y}<extra></extra>",
           "legendgroup": "13",
           "marker": {
            "color": "rgb(36, 121, 108)",
            "pattern": {
             "shape": ""
            }
           },
           "name": "13",
           "orientation": "h",
           "showlegend": true,
           "textposition": "auto",
           "type": "bar",
           "x": {
            "bdata": "DQ0TDw4=",
            "dtype": "i1"
           },
           "xaxis": "x",
           "y": [
            "a",
            "b",
            "c",
            "d",
            "e"
           ],
           "yaxis": "y"
          },
          {
           "hovertemplate": "cat_30_0=14<br>month=4<br>date=%{x}<br>cat_5_0=%{y}<extra></extra>",
           "legendgroup": "14",
           "marker": {
            "color": "rgb(204, 97, 176)",
            "pattern": {
             "shape": ""
            }
           },
           "name": "14",
           "orientation": "h",
           "showlegend": true,
           "textposition": "auto",
           "type": "bar",
           "x": {
            "bdata": "EgkNCRM=",
            "dtype": "i1"
           },
           "xaxis": "x",
           "y": [
            "a",
            "b",
            "c",
            "d",
            "e"
           ],
           "yaxis": "y"
          },
          {
           "hovertemplate": "cat_30_0=15<br>month=4<br>date=%{x}<br>cat_5_0=%{y}<extra></extra>",
           "legendgroup": "15",
           "marker": {
            "color": "rgb(153, 201, 69)",
            "pattern": {
             "shape": ""
            }
           },
           "name": "15",
           "orientation": "h",
           "showlegend": true,
           "textposition": "auto",
           "type": "bar",
           "x": {
            "bdata": "Dg4SDQ8=",
            "dtype": "i1"
           },
           "xaxis": "x",
           "y": [
            "a",
            "b",
            "c",
            "d",
            "e"
           ],
           "yaxis": "y"
          },
          {
           "hovertemplate": "cat_30_0=16<br>month=4<br>date=%{x}<br>cat_5_0=%{y}<extra></extra>",
           "legendgroup": "16",
           "marker": {
            "color": "rgb(82, 188, 163)",
            "pattern": {
             "shape": ""
            }
           },
           "name": "16",
           "orientation": "h",
           "showlegend": true,
           "textposition": "auto",
           "type": "bar",
           "x": {
            "bdata": "Eg8JDg0=",
            "dtype": "i1"
           },
           "xaxis": "x",
           "y": [
            "a",
            "b",
            "c",
            "d",
            "e"
           ],
           "yaxis": "y"
          },
          {
           "hovertemplate": "cat_30_0=17<br>month=4<br>date=%{x}<br>cat_5_0=%{y}<extra></extra>",
           "legendgroup": "17",
           "marker": {
            "color": "rgb(93, 105, 177)",
            "pattern": {
             "shape": ""
            }
           },
           "name": "17",
           "orientation": "h",
           "showlegend": true,
           "textposition": "auto",
           "type": "bar",
           "x": {
            "bdata": "CQwKDwo=",
            "dtype": "i1"
           },
           "xaxis": "x",
           "y": [
            "a",
            "b",
            "c",
            "d",
            "e"
           ],
           "yaxis": "y"
          },
          {
           "hovertemplate": "cat_30_0=18<br>month=4<br>date=%{x}<br>cat_5_0=%{y}<extra></extra>",
           "legendgroup": "18",
           "marker": {
            "color": "rgb(229, 134, 6)",
            "pattern": {
             "shape": ""
            }
           },
           "name": "18",
           "orientation": "h",
           "showlegend": true,
           "textposition": "auto",
           "type": "bar",
           "x": {
            "bdata": "DA0OCw4=",
            "dtype": "i1"
           },
           "xaxis": "x",
           "y": [
            "a",
            "b",
            "c",
            "d",
            "e"
           ],
           "yaxis": "y"
          },
          {
           "hovertemplate": "cat_30_0=19<br>month=4<br>date=%{x}<br>cat_5_0=%{y}<extra></extra>",
           "legendgroup": "19",
           "marker": {
            "color": "rgb(165, 170, 153)",
            "pattern": {
             "shape": ""
            }
           },
           "name": "19",
           "orientation": "h",
           "showlegend": true,
           "textposition": "auto",
           "type": "bar",
           "x": {
            "bdata": "Cw0SDww=",
            "dtype": "i1"
           },
           "xaxis": "x",
           "y": [
            "a",
            "b",
            "c",
            "d",
            "e"
           ],
           "yaxis": "y"
          },
          {
           "hovertemplate": "cat_30_0=2<br>month=4<br>date=%{x}<br>cat_5_0=%{y}<extra></extra>",
           "legendgroup": "2",
           "marker": {
            "color": "rgb(237, 100, 90)",
            "pattern": {
             "shape": ""
            }
           },
           "name": "2",
           "orientation": "h",
           "showlegend": true,
           "textposition": "auto",
           "type": "bar",
           "x": {
            "bdata": "Cw8NDQs=",
            "dtype": "i1"
           },
           "xaxis": "x",
           "y": [
            "a",
            "b",
            "c",
            "d",
            "e"
           ],
           "yaxis": "y"
          },
          {
           "hovertemplate": "cat_30_0=20<br>month=4<br>date=%{x}<br>cat_5_0=%{y}<extra></extra>",
           "legendgroup": "20",
           "marker": {
            "color": "rgb(118, 78, 159)",
            "pattern": {
             "shape": ""
            }
           },
           "name": "20",
           "orientation": "h",
           "showlegend": true,
           "textposition": "auto",
           "type": "bar",
           "x": {
            "bdata": "EQsKDAo=",
            "dtype": "i1"
           },
           "xaxis": "x",
           "y": [
            "a",
            "b",
            "c",
            "d",
            "e"
           ],
           "yaxis": "y"
          },
          {
           "hovertemplate": "cat_30_0=21<br>month=4<br>date=%{x}<br>cat_5_0=%{y}<extra></extra>",
           "legendgroup": "21",
           "marker": {
            "color": "rgb(47, 138, 196)",
            "pattern": {
             "shape": ""
            }
           },
           "name": "21",
           "orientation": "h",
           "showlegend": true,
           "textposition": "auto",
           "type": "bar",
           "x": {
            "bdata": "DgsQEBM=",
            "dtype": "i1"
           },
           "xaxis": "x",
           "y": [
            "a",
            "b",
            "c",
            "d",
            "e"
           ],
           "yaxis": "y"
          },
          {
           "hovertemplate": "cat_30_0=22<br>month=4<br>date=%{x}<br>cat_5_0=%{y}<extra></extra>",
           "legendgroup": "22",
           "marker": {
            "color": "rgb(218, 165, 27)",
            "pattern": {
             "shape": ""
            }
           },
           "name": "22",
           "orientation": "h",
           "showlegend": true,
           "textposition": "auto",
           "type": "bar",
           "x": {
            "bdata": "CggREhE=",
            "dtype": "i1"
           },
           "xaxis": "x",
           "y": [
            "a",
            "b",
            "c",
            "d",
            "e"
           ],
           "yaxis": "y"
          },
          {
           "hovertemplate": "cat_30_0=23<br>month=4<br>date=%{x}<br>cat_5_0=%{y}<extra></extra>",
           "legendgroup": "23",
           "marker": {
            "color": "rgb(36, 121, 108)",
            "pattern": {
             "shape": ""
            }
           },
           "name": "23",
           "orientation": "h",
           "showlegend": true,
           "textposition": "auto",
           "type": "bar",
           "x": {
            "bdata": "EQcTCxQ=",
            "dtype": "i1"
           },
           "xaxis": "x",
           "y": [
            "a",
            "b",
            "c",
            "d",
            "e"
           ],
           "yaxis": "y"
          },
          {
           "hovertemplate": "cat_30_0=24<br>month=4<br>date=%{x}<br>cat_5_0=%{y}<extra></extra>",
           "legendgroup": "24",
           "marker": {
            "color": "rgb(204, 97, 176)",
            "pattern": {
             "shape": ""
            }
           },
           "name": "24",
           "orientation": "h",
           "showlegend": true,
           "textposition": "auto",
           "type": "bar",
           "x": {
            "bdata": "DA0LEAk=",
            "dtype": "i1"
           },
           "xaxis": "x",
           "y": [
            "a",
            "b",
            "c",
            "d",
            "e"
           ],
           "yaxis": "y"
          },
          {
           "hovertemplate": "cat_30_0=25<br>month=4<br>date=%{x}<br>cat_5_0=%{y}<extra></extra>",
           "legendgroup": "25",
           "marker": {
            "color": "rgb(153, 201, 69)",
            "pattern": {
             "shape": ""
            }
           },
           "name": "25",
           "orientation": "h",
           "showlegend": true,
           "textposition": "auto",
           "type": "bar",
           "x": {
            "bdata": "DQwOBws=",
            "dtype": "i1"
           },
           "xaxis": "x",
           "y": [
            "a",
            "b",
            "c",
            "d",
            "e"
           ],
           "yaxis": "y"
          },
          {
           "hovertemplate": "cat_30_0=26<br>month=4<br>date=%{x}<br>cat_5_0=%{y}<extra></extra>",
           "legendgroup": "26",
           "marker": {
            "color": "rgb(82, 188, 163)",
            "pattern": {
             "shape": ""
            }
           },
           "name": "26",
           "orientation": "h",
           "showlegend": true,
           "textposition": "auto",
           "type": "bar",
           "x": {
            "bdata": "EQcREBU=",
            "dtype": "i1"
           },
           "xaxis": "x",
           "y": [
            "a",
            "b",
            "c",
            "d",
            "e"
           ],
           "yaxis": "y"
          },
          {
           "hovertemplate": "cat_30_0=27<br>month=4<br>date=%{x}<br>cat_5_0=%{y}<extra></extra>",
           "legendgroup": "27",
           "marker": {
            "color": "rgb(93, 105, 177)",
            "pattern": {
             "shape": ""
            }
           },
           "name": "27",
           "orientation": "h",
           "showlegend": true,
           "textposition": "auto",
           "type": "bar",
           "x": {
            "bdata": "DQkNDA0=",
            "dtype": "i1"
           },
           "xaxis": "x",
           "y": [
            "a",
            "b",
            "c",
            "d",
            "e"
           ],
           "yaxis": "y"
          },
          {
           "hovertemplate": "cat_30_0=28<br>month=4<br>date=%{x}<br>cat_5_0=%{y}<extra></extra>",
           "legendgroup": "28",
           "marker": {
            "color": "rgb(229, 134, 6)",
            "pattern": {
             "shape": ""
            }
           },
           "name": "28",
           "orientation": "h",
           "showlegend": true,
           "textposition": "auto",
           "type": "bar",
           "x": {
            "bdata": "DhYIDwk=",
            "dtype": "i1"
           },
           "xaxis": "x",
           "y": [
            "a",
            "b",
            "c",
            "d",
            "e"
           ],
           "yaxis": "y"
          },
          {
           "hovertemplate": "cat_30_0=29<br>month=4<br>date=%{x}<br>cat_5_0=%{y}<extra></extra>",
           "legendgroup": "29",
           "marker": {
            "color": "rgb(165, 170, 153)",
            "pattern": {
             "shape": ""
            }
           },
           "name": "29",
           "orientation": "h",
           "showlegend": true,
           "textposition": "auto",
           "type": "bar",
           "x": {
            "bdata": "DggLChI=",
            "dtype": "i1"
           },
           "xaxis": "x",
           "y": [
            "a",
            "b",
            "c",
            "d",
            "e"
           ],
           "yaxis": "y"
          },
          {
           "hovertemplate": "cat_30_0=3<br>month=4<br>date=%{x}<br>cat_5_0=%{y}<extra></extra>",
           "legendgroup": "3",
           "marker": {
            "color": "rgb(237, 100, 90)",
            "pattern": {
             "shape": ""
            }
           },
           "name": "3",
           "orientation": "h",
           "showlegend": true,
           "textposition": "auto",
           "type": "bar",
           "x": {
            "bdata": "DQwOEBI=",
            "dtype": "i1"
           },
           "xaxis": "x",
           "y": [
            "a",
            "b",
            "c",
            "d",
            "e"
           ],
           "yaxis": "y"
          },
          {
           "hovertemplate": "cat_30_0=4<br>month=4<br>date=%{x}<br>cat_5_0=%{y}<extra></extra>",
           "legendgroup": "4",
           "marker": {
            "color": "rgb(118, 78, 159)",
            "pattern": {
             "shape": ""
            }
           },
           "name": "4",
           "orientation": "h",
           "showlegend": true,
           "textposition": "auto",
           "type": "bar",
           "x": {
            "bdata": "CQwJDA4=",
            "dtype": "i1"
           },
           "xaxis": "x",
           "y": [
            "a",
            "b",
            "c",
            "d",
            "e"
           ],
           "yaxis": "y"
          },
          {
           "hovertemplate": "cat_30_0=5<br>month=4<br>date=%{x}<br>cat_5_0=%{y}<extra></extra>",
           "legendgroup": "5",
           "marker": {
            "color": "rgb(47, 138, 196)",
            "pattern": {
             "shape": ""
            }
           },
           "name": "5",
           "orientation": "h",
           "showlegend": true,
           "textposition": "auto",
           "type": "bar",
           "x": {
            "bdata": "EA4PDQY=",
            "dtype": "i1"
           },
           "xaxis": "x",
           "y": [
            "a",
            "b",
            "c",
            "d",
            "e"
           ],
           "yaxis": "y"
          },
          {
           "hovertemplate": "cat_30_0=6<br>month=4<br>date=%{x}<br>cat_5_0=%{y}<extra></extra>",
           "legendgroup": "6",
           "marker": {
            "color": "rgb(218, 165, 27)",
            "pattern": {
             "shape": ""
            }
           },
           "name": "6",
           "orientation": "h",
           "showlegend": true,
           "textposition": "auto",
           "type": "bar",
           "x": {
            "bdata": "DwgNDhE=",
            "dtype": "i1"
           },
           "xaxis": "x",
           "y": [
            "a",
            "b",
            "c",
            "d",
            "e"
           ],
           "yaxis": "y"
          },
          {
           "hovertemplate": "cat_30_0=7<br>month=4<br>date=%{x}<br>cat_5_0=%{y}<extra></extra>",
           "legendgroup": "7",
           "marker": {
            "color": "rgb(36, 121, 108)",
            "pattern": {
             "shape": ""
            }
           },
           "name": "7",
           "orientation": "h",
           "showlegend": true,
           "textposition": "auto",
           "type": "bar",
           "x": {
            "bdata": "DwkKDA4=",
            "dtype": "i1"
           },
           "xaxis": "x",
           "y": [
            "a",
            "b",
            "c",
            "d",
            "e"
           ],
           "yaxis": "y"
          },
          {
           "hovertemplate": "cat_30_0=8<br>month=4<br>date=%{x}<br>cat_5_0=%{y}<extra></extra>",
           "legendgroup": "8",
           "marker": {
            "color": "rgb(204, 97, 176)",
            "pattern": {
             "shape": ""
            }
           },
           "name": "8",
           "orientation": "h",
           "showlegend": true,
           "textposition": "auto",
           "type": "bar",
           "x": {
            "bdata": "Dg0ODAc=",
            "dtype": "i1"
           },
           "xaxis": "x",
           "y": [
            "a",
            "b",
            "c",
            "d",
            "e"
           ],
           "yaxis": "y"
          },
          {
           "hovertemplate": "cat_30_0=9<br>month=4<br>date=%{x}<br>cat_5_0=%{y}<extra></extra>",
           "legendgroup": "9",
           "marker": {
            "color": "rgb(153, 201, 69)",
            "pattern": {
             "shape": ""
            }
           },
           "name": "9",
           "orientation": "h",
           "showlegend": true,
           "textposition": "auto",
           "type": "bar",
           "x": {
            "bdata": "EAsNEwk=",
            "dtype": "i1"
           },
           "xaxis": "x",
           "y": [
            "a",
            "b",
            "c",
            "d",
            "e"
           ],
           "yaxis": "y"
          }
         ],
         "name": "4"
        },
        {
         "data": [
          {
           "hovertemplate": "cat_30_0=0<br>month=5<br>date=%{x}<br>cat_5_0=%{y}<extra></extra>",
           "legendgroup": "0",
           "marker": {
            "color": "rgb(165, 170, 153)",
            "pattern": {
             "shape": ""
            }
           },
           "name": "0",
           "orientation": "h",
           "showlegend": true,
           "textposition": "auto",
           "type": "bar",
           "x": {
            "bdata": "DAoMCQs=",
            "dtype": "i1"
           },
           "xaxis": "x",
           "y": [
            "a",
            "b",
            "c",
            "d",
            "e"
           ],
           "yaxis": "y"
          },
          {
           "hovertemplate": "cat_30_0=1<br>month=5<br>date=%{x}<br>cat_5_0=%{y}<extra></extra>",
           "legendgroup": "1",
           "marker": {
            "color": "rgb(237, 100, 90)",
            "pattern": {
             "shape": ""
            }
           },
           "name": "1",
           "orientation": "h",
           "showlegend": true,
           "textposition": "auto",
           "type": "bar",
           "x": {
            "bdata": "EgsIChM=",
            "dtype": "i1"
           },
           "xaxis": "x",
           "y": [
            "a",
            "b",
            "c",
            "d",
            "e"
           ],
           "yaxis": "y"
          },
          {
           "hovertemplate": "cat_30_0=10<br>month=5<br>date=%{x}<br>cat_5_0=%{y}<extra></extra>",
           "legendgroup": "10",
           "marker": {
            "color": "rgb(118, 78, 159)",
            "pattern": {
             "shape": ""
            }
           },
           "name": "10",
           "orientation": "h",
           "showlegend": true,
           "textposition": "auto",
           "type": "bar",
           "x": {
            "bdata": "Dg4PDxI=",
            "dtype": "i1"
           },
           "xaxis": "x",
           "y": [
            "a",
            "b",
            "c",
            "d",
            "e"
           ],
           "yaxis": "y"
          },
          {
           "hovertemplate": "cat_30_0=11<br>month=5<br>date=%{x}<br>cat_5_0=%{y}<extra></extra>",
           "legendgroup": "11",
           "marker": {
            "color": "rgb(47, 138, 196)",
            "pattern": {
             "shape": ""
            }
           },
           "name": "11",
           "orientation": "h",
           "showlegend": true,
           "textposition": "auto",
           "type": "bar",
           "x": {
            "bdata": "DQ8PDww=",
            "dtype": "i1"
           },
           "xaxis": "x",
           "y": [
            "a",
            "b",
            "c",
            "d",
            "e"
           ],
           "yaxis": "y"
          },
          {
           "hovertemplate": "cat_30_0=12<br>month=5<br>date=%{x}<br>cat_5_0=%{y}<extra></extra>",
           "legendgroup": "12",
           "marker": {
            "color": "rgb(218, 165, 27)",
            "pattern": {
             "shape": ""
            }
           },
           "name": "12",
           "orientation": "h",
           "showlegend": true,
           "textposition": "auto",
           "type": "bar",
           "x": {
            "bdata": "DAkLDQo=",
            "dtype": "i1"
           },
           "xaxis": "x",
           "y": [
            "a",
            "b",
            "c",
            "d",
            "e"
           ],
           "yaxis": "y"
          },
          {
           "hovertemplate": "cat_30_0=13<br>month=5<br>date=%{x}<br>cat_5_0=%{y}<extra></extra>",
           "legendgroup": "13",
           "marker": {
            "color": "rgb(36, 121, 108)",
            "pattern": {
             "shape": ""
            }
           },
           "name": "13",
           "orientation": "h",
           "showlegend": true,
           "textposition": "auto",
           "type": "bar",
           "x": {
            "bdata": "DRAKEAs=",
            "dtype": "i1"
           },
           "xaxis": "x",
           "y": [
            "a",
            "b",
            "c",
            "d",
            "e"
           ],
           "yaxis": "y"
          },
          {
           "hovertemplate": "cat_30_0=14<br>month=5<br>date=%{x}<br>cat_5_0=%{y}<extra></extra>",
           "legendgroup": "14",
           "marker": {
            "color": "rgb(204, 97, 176)",
            "pattern": {
             "shape": ""
            }
           },
           "name": "14",
           "orientation": "h",
           "showlegend": true,
           "textposition": "auto",
           "type": "bar",
           "x": {
            "bdata": "DRAMDw0=",
            "dtype": "i1"
           },
           "xaxis": "x",
           "y": [
            "a",
            "b",
            "c",
            "d",
            "e"
           ],
           "yaxis": "y"
          },
          {
           "hovertemplate": "cat_30_0=15<br>month=5<br>date=%{x}<br>cat_5_0=%{y}<extra></extra>",
           "legendgroup": "15",
           "marker": {
            "color": "rgb(153, 201, 69)",
            "pattern": {
             "shape": ""
            }
           },
           "name": "15",
           "orientation": "h",
           "showlegend": true,
           "textposition": "auto",
           "type": "bar",
           "x": {
            "bdata": "DQgRDgs=",
            "dtype": "i1"
           },
           "xaxis": "x",
           "y": [
            "a",
            "b",
            "c",
            "d",
            "e"
           ],
           "yaxis": "y"
          },
          {
           "hovertemplate": "cat_30_0=16<br>month=5<br>date=%{x}<br>cat_5_0=%{y}<extra></extra>",
           "legendgroup": "16",
           "marker": {
            "color": "rgb(82, 188, 163)",
            "pattern": {
             "shape": ""
            }
           },
           "name": "16",
           "orientation": "h",
           "showlegend": true,
           "textposition": "auto",
           "type": "bar",
           "x": {
            "bdata": "Bw4LDws=",
            "dtype": "i1"
           },
           "xaxis": "x",
           "y": [
            "a",
            "b",
            "c",
            "d",
            "e"
           ],
           "yaxis": "y"
          },
          {
           "hovertemplate": "cat_30_0=17<br>month=5<br>date=%{x}<br>cat_5_0=%{y}<extra></extra>",
           "legendgroup": "17",
           "marker": {
            "color": "rgb(93, 105, 177)",
            "pattern": {
             "shape": ""
            }
           },
           "name": "17",
           "orientation": "h",
           "showlegend": true,
           "textposition": "auto",
           "type": "bar",
           "x": {
            "bdata": "DAoIFgg=",
            "dtype": "i1"
           },
           "xaxis": "x",
           "y": [
            "a",
            "b",
            "c",
            "d",
            "e"
           ],
           "yaxis": "y"
          },
          {
           "hovertemplate": "cat_30_0=18<br>month=5<br>date=%{x}<br>cat_5_0=%{y}<extra></extra>",
           "legendgroup": "18",
           "marker": {
            "color": "rgb(229, 134, 6)",
            "pattern": {
             "shape": ""
            }
           },
           "name": "18",
           "orientation": "h",
           "showlegend": true,
           "textposition": "auto",
           "type": "bar",
           "x": {
            "bdata": "EAgRDgs=",
            "dtype": "i1"
           },
           "xaxis": "x",
           "y": [
            "a",
            "b",
            "c",
            "d",
            "e"
           ],
           "yaxis": "y"
          },
          {
           "hovertemplate": "cat_30_0=19<br>month=5<br>date=%{x}<br>cat_5_0=%{y}<extra></extra>",
           "legendgroup": "19",
           "marker": {
            "color": "rgb(165, 170, 153)",
            "pattern": {
             "shape": ""
            }
           },
           "name": "19",
           "orientation": "h",
           "showlegend": true,
           "textposition": "auto",
           "type": "bar",
           "x": {
            "bdata": "Dg8JDxA=",
            "dtype": "i1"
           },
           "xaxis": "x",
           "y": [
            "a",
            "b",
            "c",
            "d",
            "e"
           ],
           "yaxis": "y"
          },
          {
           "hovertemplate": "cat_30_0=2<br>month=5<br>date=%{x}<br>cat_5_0=%{y}<extra></extra>",
           "legendgroup": "2",
           "marker": {
            "color": "rgb(237, 100, 90)",
            "pattern": {
             "shape": ""
            }
           },
           "name": "2",
           "orientation": "h",
           "showlegend": true,
           "textposition": "auto",
           "type": "bar",
           "x": {
            "bdata": "DgsPEQw=",
            "dtype": "i1"
           },
           "xaxis": "x",
           "y": [
            "a",
            "b",
            "c",
            "d",
            "e"
           ],
           "yaxis": "y"
          },
          {
           "hovertemplate": "cat_30_0=20<br>month=5<br>date=%{x}<br>cat_5_0=%{y}<extra></extra>",
           "legendgroup": "20",
           "marker": {
            "color": "rgb(118, 78, 159)",
            "pattern": {
             "shape": ""
            }
           },
           "name": "20",
           "orientation": "h",
           "showlegend": true,
           "textposition": "auto",
           "type": "bar",
           "x": {
            "bdata": "Dw8ODQ8=",
            "dtype": "i1"
           },
           "xaxis": "x",
           "y": [
            "a",
            "b",
            "c",
            "d",
            "e"
           ],
           "yaxis": "y"
          },
          {
           "hovertemplate": "cat_30_0=21<br>month=5<br>date=%{x}<br>cat_5_0=%{y}<extra></extra>",
           "legendgroup": "21",
           "marker": {
            "color": "rgb(47, 138, 196)",
            "pattern": {
             "shape": ""
            }
           },
           "name": "21",
           "orientation": "h",
           "showlegend": true,
           "textposition": "auto",
           "type": "bar",
           "x": {
            "bdata": "DAYNCwo=",
            "dtype": "i1"
           },
           "xaxis": "x",
           "y": [
            "a",
            "b",
            "c",
            "d",
            "e"
           ],
           "yaxis": "y"
          },
          {
           "hovertemplate": "cat_30_0=22<br>month=5<br>date=%{x}<br>cat_5_0=%{y}<extra></extra>",
           "legendgroup": "22",
           "marker": {
            "color": "rgb(218, 165, 27)",
            "pattern": {
             "shape": ""
            }
           },
           "name": "22",
           "orientation": "h",
           "showlegend": true,
           "textposition": "auto",
           "type": "bar",
           "x": {
            "bdata": "Dw0JDxU=",
            "dtype": "i1"
           },
           "xaxis": "x",
           "y": [
            "a",
            "b",
            "c",
            "d",
            "e"
           ],
           "yaxis": "y"
          },
          {
           "hovertemplate": "cat_30_0=23<br>month=5<br>date=%{x}<br>cat_5_0=%{y}<extra></extra>",
           "legendgroup": "23",
           "marker": {
            "color": "rgb(36, 121, 108)",
            "pattern": {
             "shape": ""
            }
           },
           "name": "23",
           "orientation": "h",
           "showlegend": true,
           "textposition": "auto",
           "type": "bar",
           "x": {
            "bdata": "DQwICws=",
            "dtype": "i1"
           },
           "xaxis": "x",
           "y": [
            "a",
            "b",
            "c",
            "d",
            "e"
           ],
           "yaxis": "y"
          },
          {
           "hovertemplate": "cat_30_0=24<br>month=5<br>date=%{x}<br>cat_5_0=%{y}<extra></extra>",
           "legendgroup": "24",
           "marker": {
            "color": "rgb(204, 97, 176)",
            "pattern": {
             "shape": ""
            }
           },
           "name": "24",
           "orientation": "h",
           "showlegend": true,
           "textposition": "auto",
           "type": "bar",
           "x": {
            "bdata": "DA8NEAk=",
            "dtype": "i1"
           },
           "xaxis": "x",
           "y": [
            "a",
            "b",
            "c",
            "d",
            "e"
           ],
           "yaxis": "y"
          },
          {
           "hovertemplate": "cat_30_0=25<br>month=5<br>date=%{x}<br>cat_5_0=%{y}<extra></extra>",
           "legendgroup": "25",
           "marker": {
            "color": "rgb(153, 201, 69)",
            "pattern": {
             "shape": ""
            }
           },
           "name": "25",
           "orientation": "h",
           "showlegend": true,
           "textposition": "auto",
           "type": "bar",
           "x": {
            "bdata": "Dg0KEBI=",
            "dtype": "i1"
           },
           "xaxis": "x",
           "y": [
            "a",
            "b",
            "c",
            "d",
            "e"
           ],
           "yaxis": "y"
          },
          {
           "hovertemplate": "cat_30_0=26<br>month=5<br>date=%{x}<br>cat_5_0=%{y}<extra></extra>",
           "legendgroup": "26",
           "marker": {
            "color": "rgb(82, 188, 163)",
            "pattern": {
             "shape": ""
            }
           },
           "name": "26",
           "orientation": "h",
           "showlegend": true,
           "textposition": "auto",
           "type": "bar",
           "x": {
            "bdata": "DgsSDws=",
            "dtype": "i1"
           },
           "xaxis": "x",
           "y": [
            "a",
            "b",
            "c",
            "d",
            "e"
           ],
           "yaxis": "y"
          },
          {
           "hovertemplate": "cat_30_0=27<br>month=5<br>date=%{x}<br>cat_5_0=%{y}<extra></extra>",
           "legendgroup": "27",
           "marker": {
            "color": "rgb(93, 105, 177)",
            "pattern": {
             "shape": ""
            }
           },
           "name": "27",
           "orientation": "h",
           "showlegend": true,
           "textposition": "auto",
           "type": "bar",
           "x": {
            "bdata": "BgkKChE=",
            "dtype": "i1"
           },
           "xaxis": "x",
           "y": [
            "a",
            "b",
            "c",
            "d",
            "e"
           ],
           "yaxis": "y"
          },
          {
           "hovertemplate": "cat_30_0=28<br>month=5<br>date=%{x}<br>cat_5_0=%{y}<extra></extra>",
           "legendgroup": "28",
           "marker": {
            "color": "rgb(229, 134, 6)",
            "pattern": {
             "shape": ""
            }
           },
           "name": "28",
           "orientation": "h",
           "showlegend": true,
           "textposition": "auto",
           "type": "bar",
           "x": {
            "bdata": "DRAQDgo=",
            "dtype": "i1"
           },
           "xaxis": "x",
           "y": [
            "a",
            "b",
            "c",
            "d",
            "e"
           ],
           "yaxis": "y"
          },
          {
           "hovertemplate": "cat_30_0=29<br>month=5<br>date=%{x}<br>cat_5_0=%{y}<extra></extra>",
           "legendgroup": "29",
           "marker": {
            "color": "rgb(165, 170, 153)",
            "pattern": {
             "shape": ""
            }
           },
           "name": "29",
           "orientation": "h",
           "showlegend": true,
           "textposition": "auto",
           "type": "bar",
           "x": {
            "bdata": "EAwHCRc=",
            "dtype": "i1"
           },
           "xaxis": "x",
           "y": [
            "a",
            "b",
            "c",
            "d",
            "e"
           ],
           "yaxis": "y"
          },
          {
           "hovertemplate": "cat_30_0=3<br>month=5<br>date=%{x}<br>cat_5_0=%{y}<extra></extra>",
           "legendgroup": "3",
           "marker": {
            "color": "rgb(237, 100, 90)",
            "pattern": {
             "shape": ""
            }
           },
           "name": "3",
           "orientation": "h",
           "showlegend": true,
           "textposition": "auto",
           "type": "bar",
           "x": {
            "bdata": "Ew0NDBE=",
            "dtype": "i1"
           },
           "xaxis": "x",
           "y": [
            "a",
            "b",
            "c",
            "d",
            "e"
           ],
           "yaxis": "y"
          },
          {
           "hovertemplate": "cat_30_0=4<br>month=5<br>date=%{x}<br>cat_5_0=%{y}<extra></extra>",
           "legendgroup": "4",
           "marker": {
            "color": "rgb(118, 78, 159)",
            "pattern": {
             "shape": ""
            }
           },
           "name": "4",
           "orientation": "h",
           "showlegend": true,
           "textposition": "auto",
           "type": "bar",
           "x": {
            "bdata": "BxANDww=",
            "dtype": "i1"
           },
           "xaxis": "x",
           "y": [
            "a",
            "b",
            "c",
            "d",
            "e"
           ],
           "yaxis": "y"
          },
          {
           "hovertemplate": "cat_30_0=5<br>month=5<br>date=%{x}<br>cat_5_0=%{y}<extra></extra>",
           "legendgroup": "5",
           "marker": {
            "color": "rgb(47, 138, 196)",
            "pattern": {
             "shape": ""
            }
           },
           "name": "5",
           "orientation": "h",
           "showlegend": true,
           "textposition": "auto",
           "type": "bar",
           "x": {
            "bdata": "EhINEQ0=",
            "dtype": "i1"
           },
           "xaxis": "x",
           "y": [
            "a",
            "b",
            "c",
            "d",
            "e"
           ],
           "yaxis": "y"
          },
          {
           "hovertemplate": "cat_30_0=6<br>month=5<br>date=%{x}<br>cat_5_0=%{y}<extra></extra>",
           "legendgroup": "6",
           "marker": {
            "color": "rgb(218, 165, 27)",
            "pattern": {
             "shape": ""
            }
           },
           "name": "6",
           "orientation": "h",
           "showlegend": true,
           "textposition": "auto",
           "type": "bar",
           "x": {
            "bdata": "CAYREgk=",
            "dtype": "i1"
           },
           "xaxis": "x",
           "y": [
            "a",
            "b",
            "c",
            "d",
            "e"
           ],
           "yaxis": "y"
          },
          {
           "hovertemplate": "cat_30_0=7<br>month=5<br>date=%{x}<br>cat_5_0=%{y}<extra></extra>",
           "legendgroup": "7",
           "marker": {
            "color": "rgb(36, 121, 108)",
            "pattern": {
             "shape": ""
            }
           },
           "name": "7",
           "orientation": "h",
           "showlegend": true,
           "textposition": "auto",
           "type": "bar",
           "x": {
            "bdata": "CwcMEhM=",
            "dtype": "i1"
           },
           "xaxis": "x",
           "y": [
            "a",
            "b",
            "c",
            "d",
            "e"
           ],
           "yaxis": "y"
          },
          {
           "hovertemplate": "cat_30_0=8<br>month=5<br>date=%{x}<br>cat_5_0=%{y}<extra></extra>",
           "legendgroup": "8",
           "marker": {
            "color": "rgb(204, 97, 176)",
            "pattern": {
             "shape": ""
            }
           },
           "name": "8",
           "orientation": "h",
           "showlegend": true,
           "textposition": "auto",
           "type": "bar",
           "x": {
            "bdata": "Cw0KCQs=",
            "dtype": "i1"
           },
           "xaxis": "x",
           "y": [
            "a",
            "b",
            "c",
            "d",
            "e"
           ],
           "yaxis": "y"
          },
          {
           "hovertemplate": "cat_30_0=9<br>month=5<br>date=%{x}<br>cat_5_0=%{y}<extra></extra>",
           "legendgroup": "9",
           "marker": {
            "color": "rgb(153, 201, 69)",
            "pattern": {
             "shape": ""
            }
           },
           "name": "9",
           "orientation": "h",
           "showlegend": true,
           "textposition": "auto",
           "type": "bar",
           "x": {
            "bdata": "DAgVBgc=",
            "dtype": "i1"
           },
           "xaxis": "x",
           "y": [
            "a",
            "b",
            "c",
            "d",
            "e"
           ],
           "yaxis": "y"
          }
         ],
         "name": "5"
        }
       ],
       "layout": {
        "barmode": "group",
        "height": 600,
        "legend": {
         "bgcolor": "#ffffff",
         "bordercolor": "#ffffff",
         "borderwidth": 1,
         "orientation": "v",
         "title": {
          "text": "cat_30_0"
         },
         "tracegroupgap": 0
        },
        "paper_bgcolor": "white",
        "plot_bgcolor": "white",
        "showlegend": true,
        "sliders": [
         {
          "active": 0,
          "currentvalue": {
           "prefix": "month="
          },
          "len": 0.9,
          "pad": {
           "b": 10,
           "t": 60
          },
          "steps": [
           {
            "args": [
             [
              "1"
             ],
             {
              "frame": {
               "duration": 0,
               "redraw": true
              },
              "fromcurrent": true,
              "mode": "immediate",
              "transition": {
               "duration": 0,
               "easing": "linear"
              }
             }
            ],
            "label": "1",
            "method": "animate"
           },
           {
            "args": [
             [
              "2"
             ],
             {
              "frame": {
               "duration": 0,
               "redraw": true
              },
              "fromcurrent": true,
              "mode": "immediate",
              "transition": {
               "duration": 0,
               "easing": "linear"
              }
             }
            ],
            "label": "2",
            "method": "animate"
           },
           {
            "args": [
             [
              "3"
             ],
             {
              "frame": {
               "duration": 0,
               "redraw": true
              },
              "fromcurrent": true,
              "mode": "immediate",
              "transition": {
               "duration": 0,
               "easing": "linear"
              }
             }
            ],
            "label": "3",
            "method": "animate"
           },
           {
            "args": [
             [
              "4"
             ],
             {
              "frame": {
               "duration": 0,
               "redraw": true
              },
              "fromcurrent": true,
              "mode": "immediate",
              "transition": {
               "duration": 0,
               "easing": "linear"
              }
             }
            ],
            "label": "4",
            "method": "animate"
           },
           {
            "args": [
             [
              "5"
             ],
             {
              "frame": {
               "duration": 0,
               "redraw": true
              },
              "fromcurrent": true,
              "mode": "immediate",
              "transition": {
               "duration": 0,
               "easing": "linear"
              }
             }
            ],
            "label": "5",
            "method": "animate"
           }
          ],
          "x": 0.1,
          "xanchor": "left",
          "y": 0,
          "yanchor": "top"
         }
        ],
        "template": {
         "data": {
          "bar": [
           {
            "error_x": {
             "color": "#2a3f5f"
            },
            "error_y": {
             "color": "#2a3f5f"
            },
            "marker": {
             "line": {
              "color": "#E5ECF6",
              "width": 0.5
             },
             "pattern": {
              "fillmode": "overlay",
              "size": 10,
              "solidity": 0.2
             }
            },
            "type": "bar"
           }
          ],
          "barpolar": [
           {
            "marker": {
             "line": {
              "color": "#E5ECF6",
              "width": 0.5
             },
             "pattern": {
              "fillmode": "overlay",
              "size": 10,
              "solidity": 0.2
             }
            },
            "type": "barpolar"
           }
          ],
          "carpet": [
           {
            "aaxis": {
             "endlinecolor": "#2a3f5f",
             "gridcolor": "white",
             "linecolor": "white",
             "minorgridcolor": "white",
             "startlinecolor": "#2a3f5f"
            },
            "baxis": {
             "endlinecolor": "#2a3f5f",
             "gridcolor": "white",
             "linecolor": "white",
             "minorgridcolor": "white",
             "startlinecolor": "#2a3f5f"
            },
            "type": "carpet"
           }
          ],
          "choropleth": [
           {
            "colorbar": {
             "outlinewidth": 0,
             "ticks": ""
            },
            "type": "choropleth"
           }
          ],
          "contour": [
           {
            "colorbar": {
             "outlinewidth": 0,
             "ticks": ""
            },
            "colorscale": [
             [
              0,
              "#0d0887"
             ],
             [
              0.1111111111111111,
              "#46039f"
             ],
             [
              0.2222222222222222,
              "#7201a8"
             ],
             [
              0.3333333333333333,
              "#9c179e"
             ],
             [
              0.4444444444444444,
              "#bd3786"
             ],
             [
              0.5555555555555556,
              "#d8576b"
             ],
             [
              0.6666666666666666,
              "#ed7953"
             ],
             [
              0.7777777777777778,
              "#fb9f3a"
             ],
             [
              0.8888888888888888,
              "#fdca26"
             ],
             [
              1,
              "#f0f921"
             ]
            ],
            "type": "contour"
           }
          ],
          "contourcarpet": [
           {
            "colorbar": {
             "outlinewidth": 0,
             "ticks": ""
            },
            "type": "contourcarpet"
           }
          ],
          "heatmap": [
           {
            "colorbar": {
             "outlinewidth": 0,
             "ticks": ""
            },
            "colorscale": [
             [
              0,
              "#0d0887"
             ],
             [
              0.1111111111111111,
              "#46039f"
             ],
             [
              0.2222222222222222,
              "#7201a8"
             ],
             [
              0.3333333333333333,
              "#9c179e"
             ],
             [
              0.4444444444444444,
              "#bd3786"
             ],
             [
              0.5555555555555556,
              "#d8576b"
             ],
             [
              0.6666666666666666,
              "#ed7953"
             ],
             [
              0.7777777777777778,
              "#fb9f3a"
             ],
             [
              0.8888888888888888,
              "#fdca26"
             ],
             [
              1,
              "#f0f921"
             ]
            ],
            "type": "heatmap"
           }
          ],
          "histogram": [
           {
            "marker": {
             "pattern": {
              "fillmode": "overlay",
              "size": 10,
              "solidity": 0.2
             }
            },
            "type": "histogram"
           }
          ],
          "histogram2d": [
           {
            "colorbar": {
             "outlinewidth": 0,
             "ticks": ""
            },
            "colorscale": [
             [
              0,
              "#0d0887"
             ],
             [
              0.1111111111111111,
              "#46039f"
             ],
             [
              0.2222222222222222,
              "#7201a8"
             ],
             [
              0.3333333333333333,
              "#9c179e"
             ],
             [
              0.4444444444444444,
              "#bd3786"
             ],
             [
              0.5555555555555556,
              "#d8576b"
             ],
             [
              0.6666666666666666,
              "#ed7953"
             ],
             [
              0.7777777777777778,
              "#fb9f3a"
             ],
             [
              0.8888888888888888,
              "#fdca26"
             ],
             [
              1,
              "#f0f921"
             ]
            ],
            "type": "histogram2d"
           }
          ],
          "histogram2dcontour": [
           {
            "colorbar": {
             "outlinewidth": 0,
             "ticks": ""
            },
            "colorscale": [
             [
              0,
              "#0d0887"
             ],
             [
              0.1111111111111111,
              "#46039f"
             ],
             [
              0.2222222222222222,
              "#7201a8"
             ],
             [
              0.3333333333333333,
              "#9c179e"
             ],
             [
              0.4444444444444444,
              "#bd3786"
             ],
             [
              0.5555555555555556,
              "#d8576b"
             ],
             [
              0.6666666666666666,
              "#ed7953"
             ],
             [
              0.7777777777777778,
              "#fb9f3a"
             ],
             [
              0.8888888888888888,
              "#fdca26"
             ],
             [
              1,
              "#f0f921"
             ]
            ],
            "type": "histogram2dcontour"
           }
          ],
          "mesh3d": [
           {
            "colorbar": {
             "outlinewidth": 0,
             "ticks": ""
            },
            "type": "mesh3d"
           }
          ],
          "parcoords": [
           {
            "line": {
             "colorbar": {
              "outlinewidth": 0,
              "ticks": ""
             }
            },
            "type": "parcoords"
           }
          ],
          "pie": [
           {
            "automargin": true,
            "type": "pie"
           }
          ],
          "scatter": [
           {
            "fillpattern": {
             "fillmode": "overlay",
             "size": 10,
             "solidity": 0.2
            },
            "type": "scatter"
           }
          ],
          "scatter3d": [
           {
            "line": {
             "colorbar": {
              "outlinewidth": 0,
              "ticks": ""
             }
            },
            "marker": {
             "colorbar": {
              "outlinewidth": 0,
              "ticks": ""
             }
            },
            "type": "scatter3d"
           }
          ],
          "scattercarpet": [
           {
            "marker": {
             "colorbar": {
              "outlinewidth": 0,
              "ticks": ""
             }
            },
            "type": "scattercarpet"
           }
          ],
          "scattergeo": [
           {
            "marker": {
             "colorbar": {
              "outlinewidth": 0,
              "ticks": ""
             }
            },
            "type": "scattergeo"
           }
          ],
          "scattergl": [
           {
            "marker": {
             "colorbar": {
              "outlinewidth": 0,
              "ticks": ""
             }
            },
            "type": "scattergl"
           }
          ],
          "scattermap": [
           {
            "marker": {
             "colorbar": {
              "outlinewidth": 0,
              "ticks": ""
             }
            },
            "type": "scattermap"
           }
          ],
          "scattermapbox": [
           {
            "marker": {
             "colorbar": {
              "outlinewidth": 0,
              "ticks": ""
             }
            },
            "type": "scattermapbox"
           }
          ],
          "scatterpolar": [
           {
            "marker": {
             "colorbar": {
              "outlinewidth": 0,
              "ticks": ""
             }
            },
            "type": "scatterpolar"
           }
          ],
          "scatterpolargl": [
           {
            "marker": {
             "colorbar": {
              "outlinewidth": 0,
              "ticks": ""
             }
            },
            "type": "scatterpolargl"
           }
          ],
          "scatterternary": [
           {
            "marker": {
             "colorbar": {
              "outlinewidth": 0,
              "ticks": ""
             }
            },
            "type": "scatterternary"
           }
          ],
          "surface": [
           {
            "colorbar": {
             "outlinewidth": 0,
             "ticks": ""
            },
            "colorscale": [
             [
              0,
              "#0d0887"
             ],
             [
              0.1111111111111111,
              "#46039f"
             ],
             [
              0.2222222222222222,
              "#7201a8"
             ],
             [
              0.3333333333333333,
              "#9c179e"
             ],
             [
              0.4444444444444444,
              "#bd3786"
             ],
             [
              0.5555555555555556,
              "#d8576b"
             ],
             [
              0.6666666666666666,
              "#ed7953"
             ],
             [
              0.7777777777777778,
              "#fb9f3a"
             ],
             [
              0.8888888888888888,
              "#fdca26"
             ],
             [
              1,
              "#f0f921"
             ]
            ],
            "type": "surface"
           }
          ],
          "table": [
           {
            "cells": {
             "fill": {
              "color": "#EBF0F8"
             },
             "line": {
              "color": "white"
             }
            },
            "header": {
             "fill": {
              "color": "#C8D4E3"
             },
             "line": {
              "color": "white"
             }
            },
            "type": "table"
           }
          ]
         },
         "layout": {
          "annotationdefaults": {
           "arrowcolor": "#2a3f5f",
           "arrowhead": 0,
           "arrowwidth": 1
          },
          "autotypenumbers": "strict",
          "coloraxis": {
           "colorbar": {
            "outlinewidth": 0,
            "ticks": ""
           }
          },
          "colorscale": {
           "diverging": [
            [
             0,
             "#8e0152"
            ],
            [
             0.1,
             "#c51b7d"
            ],
            [
             0.2,
             "#de77ae"
            ],
            [
             0.3,
             "#f1b6da"
            ],
            [
             0.4,
             "#fde0ef"
            ],
            [
             0.5,
             "#f7f7f7"
            ],
            [
             0.6,
             "#e6f5d0"
            ],
            [
             0.7,
             "#b8e186"
            ],
            [
             0.8,
             "#7fbc41"
            ],
            [
             0.9,
             "#4d9221"
            ],
            [
             1,
             "#276419"
            ]
           ],
           "sequential": [
            [
             0,
             "#0d0887"
            ],
            [
             0.1111111111111111,
             "#46039f"
            ],
            [
             0.2222222222222222,
             "#7201a8"
            ],
            [
             0.3333333333333333,
             "#9c179e"
            ],
            [
             0.4444444444444444,
             "#bd3786"
            ],
            [
             0.5555555555555556,
             "#d8576b"
            ],
            [
             0.6666666666666666,
             "#ed7953"
            ],
            [
             0.7777777777777778,
             "#fb9f3a"
            ],
            [
             0.8888888888888888,
             "#fdca26"
            ],
            [
             1,
             "#f0f921"
            ]
           ],
           "sequentialminus": [
            [
             0,
             "#0d0887"
            ],
            [
             0.1111111111111111,
             "#46039f"
            ],
            [
             0.2222222222222222,
             "#7201a8"
            ],
            [
             0.3333333333333333,
             "#9c179e"
            ],
            [
             0.4444444444444444,
             "#bd3786"
            ],
            [
             0.5555555555555556,
             "#d8576b"
            ],
            [
             0.6666666666666666,
             "#ed7953"
            ],
            [
             0.7777777777777778,
             "#fb9f3a"
            ],
            [
             0.8888888888888888,
             "#fdca26"
            ],
            [
             1,
             "#f0f921"
            ]
           ]
          },
          "colorway": [
           "#636efa",
           "#EF553B",
           "#00cc96",
           "#ab63fa",
           "#FFA15A",
           "#19d3f3",
           "#FF6692",
           "#B6E880",
           "#FF97FF",
           "#FECB52"
          ],
          "font": {
           "color": "#2a3f5f"
          },
          "geo": {
           "bgcolor": "white",
           "lakecolor": "white",
           "landcolor": "#E5ECF6",
           "showlakes": true,
           "showland": true,
           "subunitcolor": "white"
          },
          "hoverlabel": {
           "align": "left"
          },
          "hovermode": "closest",
          "mapbox": {
           "style": "light"
          },
          "paper_bgcolor": "white",
          "plot_bgcolor": "#E5ECF6",
          "polar": {
           "angularaxis": {
            "gridcolor": "white",
            "linecolor": "white",
            "ticks": ""
           },
           "bgcolor": "#E5ECF6",
           "radialaxis": {
            "gridcolor": "white",
            "linecolor": "white",
            "ticks": ""
           }
          },
          "scene": {
           "xaxis": {
            "backgroundcolor": "#E5ECF6",
            "gridcolor": "white",
            "gridwidth": 2,
            "linecolor": "white",
            "showbackground": true,
            "ticks": "",
            "zerolinecolor": "white"
           },
           "yaxis": {
            "backgroundcolor": "#E5ECF6",
            "gridcolor": "white",
            "gridwidth": 2,
            "linecolor": "white",
            "showbackground": true,
            "ticks": "",
            "zerolinecolor": "white"
           },
           "zaxis": {
            "backgroundcolor": "#E5ECF6",
            "gridcolor": "white",
            "gridwidth": 2,
            "linecolor": "white",
            "showbackground": true,
            "ticks": "",
            "zerolinecolor": "white"
           }
          },
          "shapedefaults": {
           "line": {
            "color": "#2a3f5f"
           }
          },
          "ternary": {
           "aaxis": {
            "gridcolor": "white",
            "linecolor": "white",
            "ticks": ""
           },
           "baxis": {
            "gridcolor": "white",
            "linecolor": "white",
            "ticks": ""
           },
           "bgcolor": "#E5ECF6",
           "caxis": {
            "gridcolor": "white",
            "linecolor": "white",
            "ticks": ""
           }
          },
          "title": {
           "x": 0.05
          },
          "xaxis": {
           "automargin": true,
           "gridcolor": "white",
           "linecolor": "white",
           "ticks": "",
           "title": {
            "standoff": 15
           },
           "zerolinecolor": "white",
           "zerolinewidth": 2
          },
          "yaxis": {
           "automargin": true,
           "gridcolor": "white",
           "linecolor": "white",
           "ticks": "",
           "title": {
            "standoff": 15
           },
           "zerolinecolor": "white",
           "zerolinewidth": 2
          }
         }
        },
        "title": {},
        "updatemenus": [
         {
          "buttons": [
           {
            "args": [
             null,
             {
              "frame": {
               "duration": 500,
               "redraw": true
              },
              "fromcurrent": true,
              "mode": "immediate",
              "transition": {
               "duration": 500,
               "easing": "linear"
              }
             }
            ],
            "label": "&#9654;",
            "method": "animate"
           },
           {
            "args": [
             [
              null
             ],
             {
              "frame": {
               "duration": 0,
               "redraw": true
              },
              "fromcurrent": true,
              "mode": "immediate",
              "transition": {
               "duration": 0,
               "easing": "linear"
              }
             }
            ],
            "label": "&#9724;",
            "method": "animate"
           }
          ],
          "direction": "left",
          "pad": {
           "r": 10,
           "t": 70
          },
          "showactive": false,
          "type": "buttons",
          "x": 0.1,
          "xanchor": "right",
          "y": 0,
          "yanchor": "top"
         }
        ],
        "width": 700,
        "xaxis": {
         "anchor": "y",
         "domain": [
          0,
          1
         ],
         "gridcolor": "#CCCCCC",
         "linecolor": "black",
         "showgrid": true,
         "title": {
          "text": "x"
         },
         "type": "-",
         "zerolinecolor": "#AAAAAA"
        },
        "yaxis": {
         "anchor": "x",
         "domain": [
          0,
          1
         ],
         "gridcolor": "#CCCCCC",
         "linecolor": "black",
         "showgrid": true,
         "title": {
          "text": "y"
         },
         "type": "-",
         "zerolinecolor": "#AAAAAA"
        }
       }
      }
     },
     "metadata": {},
     "output_type": "display_data"
    }
   ],
   "source": [
    "import plotly.express as px\n",
    "\n",
    "fig = px.bar(df.groupby(['cat_5_0','month',  'cat_30_0'])['date'].count().reset_index(), \n",
    "            x=\"date\", y=\"cat_5_0\", animation_frame=\"month\",\n",
    "            color=\"cat_30_0\", \n",
    "            color_discrete_sequence=px.colors.qualitative.Vivid_r, barmode='relative', orientation='h', title='x', subtitle='X')\n",
    "\n",
    "plotlymodex.main_layout(fig, barmode='group')"
   ]
  },
  {
   "cell_type": "code",
   "execution_count": null,
   "id": "6b5c0425",
   "metadata": {},
   "outputs": [],
   "source": []
  },
  {
   "cell_type": "markdown",
   "id": "1a9309e3",
   "metadata": {},
   "source": [
    "### PK"
   ]
  },
  {
   "cell_type": "code",
   "execution_count": 7,
   "id": "33b61e20",
   "metadata": {},
   "outputs": [],
   "source": [
    "time_points = [0, 0.17, 0.33, 0.5, 0.75, 1, 1.5, 2, 2.5, 3, 4, 6, 8, 10, 12, 24]\n",
    "\n",
    "# Subjects\n",
    "columns = ['A', 'B', 'C', 'D', 'E', 'F', 'G', 'H', 'I', 'J', 'K', 'L']\n",
    "\n",
    "# Plasma concentrations for each subject over time\n",
    "data = [\n",
    "    [0, 0, 0, 0, 0, 0, 0, 0, 0, 0, 0, 0],\n",
    "    [571.7, 229.4, 52.8, 233.2, 220.5, 259.9, 13.4, 18.1, 83.1, 211.1, 143.3, 95.5],\n",
    "    [780.0, 243.6, 68.0, 241.4, 300.3, 358.2, 9.0, 28.1, 140.6, 329.1, 321.6, 385.4],\n",
    "    [629.3, 206.9, 138.8, 218.8, 560.0, 231.9, 219.0, 40.3, 336.8, 844.9, 386.5, 323.8],\n",
    "    [551.7, 153.4, 148.6, 198.9, 501.7, 184.4, 134.2, 30.1, 259.9, 668.7, 330.6, 226.2],\n",
    "    [432.0, 140.0, 164.6, 169.8, 310.6, 155.7, 30.1, 168.3, 222.4, 542.4, 409.6, 197.0],\n",
    "    [361.9, 152.0, 143.6, 196.7, 333.7, 148.6, 267.9, 264.7, 200.4, 456.6, 342.5, 170.0],\n",
    "    [352.6, 184.9, 131.7, 232.4, 318.8, 223.5, 221.3, 247.8, 234.4, 301.6, 342.5, 180.6],\n",
    "    [302.6, 248.3, 144.4, 249.6, 307.8, 207.3, 253.1, 343.9, 276.9, 336.5, 273.3, 187.4],\n",
    "    [329.7, 264.9, 154.9, 228.8, 387.4, 315.8, 301.4, 328.1, 329.2, 291.2, 217.6, 209.5],\n",
    "    [244.5, 209.9, 166.2, 201.3, 434.1, 220.7, 204.6, 270.8, 280.1, 216.2, 200.8, 339.0],\n",
    "    [120.7, 162.2, 117.6, 147.7, 311.8, 136.9, 132.5, 152.8, 214.5, 128.1, 132.0, 182.0],\n",
    "    [63.0, 137.5, 109.1, 114.8, 270.4, 93.9, 90.2, 105.0, 188.6, 102.8, 90.0, 148.2],\n",
    "    [31.7, 127.4, 95.5, 5.1, 109.5, 50.1, 29.2, 76.6, 122.6, 86.0, 59.5, 50.7],\n",
    "    [11.6, 97.0, 80.5, 33.4, 111.4, 47.2, 39.6, 49.6, 88.8, 46.4, 41.9, 91.1],\n",
    "    [0.0, 45.7, 43.2, 1.3, 31.1, 16.3, 17.8, 31.3, 38.7, 32.0, 18.7, 17.5],\n",
    "]\n",
    "\n",
    "# Create the DataFrame\n",
    "df = pd.DataFrame(data, columns=columns)\n",
    "df.insert(0, \"t\", time_points)"
   ]
  },
  {
   "cell_type": "code",
   "execution_count": 8,
   "id": "242fa999",
   "metadata": {},
   "outputs": [
    {
     "data": {
      "application/vnd.plotly.v1+json": {
       "config": {
        "plotlyServerURL": "https://plot.ly"
       },
       "data": [
        {
         "hovertemplate": "x: %{x}<br>y: %{y}",
         "line": {
          "color": "#d1d1d1"
         },
         "name": "B",
         "type": "scatter",
         "x": {
          "bdata": "AAAAAAAAAADD9Shcj8LFPx+F61G4HtU/AAAAAAAA4D8AAAAAAADoPwAAAAAAAPA/AAAAAAAA+D8AAAAAAAAAQAAAAAAAAARAAAAAAAAACEAAAAAAAAAQQAAAAAAAABhAAAAAAAAAIEAAAAAAAAAkQAAAAAAAAChAAAAAAAAAOEA=",
          "dtype": "f8"
         },
         "y": {
          "bdata": "AAAAAAAAAADNzMzMzKxsQDMzMzMzc25AzczMzMzcaUDNzMzMzCxjQAAAAAAAgGFAAAAAAAAAY0DNzMzMzBxnQJqZmZmZCW9AZmZmZmaOcEDNzMzMzDxqQGZmZmZmRmRAAAAAAAAwYUCamZmZmdlfQAAAAAAAQFhAmpmZmZnZRkA=",
          "dtype": "f8"
         }
        },
        {
         "hovertemplate": "x: %{x}<br>y: %{y}",
         "line": {
          "color": "#a0a0a0"
         },
         "name": "E",
         "type": "scatter",
         "x": {
          "bdata": "AAAAAAAAAADD9Shcj8LFPx+F61G4HtU/AAAAAAAA4D8AAAAAAADoPwAAAAAAAPA/AAAAAAAA+D8AAAAAAAAAQAAAAAAAAARAAAAAAAAACEAAAAAAAAAQQAAAAAAAABhAAAAAAAAAIEAAAAAAAAAkQAAAAAAAAChAAAAAAAAAOEA=",
          "dtype": "f8"
         },
         "y": {
          "bdata": "AAAAAAAAAAAAAAAAAJBrQM3MzMzMxHJAAAAAAACAgUAzMzMzM1t/QJqZmZmZaXNAMzMzMzPbdEDNzMzMzOxzQM3MzMzMPHNAZmZmZmY2eECamZmZmSF7QM3MzMzMfHNAZmZmZmbmcEAAAAAAAGBbQJqZmZmZ2VtAmpmZmZkZP0A=",
          "dtype": "f8"
         }
        },
        {
         "hovertemplate": "x: %{x}<br>y: %{y}",
         "line": {
          "color": "#707070"
         },
         "name": "F",
         "type": "scatter",
         "x": {
          "bdata": "AAAAAAAAAADD9Shcj8LFPx+F61G4HtU/AAAAAAAA4D8AAAAAAADoPwAAAAAAAPA/AAAAAAAA+D8AAAAAAAAAQAAAAAAAAARAAAAAAAAACEAAAAAAAAAQQAAAAAAAABhAAAAAAAAAIEAAAAAAAAAkQAAAAAAAAChAAAAAAAAAOEA=",
          "dtype": "f8"
         },
         "y": {
          "bdata": "AAAAAAAAAABmZmZmZj5wQDMzMzMzY3ZAzczMzMz8bEDNzMzMzAxnQGZmZmZmdmNAMzMzMzOTYkAAAAAAAPBrQJqZmZmZ6WlAzczMzMy8c0BmZmZmZpZrQM3MzMzMHGFAmpmZmZl5V0DNzMzMzAxJQJqZmZmZmUdAzczMzMxMMEA=",
          "dtype": "f8"
         }
        },
        {
         "hovertemplate": "x: %{x}<br>y: %{y}",
         "line": {
          "color": "#404040"
         },
         "name": "I",
         "type": "scatter",
         "x": {
          "bdata": "AAAAAAAAAADD9Shcj8LFPx+F61G4HtU/AAAAAAAA4D8AAAAAAADoPwAAAAAAAPA/AAAAAAAA+D8AAAAAAAAAQAAAAAAAAARAAAAAAAAACEAAAAAAAAAQQAAAAAAAABhAAAAAAAAAIEAAAAAAAAAkQAAAAAAAAChAAAAAAAAAOEA=",
          "dtype": "f8"
         },
         "y": {
          "bdata": "AAAAAAAAAABmZmZmZsZUQDMzMzMzk2FAzczMzMwMdUBmZmZmZj5wQM3MzMzMzGtAzczMzMwMaUDNzMzMzExtQGZmZmZmTnFAMzMzMzOTdECamZmZmYFxQAAAAAAA0GpAMzMzMzOTZ0BmZmZmZqZeQDMzMzMzM1ZAmpmZmZlZQ0A=",
          "dtype": "f8"
         }
        },
        {
         "hovertemplate": "x: %{x}<br>y: %{y}",
         "line": {
          "color": "#0f0f0f"
         },
         "name": "L",
         "type": "scatter",
         "x": {
          "bdata": "AAAAAAAAAADD9Shcj8LFPx+F61G4HtU/AAAAAAAA4D8AAAAAAADoPwAAAAAAAPA/AAAAAAAA+D8AAAAAAAAAQAAAAAAAAARAAAAAAAAACEAAAAAAAAAQQAAAAAAAABhAAAAAAAAAIEAAAAAAAAAkQAAAAAAAAChAAAAAAAAAOEA=",
          "dtype": "f8"
         },
         "y": {
          "bdata": "AAAAAAAAAAAAAAAAAOBXQGZmZmZmFnhAzczMzMw8dEBmZmZmZkZsQAAAAAAAoGhAAAAAAABAZUAzMzMzM5NmQM3MzMzMbGdAAAAAAAAwakAAAAAAADB1QAAAAAAAwGZAZmZmZmaGYkCamZmZmVlJQGZmZmZmxlZAAAAAAACAMUA=",
          "dtype": "f8"
         }
        }
       ],
       "layout": {
        "height": 450,
        "legend": {
         "bgcolor": "#ffffff",
         "bordercolor": "#ffffff",
         "borderwidth": 1,
         "orientation": "v"
        },
        "paper_bgcolor": "white",
        "plot_bgcolor": "white",
        "showlegend": true,
        "template": {
         "data": {
          "bar": [
           {
            "error_x": {
             "color": "#2a3f5f"
            },
            "error_y": {
             "color": "#2a3f5f"
            },
            "marker": {
             "line": {
              "color": "#E5ECF6",
              "width": 0.5
             },
             "pattern": {
              "fillmode": "overlay",
              "size": 10,
              "solidity": 0.2
             }
            },
            "type": "bar"
           }
          ],
          "barpolar": [
           {
            "marker": {
             "line": {
              "color": "#E5ECF6",
              "width": 0.5
             },
             "pattern": {
              "fillmode": "overlay",
              "size": 10,
              "solidity": 0.2
             }
            },
            "type": "barpolar"
           }
          ],
          "carpet": [
           {
            "aaxis": {
             "endlinecolor": "#2a3f5f",
             "gridcolor": "white",
             "linecolor": "white",
             "minorgridcolor": "white",
             "startlinecolor": "#2a3f5f"
            },
            "baxis": {
             "endlinecolor": "#2a3f5f",
             "gridcolor": "white",
             "linecolor": "white",
             "minorgridcolor": "white",
             "startlinecolor": "#2a3f5f"
            },
            "type": "carpet"
           }
          ],
          "choropleth": [
           {
            "colorbar": {
             "outlinewidth": 0,
             "ticks": ""
            },
            "type": "choropleth"
           }
          ],
          "contour": [
           {
            "colorbar": {
             "outlinewidth": 0,
             "ticks": ""
            },
            "colorscale": [
             [
              0,
              "#0d0887"
             ],
             [
              0.1111111111111111,
              "#46039f"
             ],
             [
              0.2222222222222222,
              "#7201a8"
             ],
             [
              0.3333333333333333,
              "#9c179e"
             ],
             [
              0.4444444444444444,
              "#bd3786"
             ],
             [
              0.5555555555555556,
              "#d8576b"
             ],
             [
              0.6666666666666666,
              "#ed7953"
             ],
             [
              0.7777777777777778,
              "#fb9f3a"
             ],
             [
              0.8888888888888888,
              "#fdca26"
             ],
             [
              1,
              "#f0f921"
             ]
            ],
            "type": "contour"
           }
          ],
          "contourcarpet": [
           {
            "colorbar": {
             "outlinewidth": 0,
             "ticks": ""
            },
            "type": "contourcarpet"
           }
          ],
          "heatmap": [
           {
            "colorbar": {
             "outlinewidth": 0,
             "ticks": ""
            },
            "colorscale": [
             [
              0,
              "#0d0887"
             ],
             [
              0.1111111111111111,
              "#46039f"
             ],
             [
              0.2222222222222222,
              "#7201a8"
             ],
             [
              0.3333333333333333,
              "#9c179e"
             ],
             [
              0.4444444444444444,
              "#bd3786"
             ],
             [
              0.5555555555555556,
              "#d8576b"
             ],
             [
              0.6666666666666666,
              "#ed7953"
             ],
             [
              0.7777777777777778,
              "#fb9f3a"
             ],
             [
              0.8888888888888888,
              "#fdca26"
             ],
             [
              1,
              "#f0f921"
             ]
            ],
            "type": "heatmap"
           }
          ],
          "histogram": [
           {
            "marker": {
             "pattern": {
              "fillmode": "overlay",
              "size": 10,
              "solidity": 0.2
             }
            },
            "type": "histogram"
           }
          ],
          "histogram2d": [
           {
            "colorbar": {
             "outlinewidth": 0,
             "ticks": ""
            },
            "colorscale": [
             [
              0,
              "#0d0887"
             ],
             [
              0.1111111111111111,
              "#46039f"
             ],
             [
              0.2222222222222222,
              "#7201a8"
             ],
             [
              0.3333333333333333,
              "#9c179e"
             ],
             [
              0.4444444444444444,
              "#bd3786"
             ],
             [
              0.5555555555555556,
              "#d8576b"
             ],
             [
              0.6666666666666666,
              "#ed7953"
             ],
             [
              0.7777777777777778,
              "#fb9f3a"
             ],
             [
              0.8888888888888888,
              "#fdca26"
             ],
             [
              1,
              "#f0f921"
             ]
            ],
            "type": "histogram2d"
           }
          ],
          "histogram2dcontour": [
           {
            "colorbar": {
             "outlinewidth": 0,
             "ticks": ""
            },
            "colorscale": [
             [
              0,
              "#0d0887"
             ],
             [
              0.1111111111111111,
              "#46039f"
             ],
             [
              0.2222222222222222,
              "#7201a8"
             ],
             [
              0.3333333333333333,
              "#9c179e"
             ],
             [
              0.4444444444444444,
              "#bd3786"
             ],
             [
              0.5555555555555556,
              "#d8576b"
             ],
             [
              0.6666666666666666,
              "#ed7953"
             ],
             [
              0.7777777777777778,
              "#fb9f3a"
             ],
             [
              0.8888888888888888,
              "#fdca26"
             ],
             [
              1,
              "#f0f921"
             ]
            ],
            "type": "histogram2dcontour"
           }
          ],
          "mesh3d": [
           {
            "colorbar": {
             "outlinewidth": 0,
             "ticks": ""
            },
            "type": "mesh3d"
           }
          ],
          "parcoords": [
           {
            "line": {
             "colorbar": {
              "outlinewidth": 0,
              "ticks": ""
             }
            },
            "type": "parcoords"
           }
          ],
          "pie": [
           {
            "automargin": true,
            "type": "pie"
           }
          ],
          "scatter": [
           {
            "fillpattern": {
             "fillmode": "overlay",
             "size": 10,
             "solidity": 0.2
            },
            "type": "scatter"
           }
          ],
          "scatter3d": [
           {
            "line": {
             "colorbar": {
              "outlinewidth": 0,
              "ticks": ""
             }
            },
            "marker": {
             "colorbar": {
              "outlinewidth": 0,
              "ticks": ""
             }
            },
            "type": "scatter3d"
           }
          ],
          "scattercarpet": [
           {
            "marker": {
             "colorbar": {
              "outlinewidth": 0,
              "ticks": ""
             }
            },
            "type": "scattercarpet"
           }
          ],
          "scattergeo": [
           {
            "marker": {
             "colorbar": {
              "outlinewidth": 0,
              "ticks": ""
             }
            },
            "type": "scattergeo"
           }
          ],
          "scattergl": [
           {
            "marker": {
             "colorbar": {
              "outlinewidth": 0,
              "ticks": ""
             }
            },
            "type": "scattergl"
           }
          ],
          "scattermap": [
           {
            "marker": {
             "colorbar": {
              "outlinewidth": 0,
              "ticks": ""
             }
            },
            "type": "scattermap"
           }
          ],
          "scattermapbox": [
           {
            "marker": {
             "colorbar": {
              "outlinewidth": 0,
              "ticks": ""
             }
            },
            "type": "scattermapbox"
           }
          ],
          "scatterpolar": [
           {
            "marker": {
             "colorbar": {
              "outlinewidth": 0,
              "ticks": ""
             }
            },
            "type": "scatterpolar"
           }
          ],
          "scatterpolargl": [
           {
            "marker": {
             "colorbar": {
              "outlinewidth": 0,
              "ticks": ""
             }
            },
            "type": "scatterpolargl"
           }
          ],
          "scatterternary": [
           {
            "marker": {
             "colorbar": {
              "outlinewidth": 0,
              "ticks": ""
             }
            },
            "type": "scatterternary"
           }
          ],
          "surface": [
           {
            "colorbar": {
             "outlinewidth": 0,
             "ticks": ""
            },
            "colorscale": [
             [
              0,
              "#0d0887"
             ],
             [
              0.1111111111111111,
              "#46039f"
             ],
             [
              0.2222222222222222,
              "#7201a8"
             ],
             [
              0.3333333333333333,
              "#9c179e"
             ],
             [
              0.4444444444444444,
              "#bd3786"
             ],
             [
              0.5555555555555556,
              "#d8576b"
             ],
             [
              0.6666666666666666,
              "#ed7953"
             ],
             [
              0.7777777777777778,
              "#fb9f3a"
             ],
             [
              0.8888888888888888,
              "#fdca26"
             ],
             [
              1,
              "#f0f921"
             ]
            ],
            "type": "surface"
           }
          ],
          "table": [
           {
            "cells": {
             "fill": {
              "color": "#EBF0F8"
             },
             "line": {
              "color": "white"
             }
            },
            "header": {
             "fill": {
              "color": "#C8D4E3"
             },
             "line": {
              "color": "white"
             }
            },
            "type": "table"
           }
          ]
         },
         "layout": {
          "annotationdefaults": {
           "arrowcolor": "#2a3f5f",
           "arrowhead": 0,
           "arrowwidth": 1
          },
          "autotypenumbers": "strict",
          "coloraxis": {
           "colorbar": {
            "outlinewidth": 0,
            "ticks": ""
           }
          },
          "colorscale": {
           "diverging": [
            [
             0,
             "#8e0152"
            ],
            [
             0.1,
             "#c51b7d"
            ],
            [
             0.2,
             "#de77ae"
            ],
            [
             0.3,
             "#f1b6da"
            ],
            [
             0.4,
             "#fde0ef"
            ],
            [
             0.5,
             "#f7f7f7"
            ],
            [
             0.6,
             "#e6f5d0"
            ],
            [
             0.7,
             "#b8e186"
            ],
            [
             0.8,
             "#7fbc41"
            ],
            [
             0.9,
             "#4d9221"
            ],
            [
             1,
             "#276419"
            ]
           ],
           "sequential": [
            [
             0,
             "#0d0887"
            ],
            [
             0.1111111111111111,
             "#46039f"
            ],
            [
             0.2222222222222222,
             "#7201a8"
            ],
            [
             0.3333333333333333,
             "#9c179e"
            ],
            [
             0.4444444444444444,
             "#bd3786"
            ],
            [
             0.5555555555555556,
             "#d8576b"
            ],
            [
             0.6666666666666666,
             "#ed7953"
            ],
            [
             0.7777777777777778,
             "#fb9f3a"
            ],
            [
             0.8888888888888888,
             "#fdca26"
            ],
            [
             1,
             "#f0f921"
            ]
           ],
           "sequentialminus": [
            [
             0,
             "#0d0887"
            ],
            [
             0.1111111111111111,
             "#46039f"
            ],
            [
             0.2222222222222222,
             "#7201a8"
            ],
            [
             0.3333333333333333,
             "#9c179e"
            ],
            [
             0.4444444444444444,
             "#bd3786"
            ],
            [
             0.5555555555555556,
             "#d8576b"
            ],
            [
             0.6666666666666666,
             "#ed7953"
            ],
            [
             0.7777777777777778,
             "#fb9f3a"
            ],
            [
             0.8888888888888888,
             "#fdca26"
            ],
            [
             1,
             "#f0f921"
            ]
           ]
          },
          "colorway": [
           "#636efa",
           "#EF553B",
           "#00cc96",
           "#ab63fa",
           "#FFA15A",
           "#19d3f3",
           "#FF6692",
           "#B6E880",
           "#FF97FF",
           "#FECB52"
          ],
          "font": {
           "color": "#2a3f5f"
          },
          "geo": {
           "bgcolor": "white",
           "lakecolor": "white",
           "landcolor": "#E5ECF6",
           "showlakes": true,
           "showland": true,
           "subunitcolor": "white"
          },
          "hoverlabel": {
           "align": "left"
          },
          "hovermode": "closest",
          "mapbox": {
           "style": "light"
          },
          "paper_bgcolor": "white",
          "plot_bgcolor": "#E5ECF6",
          "polar": {
           "angularaxis": {
            "gridcolor": "white",
            "linecolor": "white",
            "ticks": ""
           },
           "bgcolor": "#E5ECF6",
           "radialaxis": {
            "gridcolor": "white",
            "linecolor": "white",
            "ticks": ""
           }
          },
          "scene": {
           "xaxis": {
            "backgroundcolor": "#E5ECF6",
            "gridcolor": "white",
            "gridwidth": 2,
            "linecolor": "white",
            "showbackground": true,
            "ticks": "",
            "zerolinecolor": "white"
           },
           "yaxis": {
            "backgroundcolor": "#E5ECF6",
            "gridcolor": "white",
            "gridwidth": 2,
            "linecolor": "white",
            "showbackground": true,
            "ticks": "",
            "zerolinecolor": "white"
           },
           "zaxis": {
            "backgroundcolor": "#E5ECF6",
            "gridcolor": "white",
            "gridwidth": 2,
            "linecolor": "white",
            "showbackground": true,
            "ticks": "",
            "zerolinecolor": "white"
           }
          },
          "shapedefaults": {
           "line": {
            "color": "#2a3f5f"
           }
          },
          "ternary": {
           "aaxis": {
            "gridcolor": "white",
            "linecolor": "white",
            "ticks": ""
           },
           "baxis": {
            "gridcolor": "white",
            "linecolor": "white",
            "ticks": ""
           },
           "bgcolor": "#E5ECF6",
           "caxis": {
            "gridcolor": "white",
            "linecolor": "white",
            "ticks": ""
           }
          },
          "title": {
           "x": 0.05
          },
          "xaxis": {
           "automargin": true,
           "gridcolor": "white",
           "linecolor": "white",
           "ticks": "",
           "title": {
            "standoff": 15
           },
           "zerolinecolor": "white",
           "zerolinewidth": 2
          },
          "yaxis": {
           "automargin": true,
           "gridcolor": "white",
           "linecolor": "white",
           "ticks": "",
           "title": {
            "standoff": 15
           },
           "zerolinecolor": "white",
           "zerolinewidth": 2
          }
         }
        },
        "title": {
         "text": "Veralipride Plasma Concentration"
        },
        "width": 900,
        "xaxis": {
         "gridcolor": "#CCCCCC",
         "linecolor": "black",
         "showgrid": true,
         "title": {
          "text": "t [h]"
         },
         "type": "-",
         "zerolinecolor": "#AAAAAA"
        },
        "yaxis": {
         "gridcolor": "#CCCCCC",
         "linecolor": "black",
         "showgrid": true,
         "title": {
          "text": "C [ng/mL]"
         },
         "type": "-",
         "zerolinecolor": "#AAAAAA"
        }
       }
      }
     },
     "metadata": {},
     "output_type": "display_data"
    }
   ],
   "source": [
    "subjects = ['B', 'E', 'F', 'I', 'L']\n",
    "num_subjects = len(subjects)\n",
    "\n",
    "grayscale_colors = plotlymodex.list_colors(n=len(subjects), colors=['#d1d1d1', '#0f0f0f'])\n",
    "\n",
    "fig = go.Figure()\n",
    "\n",
    "for subject, color in zip(subjects, grayscale_colors):\n",
    "    fig.add_trace(go.Scatter(\n",
    "        x=df.t, y=df[f'{subject}'], name=subject,\n",
    "        line=dict(color=color)\n",
    "    ))\n",
    "\n",
    "plotlymodex.main_layout(\n",
    "    fig, title='Veralipride Plasma Concentration', width=900, height=450,\n",
    "    x='t [h]', y='C [ng/mL]', \n",
    ")"
   ]
  }
 ],
 "metadata": {
  "kernelspec": {
   "display_name": "env",
   "language": "python",
   "name": "python3"
  },
  "language_info": {
   "codemirror_mode": {
    "name": "ipython",
    "version": 3
   },
   "file_extension": ".py",
   "mimetype": "text/x-python",
   "name": "python",
   "nbconvert_exporter": "python",
   "pygments_lexer": "ipython3",
   "version": "3.12.6"
  }
 },
 "nbformat": 4,
 "nbformat_minor": 5
}
